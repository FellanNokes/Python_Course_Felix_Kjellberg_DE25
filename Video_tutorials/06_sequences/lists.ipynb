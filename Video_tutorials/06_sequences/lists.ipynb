{
 "cells": [
  {
   "cell_type": "markdown",
   "id": "e44b3470",
   "metadata": {},
   "source": [
    "# Lists"
   ]
  },
  {
   "cell_type": "code",
   "execution_count": 8,
   "id": "721dd7b6",
   "metadata": {},
   "outputs": [
    {
     "data": {
      "text/plain": [
       "['Antique show', 'Master chef', 'News', 'Talent']"
      ]
     },
     "execution_count": 8,
     "metadata": {},
     "output_type": "execute_result"
    }
   ],
   "source": [
    "tv_shows = [\"Antique show\", \"Master chef\", \"News\", \"Talent\"]\n",
    "\n",
    "tv_shows"
   ]
  },
  {
   "cell_type": "code",
   "execution_count": 2,
   "id": "ae6426fe",
   "metadata": {},
   "outputs": [
    {
     "data": {
      "text/plain": [
       "'Antique show'"
      ]
     },
     "execution_count": 2,
     "metadata": {},
     "output_type": "execute_result"
    }
   ],
   "source": [
    "tv_shows[0]"
   ]
  },
  {
   "cell_type": "code",
   "execution_count": 3,
   "id": "544b2b16",
   "metadata": {},
   "outputs": [
    {
     "data": {
      "text/plain": [
       "'w'"
      ]
     },
     "execution_count": 3,
     "metadata": {},
     "output_type": "execute_result"
    }
   ],
   "source": [
    "tv_shows[0][-1]"
   ]
  },
  {
   "cell_type": "code",
   "execution_count": 4,
   "id": "68776cbf",
   "metadata": {},
   "outputs": [
    {
     "data": {
      "text/plain": [
       "['Master chef', 'News']"
      ]
     },
     "execution_count": 4,
     "metadata": {},
     "output_type": "execute_result"
    }
   ],
   "source": [
    "tv_shows[1:3]"
   ]
  },
  {
   "cell_type": "code",
   "execution_count": 5,
   "id": "796aa438",
   "metadata": {},
   "outputs": [
    {
     "data": {
      "text/plain": [
       "'Talent'"
      ]
     },
     "execution_count": 5,
     "metadata": {},
     "output_type": "execute_result"
    }
   ],
   "source": [
    "tv_shows[-1]"
   ]
  },
  {
   "cell_type": "markdown",
   "id": "fa3f3bc7",
   "metadata": {},
   "source": [
    "## Iterate through list with for"
   ]
  },
  {
   "cell_type": "code",
   "execution_count": 11,
   "id": "1cc95952",
   "metadata": {},
   "outputs": [
    {
     "name": "stdout",
     "output_type": "stream",
     "text": [
      "Antique show\n",
      "Master chef\n",
      "News\n",
      "Talent\n"
     ]
    }
   ],
   "source": [
    "for tv_show in tv_shows:\n",
    "    print(tv_show)"
   ]
  },
  {
   "cell_type": "code",
   "execution_count": 13,
   "id": "d42ac936",
   "metadata": {},
   "outputs": [
    {
     "name": "stdout",
     "output_type": "stream",
     "text": [
      "1 Antique show\n",
      "2 Master chef\n",
      "3 News\n",
      "4 Talent\n"
     ]
    }
   ],
   "source": [
    "for i ,tv_show in enumerate(tv_shows,1):\n",
    "    print(i, tv_show)"
   ]
  },
  {
   "cell_type": "markdown",
   "id": "0208c6c4",
   "metadata": {},
   "source": [
    "## mutate list"
   ]
  },
  {
   "cell_type": "code",
   "execution_count": 14,
   "id": "b302c791",
   "metadata": {},
   "outputs": [
    {
     "data": {
      "text/plain": [
       "['Antique show', 'Master chef', 'News', 'pokemon']"
      ]
     },
     "execution_count": 14,
     "metadata": {},
     "output_type": "execute_result"
    }
   ],
   "source": [
    "tv_shows[-1] = \"pokemon\"\n",
    "tv_shows"
   ]
  },
  {
   "cell_type": "code",
   "execution_count": 16,
   "id": "5aecae64",
   "metadata": {},
   "outputs": [
    {
     "data": {
      "text/plain": [
       "['Yu gi oh', 'Master chef', 'News', 'pokemon']"
      ]
     },
     "execution_count": 16,
     "metadata": {},
     "output_type": "execute_result"
    }
   ],
   "source": [
    "tv_shows[0] = \"Yu gi oh\"\n",
    "tv_shows"
   ]
  },
  {
   "cell_type": "code",
   "execution_count": 19,
   "id": "665a7998",
   "metadata": {},
   "outputs": [
    {
     "data": {
      "text/plain": [
       "['Master chef', 'News', 'Yu gi oh', 'pokemon']"
      ]
     },
     "execution_count": 19,
     "metadata": {},
     "output_type": "execute_result"
    }
   ],
   "source": [
    "tv_shows.sort()\n",
    "tv_shows"
   ]
  },
  {
   "cell_type": "markdown",
   "id": "4de33a6d",
   "metadata": {},
   "source": []
  },
  {
   "cell_type": "markdown",
   "id": "a6b92d17",
   "metadata": {},
   "source": [
    "## list comprehension"
   ]
  },
  {
   "cell_type": "code",
   "execution_count": 20,
   "id": "34f55f6f",
   "metadata": {},
   "outputs": [
    {
     "data": {
      "text/plain": [
       "[0, 1, 8, 27, 64, 125, 216, 343, 512, 729]"
      ]
     },
     "execution_count": 20,
     "metadata": {},
     "output_type": "execute_result"
    }
   ],
   "source": [
    "cubes = [x**3 for x in range(10)]\n",
    "cubes"
   ]
  },
  {
   "cell_type": "code",
   "execution_count": 21,
   "id": "8305f40f",
   "metadata": {},
   "outputs": [
    {
     "data": {
      "text/plain": [
       "[36, 49, 64, 81]"
      ]
     },
     "execution_count": 21,
     "metadata": {},
     "output_type": "execute_result"
    }
   ],
   "source": [
    "[x**2 for x in range(10) if x**2 > 25]"
   ]
  },
  {
   "cell_type": "markdown",
   "id": "808b2c31",
   "metadata": {},
   "source": [
    "## plot graph"
   ]
  },
  {
   "cell_type": "code",
   "execution_count": 24,
   "id": "9c701ef2",
   "metadata": {},
   "outputs": [
    {
     "data": {
      "text/plain": [
       "[0, 1, 2, 3, 4, 5, 6, 7, 8, 9]"
      ]
     },
     "execution_count": 24,
     "metadata": {},
     "output_type": "execute_result"
    }
   ],
   "source": [
    "import matplotlib.pyplot as plt\n",
    "\n",
    "x = list(range(10))\n",
    "x"
   ]
  },
  {
   "cell_type": "code",
   "execution_count": 25,
   "id": "3e1985a8",
   "metadata": {},
   "outputs": [
    {
     "data": {
      "text/plain": [
       "[2, 4, 6, 8, 10, 12, 14, 16, 18, 20]"
      ]
     },
     "execution_count": 25,
     "metadata": {},
     "output_type": "execute_result"
    }
   ],
   "source": [
    "k = 2\n",
    "m = 2\n",
    "y = [k*x + m for x in x]\n",
    "y"
   ]
  },
  {
   "cell_type": "code",
   "execution_count": 29,
   "id": "50ce600c",
   "metadata": {},
   "outputs": [
    {
     "data": {
      "text/plain": [
       "Text(0.5, 1.0, 'Plot y = 2x+2')"
      ]
     },
     "execution_count": 29,
     "metadata": {},
     "output_type": "execute_result"
    },
    {
     "data": {
      "image/png": "[encoded data removed]",
      "text/plain": [
       "<Figure size 640x480 with 1 Axes>"
      ]
     },
     "metadata": {},
     "output_type": "display_data"
    }
   ],
   "source": [
    "plt.plot(x,y, 'o--')\n",
    "plt.title(\"Plot y = 2x+2\")"
   ]
  },
  {
   "cell_type": "markdown",
   "id": "f7cae3ba",
   "metadata": {},
   "source": []
  }
 ],
 "metadata": {
  "kernelspec": {
   "display_name": ".venv (3.12.10)",
   "language": "python",
   "name": "python3"
  },
  "language_info": {
   "codemirror_mode": {
    "name": "ipython",
    "version": 3
   },
   "file_extension": ".py",
   "mimetype": "text/x-python",
   "name": "python",
   "nbconvert_exporter": "python",
   "pygments_lexer": "ipython3",
   "version": "3.12.10"
  }
 },
 "nbformat": 4,
 "nbformat_minor": 5
}
