{
 "cells": [
  {
   "cell_type": "markdown",
   "id": "f6f7c836",
   "metadata": {},
   "source": [
    "# Sets"
   ]
  },
  {
   "cell_type": "code",
   "execution_count": 1,
   "id": "f65a8b5d",
   "metadata": {},
   "outputs": [
    {
     "data": {
      "text/plain": [
       "['anna@example.com',\n",
       " 'bob@example.com',\n",
       " 'anna@example.com',\n",
       " 'carla@example.com',\n",
       " 'bob@example.com']"
      ]
     },
     "execution_count": 1,
     "metadata": {},
     "output_type": "execute_result"
    }
   ],
   "source": [
    "emails = [\n",
    "    \"anna@example.com\", \"bob@example.com\", \"anna@example.com\", \"carla@example.com\", \"bob@example.com\"\n",
    "]\n",
    "emails"
   ]
  },
  {
   "cell_type": "code",
   "execution_count": 2,
   "id": "4b758200",
   "metadata": {},
   "outputs": [
    {
     "data": {
      "text/plain": [
       "{'anna@example.com', 'bob@example.com', 'carla@example.com'}"
      ]
     },
     "execution_count": 2,
     "metadata": {},
     "output_type": "execute_result"
    }
   ],
   "source": [
    "set(emails)"
   ]
  },
  {
   "cell_type": "code",
   "execution_count": 3,
   "id": "86ec89ea",
   "metadata": {},
   "outputs": [
    {
     "data": {
      "text/plain": [
       "['carla@example.com', 'bob@example.com', 'anna@example.com']"
      ]
     },
     "execution_count": 3,
     "metadata": {},
     "output_type": "execute_result"
    }
   ],
   "source": [
    "list(set(emails))"
   ]
  },
  {
   "cell_type": "markdown",
   "id": "3771edc3",
   "metadata": {},
   "source": [
    "## mathematical set operations\n",
    "\n",
    "- union\n",
    "- intersection\n",
    "- except"
   ]
  },
  {
   "cell_type": "code",
   "execution_count": null,
   "id": "18fbd4b0",
   "metadata": {},
   "outputs": [
    {
     "data": {
      "text/plain": [
       "{'carla', 'daniel'}"
      ]
     },
     "execution_count": 1,
     "metadata": {},
     "output_type": "execute_result"
    }
   ],
   "source": [
    "first_month_customers = {\"alice\", \"bob\", \"carla\", \"daniel\"}\n",
    "second_month_customers = {\"carla\", \"daniel\", \"elena\"}\n",
    "\n",
    "returning_cumstomers = first_month_customers.intersection(second_month_customers)"
   ]
  },
  {
   "cell_type": "code",
   "execution_count": 3,
   "id": "448d8982",
   "metadata": {},
   "outputs": [
    {
     "data": {
      "text/plain": [
       "{'alice', 'bob', 'carla', 'daniel', 'elena'}"
      ]
     },
     "execution_count": 3,
     "metadata": {},
     "output_type": "execute_result"
    }
   ],
   "source": [
    "all_customers = first_month_customers.union(second_month_customers)\n",
    "all_customers"
   ]
  },
  {
   "cell_type": "markdown",
   "id": "1d1ae4a1",
   "metadata": {},
   "source": [
    "Combine union and except intersection"
   ]
  },
  {
   "cell_type": "code",
   "execution_count": 4,
   "id": "d1ef4a79",
   "metadata": {},
   "outputs": [
    {
     "data": {
      "text/plain": [
       "{'alice', 'bob', 'elena'}"
      ]
     },
     "execution_count": 4,
     "metadata": {},
     "output_type": "execute_result"
    }
   ],
   "source": [
    "one_time_customers = first_month_customers.union(second_month_customers) - first_month_customers.intersection(second_month_customers)\n",
    "one_time_customers"
   ]
  },
  {
   "cell_type": "code",
   "execution_count": 5,
   "id": "94c4359c",
   "metadata": {},
   "outputs": [
    {
     "data": {
      "text/plain": [
       "{'alice', 'bob', 'carla', 'daniel'}"
      ]
     },
     "execution_count": 5,
     "metadata": {},
     "output_type": "execute_result"
    }
   ],
   "source": [
    "first_month_customers"
   ]
  },
  {
   "cell_type": "code",
   "execution_count": 7,
   "id": "e0d77453",
   "metadata": {},
   "outputs": [
    {
     "data": {
      "text/plain": [
       "{'carla', 'daniel', 'elena'}"
      ]
     },
     "execution_count": 7,
     "metadata": {},
     "output_type": "execute_result"
    }
   ],
   "source": [
    "second_month_customers"
   ]
  },
  {
   "cell_type": "markdown",
   "id": "f8bad4ea",
   "metadata": {},
   "source": [
    "sets have no orders"
   ]
  },
  {
   "cell_type": "code",
   "execution_count": 8,
   "id": "15b00204",
   "metadata": {},
   "outputs": [
    {
     "data": {
      "text/plain": [
       "['bob', 'elena', 'daniel', 'alice', 'carla']"
      ]
     },
     "execution_count": 8,
     "metadata": {},
     "output_type": "execute_result"
    }
   ],
   "source": [
    "list(all_customers)"
   ]
  },
  {
   "cell_type": "code",
   "execution_count": 9,
   "id": "d0164547",
   "metadata": {},
   "outputs": [
    {
     "data": {
      "text/plain": [
       "('bob', 'elena', 'daniel', 'alice', 'carla')"
      ]
     },
     "execution_count": 9,
     "metadata": {},
     "output_type": "execute_result"
    }
   ],
   "source": [
    "tuple(all_customers)"
   ]
  },
  {
   "cell_type": "code",
   "execution_count": null,
   "id": "3f8345a9",
   "metadata": {},
   "outputs": [],
   "source": []
  }
 ],
 "metadata": {
  "kernelspec": {
   "display_name": ".venv (3.12.10)",
   "language": "python",
   "name": "python3"
  },
  "language_info": {
   "codemirror_mode": {
    "name": "ipython",
    "version": 3
   },
   "file_extension": ".py",
   "mimetype": "text/x-python",
   "name": "python",
   "nbconvert_exporter": "python",
   "pygments_lexer": "ipython3",
   "version": "3.12.10"
  }
 },
 "nbformat": 4,
 "nbformat_minor": 5
}
