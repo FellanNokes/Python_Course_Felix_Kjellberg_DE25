{
 "cells": [
  {
   "cell_type": "markdown",
   "id": "bc8b9ea2",
   "metadata": {},
   "source": [
    "# while statements"
   ]
  },
  {
   "cell_type": "code",
   "execution_count": 4,
   "id": "8e6824f9",
   "metadata": {},
   "outputs": [
    {
     "name": "stdout",
     "output_type": "stream",
     "text": [
      "Helle 0\n",
      "Helle 1\n",
      "Helle 2\n",
      "Helle 3\n",
      "Helle 4\n"
     ]
    }
   ],
   "source": [
    "n = 0\n",
    "\n",
    "while n < 5:\n",
    "    print(f\"Helle {n}\")\n",
    "    n += 1 # n = n + 1\n",
    "    "
   ]
  },
  {
   "cell_type": "markdown",
   "id": "2a2e2c6b",
   "metadata": {},
   "source": [
    "# Example - oil leakage\n",
    "\n",
    "#### There is an oil leaking causing the bird population on an islad to 1/2 each year. From the start there were 80000 birds, how many years does it take for it to have 1/10 remaining"
   ]
  },
  {
   "cell_type": "code",
   "execution_count": 14,
   "id": "1285f03f",
   "metadata": {},
   "outputs": [
    {
     "name": "stdout",
     "output_type": "stream",
     "text": [
      "at year 0 there are 80000 remaining\n",
      "at year 1 there are 40000 remaining\n",
      "at year 2 there are 20000 remaining\n",
      "at year 3 there are 10000 remaining\n",
      "It takes 4 years for the birds to have less than 1/10th of population\n"
     ]
    }
   ],
   "source": [
    "birds = 80000\n",
    "year = 0\n",
    "\n",
    "while birds > 8000:\n",
    "    print (f\"at year {year} there are {birds:.0f} remaining\" )\n",
    "    birds /= 2\n",
    "    year += 1\n",
    "\n",
    "print (f\"It takes {year} years for the birds to have less than 1/10th of population\")\n",
    "    \n",
    "    "
   ]
  },
  {
   "cell_type": "markdown",
   "id": "26b0bdee",
   "metadata": {},
   "source": [
    "## break statement"
   ]
  },
  {
   "cell_type": "code",
   "execution_count": 25,
   "id": "98e94793",
   "metadata": {},
   "outputs": [
    {
     "name": "stdout",
     "output_type": "stream",
     "text": [
      "Thats correct, good job! your score is 1\n",
      "Thats correct, good job! your score is 2\n",
      "have a nice day you got 2 score in total\n"
     ]
    }
   ],
   "source": [
    "import random as rnd\n",
    "score = 0\n",
    "\n",
    "while True:\n",
    "    number1 = rnd.randint(1,10)\n",
    "    number2 = rnd.randint(1,10)\n",
    "    result = number1*number2\n",
    "\n",
    "    user_answer = int(input(f\"What is {number1}*{number2}\"))\n",
    "    if(user_answer == result):\n",
    "        score += 1\n",
    "        print(f\"Thats correct, good job! your score is {score}\")\n",
    "    else:\n",
    "        print(f\"thats is incorrect the answer is {result}\")\n",
    "\n",
    "    play_again = input(\"Wanna play again (y for yes)?\")\n",
    "\n",
    "    if play_again != \"y\":\n",
    "        print(f\"have a nice day you got {score} score in total\")\n",
    "        break"
   ]
  },
  {
   "cell_type": "code",
   "execution_count": null,
   "id": "c60d30c6",
   "metadata": {},
   "outputs": [],
   "source": []
  }
 ],
 "metadata": {
  "kernelspec": {
   "display_name": ".venv (3.12.10)",
   "language": "python",
   "name": "python3"
  },
  "language_info": {
   "codemirror_mode": {
    "name": "ipython",
    "version": 3
   },
   "file_extension": ".py",
   "mimetype": "text/x-python",
   "name": "python",
   "nbconvert_exporter": "python",
   "pygments_lexer": "ipython3",
   "version": "3.12.10"
  }
 },
 "nbformat": 4,
 "nbformat_minor": 5
}
