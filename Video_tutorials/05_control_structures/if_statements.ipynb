{
 "cells": [
  {
   "cell_type": "markdown",
   "id": "15ba320a",
   "metadata": {},
   "source": [
    "# If_statements"
   ]
  },
  {
   "cell_type": "code",
   "execution_count": 3,
   "id": "5a5c1838",
   "metadata": {},
   "outputs": [
    {
     "name": "stdout",
     "output_type": "stream",
     "text": [
      "Sorry, your to young to enter this bar\n",
      "Go home and drink soda instead\n"
     ]
    }
   ],
   "source": [
    "age = int(input(\"enter your age: \"))\n",
    "age_limit = 18\n",
    "\n",
    "if age < age_limit:\n",
    "    print(\"Sorry, your to young to enter this bar\")\n",
    "    print(\"Go home and drink soda instead\")\n",
    "else:\n",
    "    print(\"Enjoy your time at this bar\")\n",
    "    "
   ]
  },
  {
   "cell_type": "code",
   "execution_count": 7,
   "id": "a02d239b",
   "metadata": {},
   "outputs": [
    {
     "name": "stdout",
     "output_type": "stream",
     "text": [
      "your are to young\n"
     ]
    }
   ],
   "source": [
    "age = 10\n",
    "height = 209\n",
    "\n",
    "if age > 11 and 130 < height < 210:\n",
    "    print(\"welcome to roller coaster\")\n",
    "else:\n",
    "    if age < 11:\n",
    "        print(\"your are to young\")\n",
    "    if height < 130:\n",
    "        print(\"your are to short\")\n",
    "    if height >= 210:\n",
    "        print(\"you are to tall\")\n"
   ]
  },
  {
   "cell_type": "code",
   "execution_count": null,
   "id": "7f422c71",
   "metadata": {},
   "outputs": [],
   "source": [
    "age = 15\n",
    "height = 209\n",
    "\n",
    "if age > 11 and 130 <= height < 210:\n",
    "    print(\"welcome to roller coaster\")\n",
    "else:\n",
    "    print(\"Come back when you full requirements\")"
   ]
  },
  {
   "cell_type": "markdown",
   "id": "387e60d4",
   "metadata": {},
   "source": [
    "## modulo operator"
   ]
  },
  {
   "cell_type": "code",
   "execution_count": 9,
   "id": "244bd8f6",
   "metadata": {},
   "outputs": [
    {
     "name": "stdout",
     "output_type": "stream",
     "text": [
      "Odd number\n"
     ]
    }
   ],
   "source": [
    "number = 5\n",
    "if number % 2 == 0:\n",
    "    print (\"Even number\")\n",
    "else:\n",
    "    print (\"Odd number\")"
   ]
  },
  {
   "cell_type": "code",
   "execution_count": 10,
   "id": "3d4b4551",
   "metadata": {},
   "outputs": [
    {
     "name": "stdout",
     "output_type": "stream",
     "text": [
      "Even number\n"
     ]
    }
   ],
   "source": [
    "number = 50\n",
    "if number % 2 == 0:\n",
    "    print (\"Even number\")\n",
    "else:\n",
    "    print (\"Odd number\")"
   ]
  },
  {
   "cell_type": "markdown",
   "id": "064061a9",
   "metadata": {},
   "source": [
    "truthy and falsy values"
   ]
  },
  {
   "cell_type": "code",
   "execution_count": 13,
   "id": "555fdbe0",
   "metadata": {},
   "outputs": [
    {
     "name": "stdout",
     "output_type": "stream",
     "text": [
      "Even number\n"
     ]
    }
   ],
   "source": [
    "number = 50\n",
    "if not number % 2:\n",
    "    print (\"Even number\")\n",
    "else:\n",
    "    print (\"Odd number\")"
   ]
  },
  {
   "cell_type": "code",
   "execution_count": 14,
   "id": "f7e194bb",
   "metadata": {},
   "outputs": [
    {
     "name": "stdout",
     "output_type": "stream",
     "text": [
      "Odd number\n"
     ]
    }
   ],
   "source": [
    "number = 5\n",
    "if number %2:\n",
    "    print (\"Odd number\")\n",
    "else:\n",
    "    print (\"Even number\")"
   ]
  },
  {
   "cell_type": "code",
   "execution_count": 16,
   "id": "2fd86ff5",
   "metadata": {},
   "outputs": [
    {
     "name": "stdout",
     "output_type": "stream",
     "text": [
      "falsy\n"
     ]
    }
   ],
   "source": [
    "if []:\n",
    "    print(\"truthy\")\n",
    "else:\n",
    "    print(\"falsy\")"
   ]
  },
  {
   "cell_type": "code",
   "execution_count": 17,
   "id": "28fed514",
   "metadata": {},
   "outputs": [
    {
     "name": "stdout",
     "output_type": "stream",
     "text": [
      "truthy\n"
     ]
    }
   ],
   "source": [
    "if [3]:\n",
    "    print(\"truthy\")\n",
    "else:\n",
    "    print(\"falsy\")"
   ]
  },
  {
   "cell_type": "code",
   "execution_count": 18,
   "id": "ad061a48",
   "metadata": {},
   "outputs": [
    {
     "name": "stdout",
     "output_type": "stream",
     "text": [
      "falsy\n"
     ]
    }
   ],
   "source": [
    "if 0:\n",
    "    print(\"truthy\")\n",
    "else:\n",
    "    print(\"falsy\")"
   ]
  },
  {
   "cell_type": "code",
   "execution_count": 19,
   "id": "a63ca1ca",
   "metadata": {},
   "outputs": [
    {
     "name": "stdout",
     "output_type": "stream",
     "text": [
      "truthy\n"
     ]
    }
   ],
   "source": [
    "if -5:\n",
    "    print(\"truthy\")\n",
    "else:\n",
    "    print(\"falsy\")"
   ]
  },
  {
   "cell_type": "markdown",
   "id": "937861c2",
   "metadata": {},
   "source": [
    "# if-elif-else"
   ]
  },
  {
   "cell_type": "code",
   "execution_count": 20,
   "id": "45ebaa71",
   "metadata": {},
   "outputs": [
    {
     "name": "stdout",
     "output_type": "stream",
     "text": [
      "give patient 750mg\n"
     ]
    }
   ],
   "source": [
    "weight = 25\n",
    "\n",
    "if weight < 20:\n",
    "    print(\"give patient 500mg\")\n",
    "elif weight <40:\n",
    "    print(\"give patient 750mg\")\n",
    "else:\n",
    "    print(\"give patient 1000mg\")"
   ]
  },
  {
   "cell_type": "markdown",
   "id": "cb61a227",
   "metadata": {},
   "source": [
    "## nested if statements"
   ]
  },
  {
   "cell_type": "code",
   "execution_count": null,
   "id": "37606255",
   "metadata": {},
   "outputs": [],
   "source": [
    "number = 25\n",
    "if number % 5 == 0:\n",
    "    print (f\"{number} is divisble by 5\")\n",
    "    if number % 2 == 0:\n",
    "        print (f\"{number} is even\")\n",
    "    else:\n",
    "        print(f\"{number} is odd\")"
   ]
  },
  {
   "cell_type": "code",
   "execution_count": 23,
   "id": "13f320b9",
   "metadata": {},
   "outputs": [],
   "source": [
    "number = 26\n",
    "if number % 5 == 0:\n",
    "    print (f\"{number} is divisble by 5\")\n",
    "    if number % 2 == 0:\n",
    "        print (f\"{number} is even\")\n",
    "    else:\n",
    "        print(f\"{number} is odd\")"
   ]
  },
  {
   "cell_type": "markdown",
   "id": "04c73954",
   "metadata": {},
   "source": [
    "# one line if-statement"
   ]
  },
  {
   "cell_type": "code",
   "execution_count": 25,
   "id": "a9f63e09",
   "metadata": {},
   "outputs": [
    {
     "name": "stdout",
     "output_type": "stream",
     "text": [
      "Oliva contains the letter 'o'\n"
     ]
    }
   ],
   "source": [
    "name = \"Oliva\"\n",
    "gender = \"female\"\n",
    "age = 7\n",
    "\n",
    "# one line if\n",
    "if \"o\" in name.lower(): print (f\"{name} contains the letter 'o'\")"
   ]
  },
  {
   "cell_type": "code",
   "execution_count": null,
   "id": "779eec25",
   "metadata": {},
   "outputs": [],
   "source": [
    "name = \"Oliva\"\n",
    "gender = \"female\"\n",
    "age = 7\n",
    "\n",
    "# one line if\n",
    "if \"o\" in name.lower():\n",
    "    print (f\"{name} contains the letter 'o'\")"
   ]
  },
  {
   "cell_type": "code",
   "execution_count": 6,
   "id": "a74de534",
   "metadata": {},
   "outputs": [
    {
     "name": "stdout",
     "output_type": "stream",
     "text": [
      "Hi ms Oliva\n"
     ]
    }
   ],
   "source": [
    "name = \"Oliva\"\n",
    "gender = \"female\"\n",
    "age = 7\n",
    "print(f\"Hi mr {name}\") if gender == \"male\" else print(f\"Hi ms {name}\")"
   ]
  },
  {
   "cell_type": "code",
   "execution_count": 8,
   "id": "88afbdeb",
   "metadata": {},
   "outputs": [
    {
     "data": {
      "text/plain": [
       "True"
      ]
     },
     "execution_count": 8,
     "metadata": {},
     "output_type": "execute_result"
    }
   ],
   "source": [
    "age = 5\n",
    "is_child = True if age < 18 else False\n",
    "is_child"
   ]
  },
  {
   "cell_type": "code",
   "execution_count": null,
   "id": "b7ed9495",
   "metadata": {},
   "outputs": [],
   "source": []
  }
 ],
 "metadata": {
  "kernelspec": {
   "display_name": ".venv (3.12.10)",
   "language": "python",
   "name": "python3"
  },
  "language_info": {
   "codemirror_mode": {
    "name": "ipython",
    "version": 3
   },
   "file_extension": ".py",
   "mimetype": "text/x-python",
   "name": "python",
   "nbconvert_exporter": "python",
   "pygments_lexer": "ipython3",
   "version": "3.12.10"
  }
 },
 "nbformat": 4,
 "nbformat_minor": 5
}
