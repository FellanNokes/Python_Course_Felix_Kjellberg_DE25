{
 "cells": [
  {
   "cell_type": "markdown",
   "id": "2ffbbdbd",
   "metadata": {},
   "source": [
    "# functions \n",
    "\n",
    "- can return a value\n",
    "- can contain parameter asking which is asking for an argument when called. Can have a default value to fall back on\n",
    "- arguement is what is put in the () when calling the function, if nothing is put in the default value is used"
   ]
  },
  {
   "cell_type": "code",
   "execution_count": 3,
   "id": "cbf17bb2",
   "metadata": {},
   "outputs": [
    {
     "data": {
      "text/plain": [
       "4"
      ]
     },
     "execution_count": 3,
     "metadata": {},
     "output_type": "execute_result"
    }
   ],
   "source": [
    "def squarer(x):\n",
    "    return x**2\n",
    "\n",
    "squarer(2)"
   ]
  },
  {
   "cell_type": "code",
   "execution_count": 3,
   "id": "a089ba2a",
   "metadata": {},
   "outputs": [
    {
     "data": {
      "text/plain": [
       "25"
      ]
     },
     "execution_count": 3,
     "metadata": {},
     "output_type": "execute_result"
    }
   ],
   "source": [
    "square = squarer(5)\n",
    "square"
   ]
  },
  {
   "cell_type": "code",
   "execution_count": 4,
   "id": "11514506",
   "metadata": {},
   "outputs": [
    {
     "data": {
      "text/plain": [
       "[0, 1, 4, 9, 16, 25, 36, 49, 64, 81]"
      ]
     },
     "execution_count": 4,
     "metadata": {},
     "output_type": "execute_result"
    }
   ],
   "source": [
    "[squarer(x) for x in range (10)]"
   ]
  },
  {
   "cell_type": "markdown",
   "id": "c30ce171",
   "metadata": {},
   "source": [
    "default value"
   ]
  },
  {
   "cell_type": "code",
   "execution_count": 11,
   "id": "3acdd200",
   "metadata": {},
   "outputs": [
    {
     "name": "stdout",
     "output_type": "stream",
     "text": [
      "Hi Bella!\n"
     ]
    }
   ],
   "source": [
    "def say_hello(name = \"friend\"):\n",
    "    print(f\"Hi {name}!\")\n",
    "\n",
    "say_hello(\"Bella\")"
   ]
  },
  {
   "cell_type": "code",
   "execution_count": 14,
   "id": "23d1df34",
   "metadata": {},
   "outputs": [
    {
     "data": {
      "text/plain": [
       "(1, -6)"
      ]
     },
     "execution_count": 14,
     "metadata": {},
     "output_type": "execute_result"
    }
   ],
   "source": [
    "def smallest(number1, number2):\n",
    "    if number1 > number2:\n",
    "        return number2\n",
    "    return number1\n",
    "\n",
    "smallest(1,5), smallest(7,-6)\n"
   ]
  },
  {
   "cell_type": "markdown",
   "id": "e224279e",
   "metadata": {},
   "source": [
    "## Keyword argument\n",
    "\n",
    "- Can be used in different order by reffering to the key"
   ]
  },
  {
   "cell_type": "code",
   "execution_count": 15,
   "id": "6db54685",
   "metadata": {},
   "outputs": [
    {
     "data": {
      "text/plain": [
       "7"
      ]
     },
     "execution_count": 15,
     "metadata": {},
     "output_type": "execute_result"
    }
   ],
   "source": [
    "def count_words(text):\n",
    "    words = text.split()\n",
    "    return len(words)\n",
    "\n",
    "count_words(text=\"I stand on the shoulders of giants\")"
   ]
  },
  {
   "cell_type": "markdown",
   "id": "a5b74c2a",
   "metadata": {},
   "source": [
    "## arbitrary arguments\n",
    "\n",
    "- The amount of items can vary"
   ]
  },
  {
   "cell_type": "code",
   "execution_count": 16,
   "id": "11df9b03",
   "metadata": {},
   "outputs": [
    {
     "name": "stdout",
     "output_type": "stream",
     "text": [
      "(1, 2, 3)\n"
     ]
    }
   ],
   "source": [
    "def my_mean(*numbers):\n",
    "    print(numbers)\n",
    "\n",
    "my_mean(1, 2 ,3)"
   ]
  },
  {
   "cell_type": "code",
   "execution_count": 17,
   "id": "ff80c595",
   "metadata": {},
   "outputs": [
    {
     "data": {
      "text/plain": [
       "40.0"
      ]
     },
     "execution_count": 17,
     "metadata": {},
     "output_type": "execute_result"
    }
   ],
   "source": [
    "def my_mean(*numbers):\n",
    "    sum_ = 0\n",
    "    for number in numbers:\n",
    "        sum_ += number\n",
    "    return sum_/len(numbers)\n",
    "\n",
    "my_mean(23, 56, 79, 2)"
   ]
  },
  {
   "cell_type": "markdown",
   "id": "9985a735",
   "metadata": {},
   "source": [
    "## unpacking arguments"
   ]
  },
  {
   "cell_type": "code",
   "execution_count": null,
   "id": "ee78641a",
   "metadata": {},
   "outputs": [
    {
     "name": "stdout",
     "output_type": "stream",
     "text": [
      "Hi Bella you are 4 years old\n"
     ]
    }
   ],
   "source": [
    "def say_hello(name, age):\n",
    "    print(f\"Hi {name} you are {age} years old\")\n",
    "\n",
    "pet = (\"Bella\", 4)\n",
    "\n",
    "#unpacks the tuple with *\n",
    "say_hello(*pet)"
   ]
  },
  {
   "cell_type": "markdown",
   "id": "d70c91f4",
   "metadata": {},
   "source": [
    "## lambda function inside a function"
   ]
  },
  {
   "cell_type": "code",
   "execution_count": 35,
   "id": "c2f40e60",
   "metadata": {},
   "outputs": [
    {
     "data": {
      "text/plain": [
       "([2005,\n",
       "  2006,\n",
       "  2007,\n",
       "  2008,\n",
       "  2009,\n",
       "  2010,\n",
       "  2011,\n",
       "  2012,\n",
       "  2013,\n",
       "  2014,\n",
       "  2015,\n",
       "  2016,\n",
       "  2017,\n",
       "  2018,\n",
       "  2019,\n",
       "  2020,\n",
       "  2021,\n",
       "  2022,\n",
       "  2023,\n",
       "  2024],\n",
       " [2587,\n",
       "  2546,\n",
       "  2797,\n",
       "  2817,\n",
       "  2857,\n",
       "  2903,\n",
       "  3160,\n",
       "  3398,\n",
       "  4054,\n",
       "  4937,\n",
       "  5812,\n",
       "  6183,\n",
       "  6210,\n",
       "  5704,\n",
       "  7086,\n",
       "  10283,\n",
       "  12852,\n",
       "  14255,\n",
       "  15162,\n",
       "  16447],\n",
       " [6238,\n",
       "  7582,\n",
       "  8807,\n",
       "  10264,\n",
       "  11286,\n",
       "  11905,\n",
       "  12179,\n",
       "  11946,\n",
       "  12253,\n",
       "  12261,\n",
       "  11670,\n",
       "  11529,\n",
       "  12193,\n",
       "  13797,\n",
       "  15994,\n",
       "  18491,\n",
       "  18540,\n",
       "  17818,\n",
       "  17354,\n",
       "  17380])"
      ]
     },
     "execution_count": 35,
     "metadata": {},
     "output_type": "execute_result"
    }
   ],
   "source": [
    "def extract_data(filename):\n",
    "    with open(filename, \"r\") as file:\n",
    "        data = file.readlines()\n",
    "        \n",
    "    years, it, economy = data\n",
    "    clean_row = lambda row: [int (item) for item in row.strip().split(\",\")[1:]]\n",
    "    years = clean_row(years)\n",
    "    it = clean_row(it)\n",
    "    economy = clean_row(economy)\n",
    "\n",
    "    return years, it, economy\n",
    "\n",
    "extract_data(\"data/students_yh_it_economy.txt\")"
   ]
  },
  {
   "cell_type": "markdown",
   "id": "8db166c4",
   "metadata": {},
   "source": [
    "## variable number of keyword arguments **kwargs"
   ]
  },
  {
   "cell_type": "code",
   "execution_count": 37,
   "id": "77414953",
   "metadata": {},
   "outputs": [
    {
     "name": "stdout",
     "output_type": "stream",
     "text": [
      "{'x': 5, 'name': 'Bella', 'type': 'rabbit'}\n",
      "rabbit\n"
     ]
    }
   ],
   "source": [
    "def test_kwargs(**kwargs):\n",
    "    print(kwargs)\n",
    "    print(kwargs.get(\"type\"))\n",
    "\n",
    "test_kwargs(x = 5, name = \"Bella\", type = \"rabbit\")"
   ]
  },
  {
   "cell_type": "code",
   "execution_count": 49,
   "id": "a336ce8a",
   "metadata": {},
   "outputs": [
    {
     "data": {
      "text/plain": [
       "<Axes: title={'center': 'Number of students in it'}, xlabel='year', ylabel='number of students'>"
      ]
     },
     "execution_count": 49,
     "metadata": {},
     "output_type": "execute_result"
    },
    {
     "data": {
      "image/png": "[encoded data removed]",
      "text/plain": [
       "<Figure size 640x480 with 1 Axes>"
      ]
     },
     "metadata": {},
     "output_type": "display_data"
    }
   ],
   "source": [
    "import matplotlib.pyplot as plt\n",
    "from matplotlib.ticker import MaxNLocator\n",
    "\n",
    "years, it, economy = extract_data(\"data/students_yh_it_economy.txt\")\n",
    "fig, ax = plt.subplots(1)\n",
    "\n",
    "\n",
    "def plot_data(ax, x, y, **options):\n",
    "    ax.plot(x, y, linewidth=options.get(\"linewidth\", 3))\n",
    "    ax.set(\n",
    "        xlabel=options.get(\"xlabel\"),\n",
    "        ylabel=options.get(\"ylabel\"),\n",
    "        title=options.get(\"title\"),\n",
    "    )\n",
    "    ax.xaxis.set_major_locator(MaxNLocator(integer = True))\n",
    "    ax.spines[[\"top\", \"right\"]].set_visible(False)\n",
    "\n",
    "    return ax\n",
    "\n",
    "\n",
    "plot_data(\n",
    "    ax,\n",
    "    x=years,\n",
    "    y=it,\n",
    "    linewidth=2,\n",
    "    title=\"Number of students in it\",\n",
    "    xlabel=\"year\",\n",
    "    ylabel=\"number of students\",\n",
    ")"
   ]
  },
  {
   "cell_type": "code",
   "execution_count": 50,
   "id": "752b7fb0",
   "metadata": {},
   "outputs": [
    {
     "data": {
      "text/plain": [
       "<Axes: title={'center': 'Number of students in economy'}, xlabel='year', ylabel='number of students'>"
      ]
     },
     "execution_count": 50,
     "metadata": {},
     "output_type": "execute_result"
    },
    {
     "data": {
      "image/png": "[encoded data removed]",
      "text/plain": [
       "<Figure size 640x480 with 1 Axes>"
      ]
     },
     "metadata": {},
     "output_type": "display_data"
    }
   ],
   "source": [
    "fig, ax = plt.subplots(1)\n",
    "\n",
    "plot_data(\n",
    "    ax,\n",
    "    x=years,\n",
    "    y=economy,\n",
    "    linewidth=4,\n",
    "    title=\"Number of students in economy\",\n",
    "    xlabel=\"year\",\n",
    "    ylabel=\"number of students\",\n",
    ")"
   ]
  },
  {
   "cell_type": "code",
   "execution_count": null,
   "id": "3ab4522e",
   "metadata": {},
   "outputs": [],
   "source": []
  }
 ],
 "metadata": {
  "kernelspec": {
   "display_name": ".venv (3.12.10)",
   "language": "python",
   "name": "python3"
  },
  "language_info": {
   "codemirror_mode": {
    "name": "ipython",
    "version": 3
   },
   "file_extension": ".py",
   "mimetype": "text/x-python",
   "name": "python",
   "nbconvert_exporter": "python",
   "pygments_lexer": "ipython3",
   "version": "3.12.10"
  }
 },
 "nbformat": 4,
 "nbformat_minor": 5
}
