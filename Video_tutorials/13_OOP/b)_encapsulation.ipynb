{
 "cells": [
  {
   "cell_type": "code",
   "execution_count": 2,
   "id": "4ff0ce78",
   "metadata": {},
   "outputs": [],
   "source": [
    "class Patient:\n",
    "    def __init__(self, name, diagnosis):\n",
    "        self._name = name\n",
    "    \n",
    "    def __repr__(self):\n",
    "        return f\"patient ({self._name})\"\n",
    "    \n",
    "patient1 = Patient(\"Gore bord\", \"migrain\")"
   ]
  },
  {
   "cell_type": "code",
   "execution_count": 3,
   "id": "c7612a56",
   "metadata": {},
   "outputs": [
    {
     "data": {
      "text/plain": [
       "'Gore bord'"
      ]
     },
     "execution_count": 3,
     "metadata": {},
     "output_type": "execute_result"
    }
   ],
   "source": [
    "patient1._name"
   ]
  },
  {
   "cell_type": "code",
   "execution_count": 4,
   "id": "0f9dfde7",
   "metadata": {},
   "outputs": [
    {
     "data": {
      "text/plain": [
       "'Bella'"
      ]
     },
     "execution_count": 4,
     "metadata": {},
     "output_type": "execute_result"
    }
   ],
   "source": [
    "patient1._name = \"Bella\"\n",
    "patient1._name"
   ]
  },
  {
   "cell_type": "code",
   "execution_count": 5,
   "id": "3706186f",
   "metadata": {},
   "outputs": [
    {
     "data": {
      "text/plain": [
       "patient (Anna, headache)"
      ]
     },
     "execution_count": 5,
     "metadata": {},
     "output_type": "execute_result"
    }
   ],
   "source": [
    "class Patient:\n",
    "    def __init__(self, name, diagnosis):\n",
    "        self._name = name\n",
    "        self.__diagnosis = diagnosis\n",
    "    \n",
    "    def __repr__(self):\n",
    "        return f\"patient ({self._name}, {self.__diagnosis})\"\n",
    "    \n",
    "patient2 = Patient(\"Anna\", \"headache\")\n",
    "patient2"
   ]
  },
  {
   "cell_type": "code",
   "execution_count": 6,
   "id": "9ac46ef5",
   "metadata": {},
   "outputs": [
    {
     "ename": "AttributeError",
     "evalue": "'Patient' object has no attribute '__diagnosis'",
     "output_type": "error",
     "traceback": [
      "\u001b[31m---------------------------------------------------------------------------\u001b[39m",
      "\u001b[31mAttributeError\u001b[39m                            Traceback (most recent call last)",
      "\u001b[36mCell\u001b[39m\u001b[36m \u001b[39m\u001b[32mIn[6]\u001b[39m\u001b[32m, line 1\u001b[39m\n\u001b[32m----> \u001b[39m\u001b[32m1\u001b[39m \u001b[43mpatient2\u001b[49m\u001b[43m.\u001b[49m\u001b[43m__diagnosis\u001b[49m\n",
      "\u001b[31mAttributeError\u001b[39m: 'Patient' object has no attribute '__diagnosis'"
     ]
    }
   ],
   "source": [
    "patient2.__diagnosis"
   ]
  },
  {
   "cell_type": "code",
   "execution_count": 7,
   "id": "98960c68",
   "metadata": {},
   "outputs": [
    {
     "data": {
      "text/plain": [
       "{'_name': 'Anna', '_Patient__diagnosis': 'headache'}"
      ]
     },
     "execution_count": 7,
     "metadata": {},
     "output_type": "execute_result"
    }
   ],
   "source": [
    "patient2.__dict__"
   ]
  },
  {
   "cell_type": "code",
   "execution_count": 8,
   "id": "beb3b070",
   "metadata": {},
   "outputs": [
    {
     "data": {
      "text/plain": [
       "'headache'"
      ]
     },
     "execution_count": 8,
     "metadata": {},
     "output_type": "execute_result"
    }
   ],
   "source": [
    "patient2._Patient__diagnosis"
   ]
  },
  {
   "cell_type": "markdown",
   "id": "c986bafe",
   "metadata": {},
   "source": [
    "another example"
   ]
  },
  {
   "cell_type": "code",
   "execution_count": 19,
   "id": "8ab35e2f",
   "metadata": {},
   "outputs": [],
   "source": [
    "class OldCoinStash:\n",
    "    def __init__(self, owner):\n",
    "        self.owner = owner\n",
    "\n",
    "        self._riksdaler = 0\n",
    "        self._skilling = 0\n",
    "\n",
    "    def deposit(self, riksdaler, skilling):\n",
    "        if riksdaler < 0 or skilling < 0:\n",
    "            raise ValueError(f\"You try to deposit {riksdaler} rikstaler and {skilling} skilling. They have to be positive\")\n",
    "\n",
    "        self._riksdaler += riksdaler\n",
    "        self._skilling += skilling\n",
    "\n",
    "    def withdraw(self, riksdaler, skilling):\n",
    "        if riksdaler > self._riksdaler or skilling > self._skilling:\n",
    "            raise ValueError(f\"You can't withdraw more than you have in your stash\")\n",
    "\n",
    "        self._riksdaler -= riksdaler\n",
    "        self._skilling -= skilling\n",
    "\n",
    "    def check_balance(self):\n",
    "        return f\"Coins in stash: {self._riksdaler} riksdaler, {self._skilling} skilling\"\n",
    "\n",
    "    def __repr__(self):\n",
    "        return f\"OldCoinStash(owner = '{self.owner})\"\n",
    "\n",
    "stash1 = OldCoinStash(\"Ragnar\")\n",
    "\n"
   ]
  },
  {
   "cell_type": "code",
   "execution_count": 11,
   "id": "c8f4eb21",
   "metadata": {},
   "outputs": [
    {
     "name": "stdout",
     "output_type": "stream",
     "text": [
      "You try to deposit -13 rikstaler and -2 skilling. They have to be positive\n"
     ]
    }
   ],
   "source": [
    "try:\n",
    "    stash1.deposit(-13, -2)\n",
    "except ValueError as e:\n",
    "    print(e)"
   ]
  },
  {
   "cell_type": "code",
   "execution_count": 12,
   "id": "eb5304a4",
   "metadata": {},
   "outputs": [
    {
     "name": "stdout",
     "output_type": "stream",
     "text": [
      "You try to deposit 0 rikstaler and -2 skilling. They have to be positive\n"
     ]
    }
   ],
   "source": [
    "try:\n",
    "    stash1.deposit(0, -2)\n",
    "except ValueError as e:\n",
    "    print(e)"
   ]
  },
  {
   "cell_type": "code",
   "execution_count": 17,
   "id": "7808242d",
   "metadata": {},
   "outputs": [],
   "source": [
    "try:\n",
    "    stash1.deposit(5, 0)\n",
    "except ValueError as e:\n",
    "    print(e)"
   ]
  },
  {
   "cell_type": "code",
   "execution_count": 20,
   "id": "2637d5b7",
   "metadata": {},
   "outputs": [],
   "source": [
    "stash1.deposit(10, 25)"
   ]
  },
  {
   "cell_type": "code",
   "execution_count": 21,
   "id": "6c210ce0",
   "metadata": {},
   "outputs": [
    {
     "data": {
      "text/plain": [
       "'Coins in stash: 10 riksdaler, 25 skilling'"
      ]
     },
     "execution_count": 21,
     "metadata": {},
     "output_type": "execute_result"
    }
   ],
   "source": [
    "stash1.check_balance()"
   ]
  },
  {
   "cell_type": "code",
   "execution_count": null,
   "id": "7fd805be",
   "metadata": {},
   "outputs": [],
   "source": []
  }
 ],
 "metadata": {
  "kernelspec": {
   "display_name": ".venv (3.12.10)",
   "language": "python",
   "name": "python3"
  },
  "language_info": {
   "codemirror_mode": {
    "name": "ipython",
    "version": 3
   },
   "file_extension": ".py",
   "mimetype": "text/x-python",
   "name": "python",
   "nbconvert_exporter": "python",
   "pygments_lexer": "ipython3",
   "version": "3.12.10"
  }
 },
 "nbformat": 4,
 "nbformat_minor": 5
}
