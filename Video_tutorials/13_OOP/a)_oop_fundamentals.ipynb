{
 "cells": [
  {
   "cell_type": "markdown",
   "id": "626b0b5a",
   "metadata": {},
   "source": [
    "# OOP fundamentals"
   ]
  },
  {
   "cell_type": "code",
   "execution_count": 1,
   "id": "28d486f3",
   "metadata": {},
   "outputs": [
    {
     "data": {
      "text/plain": [
       "<__main__.Admission at 0x151b33ff770>"
      ]
     },
     "execution_count": 1,
     "metadata": {},
     "output_type": "execute_result"
    }
   ],
   "source": [
    "class Admission:\n",
    "    def __init__(self, school, program, name, accept):\n",
    "        self.school = school\n",
    "        self.program  = program\n",
    "        self.name = name\n",
    "        self.accept = accept\n",
    "\n",
    "person1 = Admission(\"cool school\", \"AI\", accept = True, name = \"Kokchun\")\n",
    "person1"
   ]
  },
  {
   "cell_type": "code",
   "execution_count": 2,
   "id": "c4c28492",
   "metadata": {},
   "outputs": [
    {
     "data": {
      "text/plain": [
       "('cool school', 'Kokchun')"
      ]
     },
     "execution_count": 2,
     "metadata": {},
     "output_type": "execute_result"
    }
   ],
   "source": [
    "person1.school, person1.name"
   ]
  },
  {
   "cell_type": "code",
   "execution_count": 3,
   "id": "6e99ae8d",
   "metadata": {},
   "outputs": [
    {
     "data": {
      "text/plain": [
       "'Bella'"
      ]
     },
     "execution_count": 3,
     "metadata": {},
     "output_type": "execute_result"
    }
   ],
   "source": [
    "person1.name = \"Bella\"\n",
    "person1.name"
   ]
  },
  {
   "cell_type": "code",
   "execution_count": 4,
   "id": "5defc4f3",
   "metadata": {},
   "outputs": [
    {
     "data": {
      "text/plain": [
       "('Data engineering', 'AI')"
      ]
     },
     "execution_count": 4,
     "metadata": {},
     "output_type": "execute_result"
    }
   ],
   "source": [
    "person2 = Admission(\"Cooler school\", \"Data engineering\", accept=False, name= \"Gore Bord\")\n",
    "person2.program, person1.program"
   ]
  },
  {
   "cell_type": "code",
   "execution_count": 5,
   "id": "f8fb769d",
   "metadata": {},
   "outputs": [
    {
     "data": {
      "text/plain": [
       "False"
      ]
     },
     "execution_count": 5,
     "metadata": {},
     "output_type": "execute_result"
    }
   ],
   "source": [
    "person1 == person2"
   ]
  },
  {
   "cell_type": "code",
   "execution_count": 6,
   "id": "8dd83460",
   "metadata": {},
   "outputs": [
    {
     "data": {
      "text/plain": [
       "('0x151b33ff770', '0x151b37faf00')"
      ]
     },
     "execution_count": 6,
     "metadata": {},
     "output_type": "execute_result"
    }
   ],
   "source": [
    "hex(id(person1)), hex(id(person2))"
   ]
  },
  {
   "cell_type": "markdown",
   "id": "244ed25e",
   "metadata": {},
   "source": [
    "__repr__"
   ]
  },
  {
   "cell_type": "code",
   "execution_count": 15,
   "id": "d6784641",
   "metadata": {},
   "outputs": [
    {
     "data": {
      "text/plain": [
       "Admission(school ='Cool school', program ='Java', name = 'Victor freeze' accept = True)"
      ]
     },
     "execution_count": 15,
     "metadata": {},
     "output_type": "execute_result"
    }
   ],
   "source": [
    "class Admission:\n",
    "    def __init__(self, school, program, name, accept):\n",
    "        self.school = school\n",
    "        self.program  = program\n",
    "        self.name = name\n",
    "        self.accept = accept\n",
    "    \n",
    "    def __str__(self):\n",
    "        return f\"{self.name} has applied to {self.program}, accepted: {self.accept}\"\n",
    "\n",
    "    def __repr__(self):\n",
    "        return f\"Admission(school ='{self.school}', program ='{self.program}', name = '{self.name}' accept = {self.accept})\"\n",
    "    \n",
    "\n",
    "student = Admission(\"Cool school\", \"Java\", \"Victor freeze\", True)\n",
    "student"
   ]
  },
  {
   "cell_type": "code",
   "execution_count": 14,
   "id": "e0e8f019",
   "metadata": {},
   "outputs": [
    {
     "name": "stdout",
     "output_type": "stream",
     "text": [
      "Victor freeze has applied Java, accepted: True\n"
     ]
    }
   ],
   "source": [
    "print(student)"
   ]
  },
  {
   "cell_type": "markdown",
   "id": "1c66320d",
   "metadata": {},
   "source": []
  }
 ],
 "metadata": {
  "kernelspec": {
   "display_name": ".venv (3.12.10)",
   "language": "python",
   "name": "python3"
  },
  "language_info": {
   "codemirror_mode": {
    "name": "ipython",
    "version": 3
   },
   "file_extension": ".py",
   "mimetype": "text/x-python",
   "name": "python",
   "nbconvert_exporter": "python",
   "pygments_lexer": "ipython3",
   "version": "3.12.10"
  }
 },
 "nbformat": 4,
 "nbformat_minor": 5
}
