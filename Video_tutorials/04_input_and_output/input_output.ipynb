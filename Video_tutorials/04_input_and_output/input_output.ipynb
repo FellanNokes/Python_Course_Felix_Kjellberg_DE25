{
 "cells": [
  {
   "cell_type": "markdown",
   "id": "769b9421",
   "metadata": {},
   "source": [
    " # Input and Outputs\n",
    " "
   ]
  },
  {
   "cell_type": "code",
   "execution_count": 2,
   "id": "f3649647",
   "metadata": {},
   "outputs": [
    {
     "name": "stdout",
     "output_type": "stream",
     "text": [
      "hello world\n"
     ]
    }
   ],
   "source": [
    "print(\"hello world\")"
   ]
  },
  {
   "cell_type": "code",
   "execution_count": 3,
   "id": "1b32b072",
   "metadata": {},
   "outputs": [
    {
     "name": "stdout",
     "output_type": "stream",
     "text": [
      "My name is Felix\n"
     ]
    }
   ],
   "source": [
    "print(\"My name is Felix\")"
   ]
  },
  {
   "cell_type": "code",
   "execution_count": 5,
   "id": "7480511b",
   "metadata": {},
   "outputs": [
    {
     "name": "stdout",
     "output_type": "stream",
     "text": [
      "your name is Leif\n"
     ]
    }
   ],
   "source": [
    "name = \"Leif\"\n",
    "\n",
    "print(f\"your name is {name}\")"
   ]
  },
  {
   "cell_type": "markdown",
   "id": "ef2c7260",
   "metadata": {},
   "source": [
    "# Inputs"
   ]
  },
  {
   "cell_type": "code",
   "execution_count": 7,
   "id": "ed47ac96",
   "metadata": {},
   "outputs": [
    {
     "name": "stdout",
     "output_type": "stream",
     "text": [
      "Felix is 31 years old\n"
     ]
    }
   ],
   "source": [
    "name = input(\"What is your name?\")\n",
    "age = input(\"what is your age?\")\n",
    "print (f\"{name} is {age} years old\")"
   ]
  },
  {
   "cell_type": "markdown",
   "id": "00e7354a",
   "metadata": {},
   "source": [
    "# Type coercion"
   ]
  },
  {
   "cell_type": "code",
   "execution_count": 1,
   "id": "0d5355e5",
   "metadata": {},
   "outputs": [
    {
     "name": "stdout",
     "output_type": "stream",
     "text": [
      "error\n"
     ]
    }
   ],
   "source": [
    "gravity = 9.82\n",
    "mass = input(\"Enter yout weight in kg: \")\n",
    "print(\"error\")"
   ]
  },
  {
   "cell_type": "code",
   "execution_count": 11,
   "id": "ab57d519",
   "metadata": {},
   "outputs": [
    {
     "data": {
      "text/plain": [
       "str"
      ]
     },
     "execution_count": 11,
     "metadata": {},
     "output_type": "execute_result"
    }
   ],
   "source": [
    "type(mass)"
   ]
  },
  {
   "cell_type": "code",
   "execution_count": 12,
   "id": "7c288089",
   "metadata": {},
   "outputs": [
    {
     "data": {
      "text/plain": [
       "float"
      ]
     },
     "execution_count": 12,
     "metadata": {},
     "output_type": "execute_result"
    }
   ],
   "source": [
    "type(gravity)"
   ]
  },
  {
   "cell_type": "code",
   "execution_count": 14,
   "id": "25ba5aa1",
   "metadata": {},
   "outputs": [
    {
     "name": "stdout",
     "output_type": "stream",
     "text": [
      "1129.3N\n"
     ]
    }
   ],
   "source": [
    "gravity = 9.82\n",
    "mass = float(input(\"Enter yout weight in kg: \"))\n",
    "\n",
    "force = mass*gravity\n",
    "print(f\"{force}N\")"
   ]
  },
  {
   "cell_type": "code",
   "execution_count": 15,
   "id": "ca1e09c8",
   "metadata": {},
   "outputs": [
    {
     "name": "stdout",
     "output_type": "stream",
     "text": [
      "force=1129.3N\n"
     ]
    }
   ],
   "source": [
    "print(f\"{force=:.1f}N\")"
   ]
  },
  {
   "cell_type": "code",
   "execution_count": null,
   "id": "b602d462",
   "metadata": {},
   "outputs": [],
   "source": []
  }
 ],
 "metadata": {
  "kernelspec": {
   "display_name": ".venv (3.12.10)",
   "language": "python",
   "name": "python3"
  },
  "language_info": {
   "codemirror_mode": {
    "name": "ipython",
    "version": 3
   },
   "file_extension": ".py",
   "mimetype": "text/x-python",
   "name": "python",
   "nbconvert_exporter": "python",
   "pygments_lexer": "ipython3",
   "version": "3.12.10"
  }
 },
 "nbformat": 4,
 "nbformat_minor": 5
}
