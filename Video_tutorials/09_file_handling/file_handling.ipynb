{
 "cells": [
  {
   "cell_type": "markdown",
   "id": "2e676140",
   "metadata": {},
   "source": [
    "# file handling"
   ]
  },
  {
   "cell_type": "code",
   "execution_count": 2,
   "id": "b3e60e2d",
   "metadata": {},
   "outputs": [
    {
     "name": "stdout",
     "output_type": "stream",
     "text": [
      "  If     we     knew what it was      we were doing, it would not be called research,          would it?     - Albert Einstein\n",
      "\n",
      "Time is a drug. Too       much of it kills you.  -  Terry Pratchett\n",
      "\n",
      "\n",
      " An expert is a person who       has made all the mistakes that           can be made in a          very narrow field - Niels Bohr\n",
      "\n",
      "   Everything must be made as simple as possible. But not simpler. - Albert Einstein     \n",
      "\n",
      "\n",
      "  Nothing in life                is to be feared, it is only to be understood. Now is the time to understand more, so that we may fear less. - Marie  Curie  \n",
      "\n",
      "If I have seen further     it is by standing on the shoulders of Giants. - Isaac Newton\n"
     ]
    }
   ],
   "source": [
    "data_path = \"data\"\n",
    "\n",
    "path = f\"{data_path}/quotes.txt\"\n",
    "\n",
    "with open(path, \"r\") as file:\n",
    "    text = file.read()\n",
    "\n",
    "print(text)\n",
    "\n"
   ]
  },
  {
   "cell_type": "markdown",
   "id": "57941419",
   "metadata": {},
   "source": [
    "## cleanup\n",
    "\n",
    "- inspect txt-file\n",
    "- remove leading and trailing whitespaces\n",
    "- remove excessive white spaces\n",
    "- add quote numbers"
   ]
  },
  {
   "cell_type": "code",
   "execution_count": 11,
   "id": "4a5bd1f0",
   "metadata": {},
   "outputs": [
    {
     "name": "stdout",
     "output_type": "stream",
     "text": [
      "If we knew what it was we were doing, it would not be called research, would it? - Albert Einstein\n",
      "\n",
      "Time is a drug. Too much of it kills you. - Terry Pratchett\n",
      "\n",
      "\n",
      "An expert is a person who has made all the mistakes that can be made in a very narrow field - Niels Bohr\n",
      "\n",
      "Everything must be made as simple as possible. But not simpler. - Albert Einstein\n",
      "\n",
      "\n",
      "Nothing in life is to be feared, it is only to be understood. Now is the time to understand more, so that we may fear less. - Marie Curie\n",
      "\n",
      "If I have seen further it is by standing on the shoulders of Giants. - Isaac Newton\n"
     ]
    }
   ],
   "source": [
    "import re\n",
    "\n",
    "i= 1\n",
    "with open(path, \"r\") as f_read, open(f\"{data_path}/quotes_cleaned.txt\", \"w\") as f_write:\n",
    "\n",
    "    f_write.write(\"Famous quotes \\n\\n\")\n",
    "    for quote in f_read:\n",
    "        quote = quote.strip(\"  \\n\")\n",
    "        quote = re.sub(\" +\", \" \", quote)\n",
    "        print(quote)\n",
    "\n",
    "        if quote !=\"\":\n",
    "            f_write.write(f\"{i}. {quote}\\n\")\n",
    "            i += 1"
   ]
  },
  {
   "cell_type": "markdown",
   "id": "4d1407ac",
   "metadata": {},
   "source": []
  }
 ],
 "metadata": {
  "kernelspec": {
   "display_name": ".venv (3.12.10)",
   "language": "python",
   "name": "python3"
  },
  "language_info": {
   "codemirror_mode": {
    "name": "ipython",
    "version": 3
   },
   "file_extension": ".py",
   "mimetype": "text/x-python",
   "name": "python",
   "nbconvert_exporter": "python",
   "pygments_lexer": "ipython3",
   "version": "3.12.10"
  }
 },
 "nbformat": 4,
 "nbformat_minor": 5
}
