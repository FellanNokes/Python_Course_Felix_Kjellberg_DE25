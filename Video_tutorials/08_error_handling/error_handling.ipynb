{
 "cells": [
  {
   "cell_type": "markdown",
   "id": "2257a85d",
   "metadata": {},
   "source": [
    "# Error handling"
   ]
  },
  {
   "cell_type": "markdown",
   "id": "855d12a6",
   "metadata": {},
   "source": [
    "syntax error"
   ]
  },
  {
   "cell_type": "code",
   "execution_count": 1,
   "id": "100cf317",
   "metadata": {},
   "outputs": [
    {
     "ename": "SyntaxError",
     "evalue": "expected ':' (2316895122.py, line 1)",
     "output_type": "error",
     "traceback": [
      "  \u001b[36mCell\u001b[39m\u001b[36m \u001b[39m\u001b[32mIn[1]\u001b[39m\u001b[32m, line 1\u001b[39m\n\u001b[31m    \u001b[39m\u001b[31mif 5 < 7\u001b[39m\n            ^\n\u001b[31mSyntaxError\u001b[39m\u001b[31m:\u001b[39m expected ':'\n"
     ]
    }
   ],
   "source": [
    "if 5 < 7\n",
    "    print(\"5 is less than 7\")"
   ]
  },
  {
   "cell_type": "markdown",
   "id": "e987a053",
   "metadata": {},
   "source": [
    "exceptions errors or runtime errors"
   ]
  },
  {
   "cell_type": "code",
   "execution_count": 3,
   "id": "ab1d7cae",
   "metadata": {},
   "outputs": [
    {
     "ename": "IndexError",
     "evalue": "list index out of range",
     "output_type": "error",
     "traceback": [
      "\u001b[31m---------------------------------------------------------------------------\u001b[39m",
      "\u001b[31mIndexError\u001b[39m                                Traceback (most recent call last)",
      "\u001b[36mCell\u001b[39m\u001b[36m \u001b[39m\u001b[32mIn[3]\u001b[39m\u001b[32m, line 2\u001b[39m\n\u001b[32m      1\u001b[39m numbers = \u001b[38;5;28mlist\u001b[39m(\u001b[38;5;28mrange\u001b[39m(\u001b[32m10\u001b[39m))\n\u001b[32m----> \u001b[39m\u001b[32m2\u001b[39m \u001b[43mnumbers\u001b[49m\u001b[43m[\u001b[49m\u001b[32;43m11\u001b[39;49m\u001b[43m]\u001b[49m\n",
      "\u001b[31mIndexError\u001b[39m: list index out of range"
     ]
    }
   ],
   "source": [
    "numbers = list(range(10))\n",
    "numbers[11]"
   ]
  },
  {
   "cell_type": "markdown",
   "id": "45e0388d",
   "metadata": {},
   "source": [
    "logical error"
   ]
  },
  {
   "cell_type": "code",
   "execution_count": 5,
   "id": "e216c00d",
   "metadata": {},
   "outputs": [
    {
     "name": "stdout",
     "output_type": "stream",
     "text": [
      "15.707963267948966\n"
     ]
    }
   ],
   "source": [
    "import numpy as np\n",
    "\n",
    "area_circle = lambda radius: np.pi*radius\n",
    "\n",
    "print(area_circle(5))"
   ]
  },
  {
   "cell_type": "markdown",
   "id": "2c691a9f",
   "metadata": {},
   "source": [
    "## try - except "
   ]
  },
  {
   "cell_type": "code",
   "execution_count": null,
   "id": "802279c6",
   "metadata": {},
   "outputs": [
    {
     "name": "stdout",
     "output_type": "stream",
     "text": [
      "Invalid input: Age must be between 0 and 125\n"
     ]
    }
   ],
   "source": [
    "age = input(\"Enter your age: \")\n",
    "while True:\n",
    "    try:\n",
    "        age = float(age)\n",
    "        if not 0 < age < 125:\n",
    "            raise ValueError(\"Age must be between 0 and 124\")\n",
    "        print(f\"Your age is {age} years old\")\n",
    "        break\n",
    "    except ValueError as err:\n",
    "        print(f\"Invalid input: {err}\")"
   ]
  },
  {
   "cell_type": "markdown",
   "id": "a55578ed",
   "metadata": {},
   "source": []
  }
 ],
 "metadata": {
  "kernelspec": {
   "display_name": ".venv (3.12.10)",
   "language": "python",
   "name": "python3"
  },
  "language_info": {
   "codemirror_mode": {
    "name": "ipython",
    "version": 3
   },
   "file_extension": ".py",
   "mimetype": "text/x-python",
   "name": "python",
   "nbconvert_exporter": "python",
   "pygments_lexer": "ipython3",
   "version": "3.12.10"
  }
 },
 "nbformat": 4,
 "nbformat_minor": 5
}
