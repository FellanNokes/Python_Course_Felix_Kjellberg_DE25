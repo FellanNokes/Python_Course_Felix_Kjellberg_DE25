{
 "cells": [
  {
   "cell_type": "markdown",
   "id": "0b8870de",
   "metadata": {},
   "source": [
    "# Lecture 7 - strings\n",
    "- we have just created and printed out string type variable in lecture 4\n",
    "- this lecture is more about strings\n"
   ]
  },
  {
   "cell_type": "markdown",
   "id": "bae17337",
   "metadata": {},
   "source": [
    "## Concatenate strings"
   ]
  },
  {
   "cell_type": "code",
   "execution_count": null,
   "id": "5368a4df",
   "metadata": {},
   "outputs": [
    {
     "name": "stdout",
     "output_type": "stream",
     "text": [
      "FelixKjellberg\n"
     ]
    }
   ],
   "source": [
    "# concatenate multiple strings with + operator \n",
    "# remember + operator has another meaning when it comes to numeric variables\n",
    "\n",
    "first_name = \"Felix\"\n",
    "last_name = \"Kjellberg\"\n",
    "\n",
    "# concatenate without space\n",
    "full_name = first_name + last_name\n",
    "print(full_name)"
   ]
  },
  {
   "cell_type": "code",
   "execution_count": null,
   "id": "ca4749b6",
   "metadata": {},
   "outputs": [
    {
     "name": "stdout",
     "output_type": "stream",
     "text": [
      "Felix Kjellberg\n"
     ]
    }
   ],
   "source": [
    "# concatenate also with \" \"\n",
    "space = \" \"\n",
    "\n",
    "full_name_with_space = first_name + space + last_name # we can replace the space variable with \" \"\n",
    "print(full_name_with_space)"
   ]
  },
  {
   "cell_type": "code",
   "execution_count": null,
   "id": "d9163adf",
   "metadata": {},
   "outputs": [
    {
     "name": "stdout",
     "output_type": "stream",
     "text": [
      "Felix Kjellberg is working in a company called STI Student and his adress is supah cool streeeeeeeeeeeeeeeeto\n",
      "Felix Kjellberg is working in a company called STI Student.\n",
      "        His adress is supah cool streeeeeeeeeeeeeeeeto\n"
     ]
    }
   ],
   "source": [
    "# multiline f-string for concatenating many strings\n",
    "\n",
    "work = \"STI Student\"\n",
    "adress = \"supah cool streeeeeeeeeeeeeeeeto\"\n",
    "\n",
    "# f-string with one line\n",
    "print(f\"{full_name_with_space} is working in a company called {work} and his adress is {adress}\")\n",
    "\n",
    "# f_string with multi line\n",
    "print(f\"\"\"{full_name_with_space} is working in a company called {work}.\n",
    "His adress is {adress}\"\"\")"
   ]
  },
  {
   "cell_type": "code",
   "execution_count": 11,
   "id": "84b452de",
   "metadata": {},
   "outputs": [
    {
     "name": "stdout",
     "output_type": "stream",
     "text": [
      "todays fruits apple, orange, strawberry \n",
      "apple\n",
      "orange\n",
      "strawberry\n"
     ]
    }
   ],
   "source": [
    "# concatenate with loop\n",
    "\n",
    "fruit_today = \" apple, \" + \"orange, \" + \"strawberry \"\n",
    "\n",
    "print(f\"\"\"todays fruits{fruit_today}\"\"\")\n",
    "\n",
    "fruits_today = [\"apple\", \"orange\", \"strawberry\"]\n",
    "\n",
    "for fruit in fruits_today:\n",
    "    print(fruit)"
   ]
  },
  {
   "cell_type": "markdown",
   "id": "9eb1ae38",
   "metadata": {},
   "source": []
  }
 ],
 "metadata": {
  "kernelspec": {
   "display_name": "Python_Course_Felix_Kjellberg_DE25",
   "language": "python",
   "name": "python3"
  },
  "language_info": {
   "codemirror_mode": {
    "name": "ipython",
    "version": 3
   },
   "file_extension": ".py",
   "mimetype": "text/x-python",
   "name": "python",
   "nbconvert_exporter": "python",
   "pygments_lexer": "ipython3",
   "version": "3.12.10"
  }
 },
 "nbformat": 4,
 "nbformat_minor": 5
}
