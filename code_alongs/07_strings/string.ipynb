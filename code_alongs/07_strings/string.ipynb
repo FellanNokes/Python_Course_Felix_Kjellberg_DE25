{
 "cells": [
  {
   "cell_type": "markdown",
   "id": "0b8870de",
   "metadata": {},
   "source": [
    "# Lecture 7 - strings\n",
    "- we have just created and printed out string type variable in lecture 4\n",
    "- this lecture is more about strings\n"
   ]
  },
  {
   "cell_type": "markdown",
   "id": "bae17337",
   "metadata": {},
   "source": [
    "## Concatenate strings"
   ]
  },
  {
   "cell_type": "code",
   "execution_count": null,
   "id": "5368a4df",
   "metadata": {},
   "outputs": [
    {
     "name": "stdout",
     "output_type": "stream",
     "text": [
      "FelixKjellberg\n"
     ]
    }
   ],
   "source": [
    "# concatenate multiple strings with + operator \n",
    "# remember + operator has another meaning when it comes to numeric variables\n",
    "\n",
    "first_name = \"Felix\"\n",
    "last_name = \"Kjellberg\"\n",
    "\n",
    "# concatenate without space\n",
    "full_name = first_name + last_name\n",
    "print(full_name)"
   ]
  },
  {
   "cell_type": "code",
   "execution_count": null,
   "id": "ca4749b6",
   "metadata": {},
   "outputs": [
    {
     "name": "stdout",
     "output_type": "stream",
     "text": [
      "Felix Kjellberg\n"
     ]
    }
   ],
   "source": [
    "# concatenate also with \" \"\n",
    "space = \" \"\n",
    "\n",
    "full_name_with_space = first_name + space + last_name # we can replace the space variable with \" \"\n",
    "print(full_name_with_space)"
   ]
  },
  {
   "cell_type": "code",
   "execution_count": null,
   "id": "d9163adf",
   "metadata": {},
   "outputs": [
    {
     "name": "stdout",
     "output_type": "stream",
     "text": [
      "Felix Kjellberg is working in a company called STI Student and his adress is supah cool streeeeeeeeeeeeeeeeto\n",
      "Felix Kjellberg is working in a company called STI Student.\n",
      "        His adress is supah cool streeeeeeeeeeeeeeeeto\n"
     ]
    }
   ],
   "source": [
    "# multiline f-string for concatenating many strings\n",
    "\n",
    "work = \"STI Student\"\n",
    "adress = \"supah cool streeeeeeeeeeeeeeeeto\"\n",
    "\n",
    "# f-string with one line\n",
    "print(f\"{full_name_with_space} is working in a company called {work} and his adress is {adress}\")\n",
    "\n",
    "# f_string with multi line\n",
    "print(f\"\"\"{full_name_with_space} is working in a company called {work}.\n",
    "His adress is {adress}\"\"\")"
   ]
  },
  {
   "cell_type": "code",
   "execution_count": 11,
   "id": "84b452de",
   "metadata": {},
   "outputs": [
    {
     "name": "stdout",
     "output_type": "stream",
     "text": [
      "todays fruits apple, orange, strawberry \n",
      "apple\n",
      "orange\n",
      "strawberry\n"
     ]
    }
   ],
   "source": [
    "# concatenate with loop\n",
    "\n",
    "fruit_today = \" apple, \" + \"orange, \" + \"strawberry \"\n",
    "\n",
    "print(f\"\"\"todays fruits{fruit_today}\"\"\")\n",
    "\n",
    "fruits_today = [\"apple\", \"orange\", \"strawberry\"]\n",
    "\n",
    "for fruit in fruits_today:\n",
    "    print(fruit)"
   ]
  },
  {
   "cell_type": "code",
   "execution_count": 37,
   "id": "666d6970",
   "metadata": {},
   "outputs": [
    {
     "name": "stdout",
     "output_type": "stream",
     "text": [
      "anna\n",
      "skdkad\n",
      "-------\n",
      "berit\n",
      "skaskjg\n",
      "-------\n"
     ]
    }
   ],
   "source": [
    "# lopping over two lists\n",
    "\n",
    "names = [\"anna\", \"berit\"]\n",
    "adresses = [\"skdkad\", \"skaskjg\"]\n",
    "\n",
    "for name, adress in zip(names, adresses):\n",
    "    print(name)\n",
    "    print(adress)\n",
    "    print(\"-------\")"
   ]
  },
  {
   "cell_type": "markdown",
   "id": "9eb1ae38",
   "metadata": {},
   "source": [
    "## Indexing\n",
    "- an operation to access \"an item\"\n",
    "- what is an item in the contex of strings? it is one of the characters inside the string\n",
    "- we can use [] for indexing\n",
    "- slicing is also possible if we want to access multiple characters\n",
    "- we can use : operator for slicing\n",
    "- "
   ]
  },
  {
   "cell_type": "code",
   "execution_count": 20,
   "id": "9d198f8e",
   "metadata": {},
   "outputs": [
    {
     "name": "stdout",
     "output_type": "stream",
     "text": [
      "Felix Kjellberg\n",
      "The first letter of the string is: F\n",
      "The last letter of the string is g\n",
      "The last letter of the string is g\n"
     ]
    }
   ],
   "source": [
    "# Index\n",
    "print(full_name_with_space)\n",
    "print(f\"The first letter of the string is: {full_name_with_space[0]}\")\n",
    "print(f\"The last letter of the string is {full_name_with_space[14]}\")\n",
    "print(f\"The last letter of the string is {full_name_with_space[-1]}\")"
   ]
  },
  {
   "cell_type": "code",
   "execution_count": 35,
   "id": "6e388767",
   "metadata": {},
   "outputs": [
    {
     "name": "stdout",
     "output_type": "stream",
     "text": [
      "The first three letters Fel\n",
      "The last five letters: lberg\n",
      "The last three letters: grebl\n"
     ]
    }
   ],
   "source": [
    "# slicing \n",
    "print(f\"The first three letters {full_name_with_space[0:3]}\")\n",
    "print(f\"The last five letters: {full_name_with_space[-5:]}\")#slicing from the left, the last five\n",
    "\n",
    "# slicing reversely\n",
    "print(f\"The last three letters: {full_name_with_space[-1:-6:-1]}\")"
   ]
  },
  {
   "cell_type": "markdown",
   "id": "f113e263",
   "metadata": {},
   "source": [
    "## Some common example to clean strings\n",
    "- make use of string method\n",
    "- a good introduction of many common string methods here: [link](https://www.geeksforgeeks.org/python/python-string-methods/)\n"
   ]
  },
  {
   "cell_type": "code",
   "execution_count": 40,
   "id": "e4a0710d",
   "metadata": {},
   "outputs": [
    {
     "data": {
      "text/plain": [
       "['Math', ' biology ', '   cHeMistry  ', '   PrOgramminG      ']"
      ]
     },
     "execution_count": 40,
     "metadata": {},
     "output_type": "execute_result"
    }
   ],
   "source": [
    "# splitting a string\n",
    "subjects = \"Math, biology ,   cHeMistry  ,   PrOgramminG      \"\n",
    "\n",
    "subjects = subjects.split(\",\") # Makes a list and EXCLUDES the seporator\n",
    "\n",
    "subjects"
   ]
  },
  {
   "cell_type": "code",
   "execution_count": null,
   "id": "846e3508",
   "metadata": {},
   "outputs": [
    {
     "name": "stdout",
     "output_type": "stream",
     "text": [
      "Math\n",
      "biology\n",
      "cHeMistry\n",
      "PrOgramminG\n"
     ]
    }
   ],
   "source": [
    "# strip off leading and trailing space\n",
    "# check out also rstrip() and lstrip()\n",
    "for subject in subjects:\n",
    "    print(subject.strip())#takes away spaces in the beginning and after. You can choose to only strip leading or trailing"
   ]
  },
  {
   "cell_type": "code",
   "execution_count": null,
   "id": "d23d95ac",
   "metadata": {},
   "outputs": [
    {
     "name": "stdout",
     "output_type": "stream",
     "text": [
      "MATH\n",
      "BIOLOGY\n",
      "CHEMISTRY\n",
      "PROGRAMMING\n"
     ]
    }
   ],
   "source": [
    "# making upper case letter \n",
    "# check out lower()\n",
    "\n",
    "for subject in subjects:\n",
    "    print(subject.strip().upper())"
   ]
  }
 ],
 "metadata": {
  "kernelspec": {
   "display_name": "Python_Course_Felix_Kjellberg_DE25",
   "language": "python",
   "name": "python3"
  },
  "language_info": {
   "codemirror_mode": {
    "name": "ipython",
    "version": 3
   },
   "file_extension": ".py",
   "mimetype": "text/x-python",
   "name": "python",
   "nbconvert_exporter": "python",
   "pygments_lexer": "ipython3",
   "version": "3.12.10"
  }
 },
 "nbformat": 4,
 "nbformat_minor": 5
}
