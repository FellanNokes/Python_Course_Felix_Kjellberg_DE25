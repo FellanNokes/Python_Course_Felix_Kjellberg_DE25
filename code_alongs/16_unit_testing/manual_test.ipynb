{
 "cells": [
  {
   "cell_type": "markdown",
   "id": "16c5fcb1",
   "metadata": {},
   "source": [
    "# Manual testing of Vector class"
   ]
  },
  {
   "cell_type": "code",
   "execution_count": 1,
   "id": "c22d9027",
   "metadata": {},
   "outputs": [
    {
     "data": {
      "text/plain": [
       "(Vector(2.0, 5.0), Vector(-1.0, 1.0))"
      ]
     },
     "execution_count": 1,
     "metadata": {},
     "output_type": "execute_result"
    }
   ],
   "source": [
    "from vector import Vector \n",
    "\n",
    "# vector with coordinate 2 and 5\n",
    "v1 = Vector(2, 5)\n",
    "v2 = Vector(-1 , 1)\n",
    "v1, v2\n"
   ]
  },
  {
   "cell_type": "markdown",
   "id": "c41d7d88",
   "metadata": {},
   "source": [
    "## a few test that we expect will work"
   ]
  },
  {
   "cell_type": "code",
   "execution_count": 2,
   "id": "c9b960f0",
   "metadata": {},
   "outputs": [
    {
     "name": "stdout",
     "output_type": "stream",
     "text": [
      "len(v1) = 2\n",
      "v1.numbers = (2.0, 5.0)\n",
      "v1 + v2 = Vector(1.0, 6.0)\n"
     ]
    }
   ],
   "source": [
    "print(f\"{len(v1) = }\")\n",
    "print(f\"{v1.numbers = }\")\n",
    "print(f\"{v1 + v2 = }\")"
   ]
  },
  {
   "cell_type": "markdown",
   "id": "282466b5",
   "metadata": {},
   "source": [
    "## testing correct errors"
   ]
  },
  {
   "cell_type": "code",
   "execution_count": 3,
   "id": "9d49bf6c",
   "metadata": {},
   "outputs": [
    {
     "name": "stdout",
     "output_type": "stream",
     "text": [
      "'1' is not valid number in a vector\n"
     ]
    }
   ],
   "source": [
    "try:\n",
    "    Vector(\"1\",1)\n",
    "except TypeError as err:\n",
    "    print(err)"
   ]
  },
  {
   "cell_type": "code",
   "execution_count": 4,
   "id": "61d933f5",
   "metadata": {},
   "outputs": [
    {
     "name": "stdout",
     "output_type": "stream",
     "text": [
      "Both must be Vector and have the same length\n"
     ]
    }
   ],
   "source": [
    "v1 = Vector(1,2)\n",
    "v2 = Vector(1,2,3)\n",
    "\n",
    "try:\n",
    "    v1 + v2\n",
    "except TypeError as err:\n",
    "    print(err)"
   ]
  },
  {
   "cell_type": "markdown",
   "id": "a94b01fb",
   "metadata": {},
   "source": []
  }
 ],
 "metadata": {
  "kernelspec": {
   "display_name": "Python_Course_Felix_Kjellberg_DE25",
   "language": "python",
   "name": "python3"
  },
  "language_info": {
   "codemirror_mode": {
    "name": "ipython",
    "version": 3
   },
   "file_extension": ".py",
   "mimetype": "text/x-python",
   "name": "python",
   "nbconvert_exporter": "python",
   "pygments_lexer": "ipython3",
   "version": "3.12.10"
  }
 },
 "nbformat": 4,
 "nbformat_minor": 5
}
