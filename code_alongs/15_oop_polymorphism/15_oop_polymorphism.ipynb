{
 "cells": [
  {
   "cell_type": "markdown",
   "id": "bc7f722f",
   "metadata": {},
   "source": [
    "# OOP Polymorphism"
   ]
  },
  {
   "cell_type": "code",
   "execution_count": null,
   "id": "18a4c4e5",
   "metadata": {},
   "outputs": [],
   "source": []
  }
 ],
 "metadata": {
  "kernelspec": {
   "display_name": "Python_Course_Felix_Kjellberg_DE25",
   "language": "python",
   "name": "python3"
  },
  "language_info": {
   "name": "python",
   "version": "3.12.10"
  }
 },
 "nbformat": 4,
 "nbformat_minor": 5
}
