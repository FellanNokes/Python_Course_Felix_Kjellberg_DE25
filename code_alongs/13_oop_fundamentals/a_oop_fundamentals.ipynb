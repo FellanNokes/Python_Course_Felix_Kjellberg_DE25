{
 "cells": [
  {
   "cell_type": "markdown",
   "id": "2a9a0ad6",
   "metadata": {},
   "source": [
    "# OOP fundamentals\n",
    "\n",
    "- object oriented programming"
   ]
  },
  {
   "cell_type": "code",
   "execution_count": null,
   "id": "f4938ef2",
   "metadata": {},
   "outputs": [
    {
     "data": {
      "text/plain": [
       "'STI'"
      ]
     },
     "execution_count": 2,
     "metadata": {},
     "output_type": "execute_result"
    }
   ],
   "source": [
    "# define a class with name Admission\n",
    "class Admission:\n",
    "\n",
    "    # \"dunder init\" - initializer - note 2 underscores before and after init\n",
    "    # this method will run when you instantiate a instace from this class\n",
    "    def __init__(self, school, name, program = \"Cool program\"): # program is by default \"Cool program\"\n",
    "\n",
    "        # set the attributes to the values from the arguments\n",
    "        self.school = school\n",
    "        self.name = name\n",
    "        self.program = program\n",
    "\n",
    "\n",
    "# instantiate the instance person1 that is of type Admission\n",
    "person1 = Admission(\"STI\", \"Ceda\")\n",
    "\n",
    "person1.school"
   ]
  },
  {
   "cell_type": "code",
   "execution_count": 3,
   "id": "51d9e5ab",
   "metadata": {},
   "outputs": [
    {
     "data": {
      "text/plain": [
       "'Cool program'"
      ]
     },
     "execution_count": 3,
     "metadata": {},
     "output_type": "execute_result"
    }
   ],
   "source": [
    "person1.program"
   ]
  },
  {
   "cell_type": "code",
   "execution_count": 4,
   "id": "10a4f7e6",
   "metadata": {},
   "outputs": [
    {
     "data": {
      "text/plain": [
       "'Java'"
      ]
     },
     "execution_count": 4,
     "metadata": {},
     "output_type": "execute_result"
    }
   ],
   "source": [
    "person2 = Admission(name = \"Jhonny\", school= \"Cool school\", program=\"Java\")\n",
    "person2.program"
   ]
  },
  {
   "cell_type": "markdown",
   "id": "723cdcaf",
   "metadata": {},
   "source": [
    "## Note on memory\n",
    "\n",
    "By default, the \\_\\_repr\\_\\_ of an instace is showing the memory adress of where the instance live\n",
    "\n",
    "- each instance of the class lives in different memory addresses\n",
    "    - they are different objects"
   ]
  },
  {
   "cell_type": "code",
   "execution_count": 6,
   "id": "9f47d633",
   "metadata": {},
   "outputs": [
    {
     "data": {
      "text/plain": [
       "(<__main__.Admission at 0x2543c3f47d0>, <__main__.Admission at 0x2543c3a7ce0>)"
      ]
     },
     "execution_count": 6,
     "metadata": {},
     "output_type": "execute_result"
    }
   ],
   "source": [
    "person1, person2"
   ]
  },
  {
   "cell_type": "code",
   "execution_count": 8,
   "id": "ef370524",
   "metadata": {},
   "outputs": [
    {
     "data": {
      "text/plain": [
       "<__main__.Admission at 0x2543c3d8770>"
      ]
     },
     "execution_count": 8,
     "metadata": {},
     "output_type": "execute_result"
    }
   ],
   "source": [
    "person3 = Admission(name = \"Jhonny\", school= \"Cool school\", program=\"Java\")\n",
    "person3"
   ]
  },
  {
   "cell_type": "markdown",
   "id": "294279a6",
   "metadata": {},
   "source": [
    "## Implement class student"
   ]
  },
  {
   "cell_type": "code",
   "execution_count": null,
   "id": "3ddfa5eb",
   "metadata": {},
   "outputs": [],
   "source": [
    "class Student:\n",
    "    def __init__(self, name, type_of_student, passes, school, age):\n",
    "        self.name = name\n",
    "        self.type_of_student = type_of_student\n",
    "        self.passes = passes\n",
    "        self.school = school\n",
    "        self.age = age"
   ]
  },
  {
   "cell_type": "code",
   "execution_count": null,
   "id": "6275fbbb",
   "metadata": {},
   "outputs": [
    {
     "data": {
      "text/plain": [
       "23"
      ]
     },
     "execution_count": 12,
     "metadata": {},
     "output_type": "execute_result"
    }
   ],
   "source": [
    "s1 = Student(\"Anna\", \"Data engineering\", passes=True, school=\"STI\", age=23)\n",
    "s2 = Student(\"Beda\", \"UX\", True, \"STI\", 33)"
   ]
  },
  {
   "cell_type": "markdown",
   "id": "c065734d",
   "metadata": {},
   "source": []
  }
 ],
 "metadata": {
  "kernelspec": {
   "display_name": "Python_Course_Felix_Kjellberg_DE25",
   "language": "python",
   "name": "python3"
  },
  "language_info": {
   "codemirror_mode": {
    "name": "ipython",
    "version": 3
   },
   "file_extension": ".py",
   "mimetype": "text/x-python",
   "name": "python",
   "nbconvert_exporter": "python",
   "pygments_lexer": "ipython3",
   "version": "3.12.10"
  }
 },
 "nbformat": 4,
 "nbformat_minor": 5
}
