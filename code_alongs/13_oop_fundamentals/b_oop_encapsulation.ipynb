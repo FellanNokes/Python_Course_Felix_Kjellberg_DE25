{
 "cells": [
  {
   "cell_type": "markdown",
   "id": "28064ac4",
   "metadata": {},
   "source": [
    "# OOP encapsulation\n",
    "\n",
    "- information hiding \n",
    "- user don't need to know underlying how it works\n",
    "- for example we can hide validation - e.g. proper age for a person\n",
    "- user of your class needs to know how to use it - i.e. which methods and attributes can be used\n",
    "\n",
    "in general\n",
    "- one way to do encapsulation is to use private attributes and private methods\n",
    "    - these can't be accesed from outside of the class\n",
    "\n",
    "- however in python there is no such thing as private\n",
    "- in python - private by convention by using a underscore prefix"
   ]
  },
  {
   "cell_type": "code",
   "execution_count": 2,
   "id": "40f52e31",
   "metadata": {},
   "outputs": [
    {
     "data": {
      "text/plain": [
       "('Kokchun', 34)"
      ]
     },
     "execution_count": 2,
     "metadata": {},
     "output_type": "execute_result"
    }
   ],
   "source": [
    "# everything public\n",
    "\n",
    "class Person:\n",
    "    def __init__(self, name, age):\n",
    "        self.name = name\n",
    "        self.age = age\n",
    "\n",
    "p1 = Person(\"Kokchun\", 34)\n",
    "p1.name, p1.age"
   ]
  },
  {
   "cell_type": "code",
   "execution_count": 3,
   "id": "881f192e",
   "metadata": {},
   "outputs": [
    {
     "data": {
      "text/plain": [
       "-5"
      ]
     },
     "execution_count": 3,
     "metadata": {},
     "output_type": "execute_result"
    }
   ],
   "source": [
    "p2 = Person(\"Ada\", -5)\n",
    "p2.age"
   ]
  },
  {
   "cell_type": "code",
   "execution_count": null,
   "id": "5ff3885c",
   "metadata": {},
   "outputs": [
    {
     "ename": "AttributeError",
     "evalue": "'Person' object has no attribute 'name'",
     "output_type": "error",
     "traceback": [
      "\u001b[31m---------------------------------------------------------------------------\u001b[39m",
      "\u001b[31mAttributeError\u001b[39m                            Traceback (most recent call last)",
      "\u001b[36mCell\u001b[39m\u001b[36m \u001b[39m\u001b[32mIn[4]\u001b[39m\u001b[32m, line 8\u001b[39m\n\u001b[32m      4\u001b[39m         \u001b[38;5;28mself\u001b[39m._age = age\n\u001b[32m      6\u001b[39m p3 = Person(\u001b[33m\"\u001b[39m\u001b[33mBeda\u001b[39m\u001b[33m\"\u001b[39m, -\u001b[32m3\u001b[39m)\n\u001b[32m----> \u001b[39m\u001b[32m8\u001b[39m \u001b[43mp3\u001b[49m\u001b[43m.\u001b[49m\u001b[43mname\u001b[49m\n",
      "\u001b[31mAttributeError\u001b[39m: 'Person' object has no attribute 'name'"
     ]
    }
   ],
   "source": [
    "class Person:\n",
    "    def __init__(self, name, age):\n",
    "        self._name = name\n",
    "        self._age = age\n",
    "\n",
    "p3 = Person(\"Beda\", -3)\n",
    "\n",
    "p3.name"
   ]
  },
  {
   "cell_type": "markdown",
   "id": "1e7f41d6",
   "metadata": {},
   "source": []
  },
  {
   "cell_type": "code",
   "execution_count": 9,
   "id": "e5f506c2",
   "metadata": {},
   "outputs": [
    {
     "data": {
      "text/plain": [
       "'Beda'"
      ]
     },
     "execution_count": 9,
     "metadata": {},
     "output_type": "execute_result"
    }
   ],
   "source": [
    "# you should not do this, but you can\n",
    "# python programmers agree that this convention means that it is private\n",
    "p3._name"
   ]
  },
  {
   "cell_type": "markdown",
   "id": "9ba3b8e1",
   "metadata": {},
   "source": [
    "fix validation of age - Naive approach"
   ]
  },
  {
   "cell_type": "code",
   "execution_count": null,
   "id": "e82b3830",
   "metadata": {},
   "outputs": [
    {
     "name": "stdout",
     "output_type": "stream",
     "text": [
      "Age must be between 0 and 124\n"
     ]
    },
    {
     "data": {
      "text/plain": [
       "Person('Eda', 5)"
      ]
     },
     "execution_count": 11,
     "metadata": {},
     "output_type": "execute_result"
    }
   ],
   "source": [
    "class Person:\n",
    "    def __init__(self, name, age):\n",
    "        self._name = name\n",
    "\n",
    "        # issue: this validation only happens durning instantiation\n",
    "        if (not 0 <= age <= 125):\n",
    "            raise ValueError(\"Age must be between 0 and 124\")\n",
    "        self._age = age\n",
    "\n",
    "    def __repr__(self):\n",
    "        return f\"Person('{self._name}', {self._age})\"\n",
    "try:\n",
    "    p4 = Person(\"Doda\", -5)\n",
    "except ValueError as err:\n",
    "    print(err)\n",
    "\n",
    "p5 = Person(\"Eda\", 5)\n",
    "p5"
   ]
  },
  {
   "cell_type": "code",
   "execution_count": null,
   "id": "44270f2e",
   "metadata": {},
   "outputs": [
    {
     "data": {
      "text/plain": [
       "Person('Eda', -5)"
      ]
     },
     "execution_count": 13,
     "metadata": {},
     "output_type": "execute_result"
    }
   ],
   "source": [
    "# this is not good, but okay because validation happens only in __init__ now\n",
    "p5._age = -5\n",
    "p5"
   ]
  },
  {
   "cell_type": "markdown",
   "id": "52a68ec4",
   "metadata": {},
   "source": [
    "## property\n",
    "\n",
    "- getter -> gets a value\n",
    "- setter -> sets a value\n",
    "\n",
    "idea: put in validation code in the setter -> encapsulated validation code"
   ]
  },
  {
   "cell_type": "markdown",
   "id": "5b1260e2",
   "metadata": {},
   "source": [
    "### read-only age\n",
    "\n",
    "only the getter is defined with the @property"
   ]
  },
  {
   "cell_type": "code",
   "execution_count": 15,
   "id": "88938c60",
   "metadata": {},
   "outputs": [
    {
     "name": "stdout",
     "output_type": "stream",
     "text": [
      "age getter called\n"
     ]
    },
    {
     "data": {
      "text/plain": [
       "8"
      ]
     },
     "execution_count": 15,
     "metadata": {},
     "output_type": "execute_result"
    }
   ],
   "source": [
    "class Person:\n",
    "    def __init__(self, name, age):\n",
    "        self._name = name\n",
    "\n",
    "        # issue: this validation only happens durning instantiation\n",
    "        if (not 0 <= age <= 125):\n",
    "            raise ValueError(\"Age must be between 0 and 124\")\n",
    "        self._age = age\n",
    "\n",
    "    # a decorator - it gives a function more functionality\n",
    "    # makes it into a property (getter and setter)\n",
    "    @property\n",
    "    def age(self):\n",
    "        print(\"age getter called\")\n",
    "        return self._age\n",
    "\n",
    "\n",
    "    def __repr__(self):\n",
    "        return f\"Person('{self._name}', {self._age})\"\n",
    "    \n",
    "\n",
    "p6 = Person(\"Bibbi\", 8)\n",
    "p6.age"
   ]
  },
  {
   "cell_type": "code",
   "execution_count": null,
   "id": "010b3209",
   "metadata": {},
   "outputs": [
    {
     "ename": "AttributeError",
     "evalue": "property 'age' of 'Person' object has no setter",
     "output_type": "error",
     "traceback": [
      "\u001b[31m---------------------------------------------------------------------------\u001b[39m",
      "\u001b[31mAttributeError\u001b[39m                            Traceback (most recent call last)",
      "\u001b[36mCell\u001b[39m\u001b[36m \u001b[39m\u001b[32mIn[16]\u001b[39m\u001b[32m, line 2\u001b[39m\n\u001b[32m      1\u001b[39m \u001b[38;5;66;03m#there is no setter\u001b[39;00m\n\u001b[32m----> \u001b[39m\u001b[32m2\u001b[39m \u001b[43mp6\u001b[49m\u001b[43m.\u001b[49m\u001b[43mage\u001b[49m = \u001b[32m5\u001b[39m\n",
      "\u001b[31mAttributeError\u001b[39m: property 'age' of 'Person' object has no setter"
     ]
    }
   ],
   "source": [
    "# there is no setter\n",
    "p6.age = 5"
   ]
  },
  {
   "cell_type": "code",
   "execution_count": null,
   "id": "7c622cca",
   "metadata": {},
   "outputs": [],
   "source": [
    "class Person:\n",
    "    def __init__(self, name, age):\n",
    "        self._name = name\n",
    "\n",
    "        # issue: this validation only happens durning instantiation\n",
    "        if (not 0 <= age <= 125):\n",
    "            raise ValueError(\"Age must be between 0 and 124\")\n",
    "        self._age = age\n",
    "\n",
    "    # a decorator - it gives a function more functionality\n",
    "    # makes it into a property (getter and setter)\n",
    "    @property\n",
    "    def age(self):\n",
    "        print(\"age getter called\")\n",
    "        return self._age\n",
    "\n",
    "\n",
    "    def __repr__(self):\n",
    "        return f\"Person('{self._name}', {self._age})\"\n",
    "    \n",
    "p6 = Person(\"Bibbi\", 8)"
   ]
  }
 ],
 "metadata": {
  "kernelspec": {
   "display_name": "Python_Course_Felix_Kjellberg_DE25",
   "language": "python",
   "name": "python3"
  },
  "language_info": {
   "codemirror_mode": {
    "name": "ipython",
    "version": 3
   },
   "file_extension": ".py",
   "mimetype": "text/x-python",
   "name": "python",
   "nbconvert_exporter": "python",
   "pygments_lexer": "ipython3",
   "version": "3.12.10"
  }
 },
 "nbformat": 4,
 "nbformat_minor": 5
}
