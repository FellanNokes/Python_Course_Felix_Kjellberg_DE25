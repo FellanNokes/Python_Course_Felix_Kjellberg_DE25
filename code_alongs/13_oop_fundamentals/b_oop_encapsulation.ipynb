{
 "cells": [
  {
   "cell_type": "markdown",
   "id": "28064ac4",
   "metadata": {},
   "source": [
    "# OOP encapsulation\n",
    "\n",
    "- information hiding \n",
    "- user don't need to know underlying how it works\n",
    "- for example we can hide validation - e.g. proper age for a person\n",
    "- user of your class needs to know how to use it - i.e. which methods and attributes can be used\n",
    "\n",
    "in general\n",
    "- one way to do encapsulation is to use private attributes and private methods\n",
    "    - these can't be accesed from outside of the class\n",
    "\n",
    "- however in python there is no such thing as private\n",
    "- in python - private by convention by using a underscore prefix"
   ]
  },
  {
   "cell_type": "code",
   "execution_count": 25,
   "id": "40f52e31",
   "metadata": {},
   "outputs": [
    {
     "data": {
      "text/plain": [
       "('Kokchun', 34)"
      ]
     },
     "execution_count": 25,
     "metadata": {},
     "output_type": "execute_result"
    }
   ],
   "source": [
    "# everything public\n",
    "\n",
    "class Person:\n",
    "    def __init__(self, name, age):\n",
    "        self.name = name\n",
    "        self.age = age\n",
    "\n",
    "p1 = Person(\"Kokchun\", 34)\n",
    "p1.name, p1.age"
   ]
  },
  {
   "cell_type": "code",
   "execution_count": 26,
   "id": "881f192e",
   "metadata": {},
   "outputs": [
    {
     "data": {
      "text/plain": [
       "-5"
      ]
     },
     "execution_count": 26,
     "metadata": {},
     "output_type": "execute_result"
    }
   ],
   "source": [
    "p2 = Person(\"Ada\", -5)\n",
    "p2.age"
   ]
  },
  {
   "cell_type": "code",
   "execution_count": 27,
   "id": "5ff3885c",
   "metadata": {},
   "outputs": [
    {
     "ename": "AttributeError",
     "evalue": "'Person' object has no attribute 'name'",
     "output_type": "error",
     "traceback": [
      "\u001b[31m---------------------------------------------------------------------------\u001b[39m",
      "\u001b[31mAttributeError\u001b[39m                            Traceback (most recent call last)",
      "\u001b[36mCell\u001b[39m\u001b[36m \u001b[39m\u001b[32mIn[27]\u001b[39m\u001b[32m, line 8\u001b[39m\n\u001b[32m      4\u001b[39m         \u001b[38;5;28mself\u001b[39m._age = age\n\u001b[32m      6\u001b[39m p3 = Person(\u001b[33m\"\u001b[39m\u001b[33mBeda\u001b[39m\u001b[33m\"\u001b[39m, -\u001b[32m3\u001b[39m)\n\u001b[32m----> \u001b[39m\u001b[32m8\u001b[39m \u001b[43mp3\u001b[49m\u001b[43m.\u001b[49m\u001b[43mname\u001b[49m\n",
      "\u001b[31mAttributeError\u001b[39m: 'Person' object has no attribute 'name'"
     ]
    }
   ],
   "source": [
    "class Person:\n",
    "    def __init__(self, name, age):\n",
    "        self._name = name\n",
    "        self._age = age\n",
    "\n",
    "p3 = Person(\"Beda\", -3)\n",
    "\n",
    "p3.name"
   ]
  },
  {
   "cell_type": "markdown",
   "id": "1e7f41d6",
   "metadata": {},
   "source": []
  },
  {
   "cell_type": "code",
   "execution_count": null,
   "id": "e5f506c2",
   "metadata": {},
   "outputs": [
    {
     "data": {
      "text/plain": [
       "'Beda'"
      ]
     },
     "execution_count": 9,
     "metadata": {},
     "output_type": "execute_result"
    }
   ],
   "source": [
    "# you should not do this, but you can\n",
    "# python programmers agree that this convention means that it is private\n",
    "p3._name"
   ]
  },
  {
   "cell_type": "markdown",
   "id": "9ba3b8e1",
   "metadata": {},
   "source": [
    "fix validation of age - Naive approach"
   ]
  },
  {
   "cell_type": "code",
   "execution_count": null,
   "id": "e82b3830",
   "metadata": {},
   "outputs": [
    {
     "name": "stdout",
     "output_type": "stream",
     "text": [
      "Age must be between 0 and 124\n"
     ]
    },
    {
     "data": {
      "text/plain": [
       "Person('Eda', 5)"
      ]
     },
     "execution_count": 11,
     "metadata": {},
     "output_type": "execute_result"
    }
   ],
   "source": [
    "class Person:\n",
    "    def __init__(self, name, age):\n",
    "        self._name = name\n",
    "\n",
    "        # issue: this validation only happens durning instantiation\n",
    "        if (not 0 <= age <= 125):\n",
    "            raise ValueError(\"Age must be between 0 and 124\")\n",
    "        self._age = age\n",
    "\n",
    "    def __repr__(self):\n",
    "        return f\"Person('{self._name}', {self._age})\"\n",
    "try:\n",
    "    p4 = Person(\"Doda\", -5)\n",
    "except ValueError as err:\n",
    "    print(err)\n",
    "\n",
    "p5 = Person(\"Eda\", 5)\n",
    "p5"
   ]
  },
  {
   "cell_type": "code",
   "execution_count": null,
   "id": "44270f2e",
   "metadata": {},
   "outputs": [
    {
     "data": {
      "text/plain": [
       "Person('Eda', -5)"
      ]
     },
     "execution_count": 13,
     "metadata": {},
     "output_type": "execute_result"
    }
   ],
   "source": [
    "# this is not good, but okay because validation happens only in __init__ now\n",
    "p5._age = -5\n",
    "p5"
   ]
  },
  {
   "cell_type": "markdown",
   "id": "52a68ec4",
   "metadata": {},
   "source": [
    "## property\n",
    "\n",
    "- getter -> gets a value\n",
    "- setter -> sets a value\n",
    "\n",
    "idea: put in validation code in the setter -> encapsulated validation code"
   ]
  },
  {
   "cell_type": "markdown",
   "id": "5b1260e2",
   "metadata": {},
   "source": [
    "### read-only age\n",
    "\n",
    "only the getter is defined with the @property"
   ]
  },
  {
   "cell_type": "code",
   "execution_count": null,
   "id": "88938c60",
   "metadata": {},
   "outputs": [
    {
     "name": "stdout",
     "output_type": "stream",
     "text": [
      "age getter called\n"
     ]
    },
    {
     "data": {
      "text/plain": [
       "8"
      ]
     },
     "execution_count": 15,
     "metadata": {},
     "output_type": "execute_result"
    }
   ],
   "source": [
    "class Person:\n",
    "    def __init__(self, name, age):\n",
    "        self._name = name\n",
    "\n",
    "        # issue: this validation only happens durning instantiation\n",
    "        if (not 0 <= age <= 125):\n",
    "            raise ValueError(\"Age must be between 0 and 124\")\n",
    "        self._age = age\n",
    "\n",
    "    # a decorator - it gives a function more functionality\n",
    "    # makes it into a property (getter and setter)\n",
    "    @property\n",
    "    def age(self):\n",
    "        print(\"age getter called\")\n",
    "        return self._age\n",
    "\n",
    "\n",
    "    def __repr__(self):\n",
    "        return f\"Person('{self._name}', {self._age})\"\n",
    "    \n",
    "\n",
    "p6 = Person(\"Bibbi\", 8)\n",
    "p6.age"
   ]
  },
  {
   "cell_type": "code",
   "execution_count": null,
   "id": "010b3209",
   "metadata": {},
   "outputs": [
    {
     "ename": "AttributeError",
     "evalue": "property 'age' of 'Person' object has no setter",
     "output_type": "error",
     "traceback": [
      "\u001b[31m---------------------------------------------------------------------------\u001b[39m",
      "\u001b[31mAttributeError\u001b[39m                            Traceback (most recent call last)",
      "\u001b[36mCell\u001b[39m\u001b[36m \u001b[39m\u001b[32mIn[16]\u001b[39m\u001b[32m, line 2\u001b[39m\n\u001b[32m      1\u001b[39m \u001b[38;5;66;03m#there is no setter\u001b[39;00m\n\u001b[32m----> \u001b[39m\u001b[32m2\u001b[39m \u001b[43mp6\u001b[49m\u001b[43m.\u001b[49m\u001b[43mage\u001b[49m = \u001b[32m5\u001b[39m\n",
      "\u001b[31mAttributeError\u001b[39m: property 'age' of 'Person' object has no setter"
     ]
    }
   ],
   "source": [
    "# there is no setter\n",
    "p6.age = 5"
   ]
  },
  {
   "cell_type": "code",
   "execution_count": null,
   "id": "7c622cca",
   "metadata": {},
   "outputs": [
    {
     "name": "stdout",
     "output_type": "stream",
     "text": [
      "age setter called\n",
      "age getter called\n",
      "age setter called\n",
      "Age must be between 0 and 124\n"
     ]
    }
   ],
   "source": [
    "class Person:\n",
    "    def __init__(self, name, age):\n",
    "        self._name = name\n",
    "\n",
    "        # whenever we do assignment where ther is a setter\n",
    "        # the setter will be called\n",
    "        self.age = age\n",
    "\n",
    "    # a decorator - it gives a function more functionality\n",
    "    # makes it into a property (getter and setter)\n",
    "    @property\n",
    "    def age(self):\n",
    "        print(\"age getter called\")\n",
    "        return self._age\n",
    "\n",
    "    # you need to have getter to implement a setter\n",
    "    @age.setter\n",
    "    def age(self, value):\n",
    "        print(\"age setter called\")\n",
    "\n",
    "        if not 0 <= value <= 125:\n",
    "            raise ValueError(\"Age must be between 0 and 124\")\n",
    "        self._age = value\n",
    "\n",
    "    def __repr__(self):\n",
    "        return f\"Person('{self._name}', {self.age})\"\n",
    "\n",
    "\n",
    "# when instantiating Person - we use the age setter\n",
    "p7 = Person(\"Bobbo\", 8)\n",
    "# use the age getter\n",
    "p7.age\n",
    "\n",
    "try:\n",
    "    p8 = Person(\"Knatte\", -30)\n",
    "except ValueError as err:\n",
    "    print(err)"
   ]
  },
  {
   "cell_type": "code",
   "execution_count": null,
   "id": "d67ee774",
   "metadata": {},
   "outputs": [
    {
     "name": "stdout",
     "output_type": "stream",
     "text": [
      "age setter called\n"
     ]
    },
    {
     "data": {
      "text/plain": [
       "Person('Bobbo', 33)"
      ]
     },
     "execution_count": 32,
     "metadata": {},
     "output_type": "execute_result"
    }
   ],
   "source": [
    "p7.age = 33\n",
    "p7"
   ]
  },
  {
   "cell_type": "code",
   "execution_count": null,
   "id": "bb97d69e",
   "metadata": {},
   "outputs": [
    {
     "name": "stdout",
     "output_type": "stream",
     "text": [
      "age setter called\n",
      "Age must be between 0 and 124\n"
     ]
    },
    {
     "data": {
      "text/plain": [
       "Person('Bobbo', 33)"
      ]
     },
     "execution_count": 30,
     "metadata": {},
     "output_type": "execute_result"
    }
   ],
   "source": [
    "p7.age = -5\n",
    "p7"
   ]
  },
  {
   "cell_type": "markdown",
   "id": "36814180",
   "metadata": {},
   "source": [
    "note in other languages\n",
    "\n",
    "p7.get_age()\n",
    "\n",
    "p7.set_age()"
   ]
  },
  {
   "cell_type": "markdown",
   "id": "7d3635cf",
   "metadata": {},
   "source": [
    "### Exercise - Employee class\n",
    "\n",
    "attributes\n",
    "- public name: str\n",
    "- private social secuirty_nr: int\n",
    "- public salry: int (valdiation)\n",
    "- public role: str\n",
    "- public employment_year: int\n",
    "\n",
    "method\n",
    "- increase_salary(self,value)\n",
    "\n",
    "do:\n",
    "- instantiate a few employees"
   ]
  },
  {
   "cell_type": "code",
   "execution_count": null,
   "id": "81f34649",
   "metadata": {},
   "outputs": [],
   "source": [
    "class Employee:\n",
    "    def __init__(\n",
    "        self,\n",
    "        name: str,\n",
    "        social_security_nr: str,\n",
    "        salary: int,\n",
    "        role: str,\n",
    "        employment_year: int,\n",
    "    ):\n",
    "        self.name = name\n",
    "        self._social_security_nr = social_security_nr\n",
    "        self.salary = salary\n",
    "        self.role = role\n",
    "        self.employment_year = employment_year\n",
    "\n",
    "    @property\n",
    "    def salary(self):\n",
    "        return self._salary\n",
    "\n",
    "    @salary.setter\n",
    "    def salary(self, value):\n",
    "        if value <= 0:\n",
    "            raise ValueError(\"the value must be a positive not {value}\")\n",
    "        self._salary = value\n",
    "\n",
    "    def __repr__(self):\n",
    "        return f\"Employee (name='{self.name}', social_security_nr='{self._social_security_nr}', salary={self._salary}, role='{self.role}', employment_year={self.employment_year})\"\n",
    "\n",
    "    def __str__(self):\n",
    "        return f\"{self.name} has the role: {self.role} and started working year {self.employment_year} and is making {self.salary} kr per month\"\n",
    "\n",
    "    def inrease_salary(self, value):\n",
    "        self.salary += value\n",
    "        print(f\"{self.name} now has {self.salary} kr after the pay raise of {value} \")\n",
    "\n",
    "\n",
    "employee1 = Employee(\"Anja\", \"980508-2353\", 60000, \"Data Engineer\", 2027)\n",
    "employee2 = Employee(\"Felix\", \"940423-4032\", 61000, \"Data Engineer\", 2027)"
   ]
  },
  {
   "cell_type": "code",
   "execution_count": null,
   "id": "7886af31",
   "metadata": {},
   "outputs": [
    {
     "name": "stdout",
     "output_type": "stream",
     "text": [
      "Anja now has 65000 kr after the pay raise of 2500 \n",
      "Anja has the role: Data Engineer and started working year 2027 and is making 65000 kr per month\n",
      "Felix now has 91000 kr after the pay raise of 30000 \n"
     ]
    }
   ],
   "source": [
    "employee1.inrease_salary(2500)\n",
    "print(employee1)\n",
    "employee2\n",
    "employee2.inrease_salary(30000)"
   ]
  },
  {
   "cell_type": "markdown",
   "id": "cd354cc4",
   "metadata": {},
   "source": [
    "## OOP emloyee encapsulation exercise - Solution"
   ]
  },
  {
   "cell_type": "markdown",
   "id": "b4149d49",
   "metadata": {},
   "source": [
    "#### version 1"
   ]
  },
  {
   "cell_type": "code",
   "execution_count": null,
   "id": "82c97b14",
   "metadata": {},
   "outputs": [
    {
     "data": {
      "text/plain": [
       "Employee(Cici, 202112012222, 30000, säljare, 2024"
      ]
     },
     "execution_count": 22,
     "metadata": {},
     "output_type": "execute_result"
    }
   ],
   "source": [
    "class Employee:\n",
    "    def __init__(self, name, social_security_nr, salary, role, employment_year):\n",
    "        self.name = name\n",
    "        self._social_security_nr = social_security_nr\n",
    "        self.salary = salary\n",
    "        self.role = role\n",
    "        self.employment_year = employment_year\n",
    "\n",
    "    def increase_salary(self, value):\n",
    "        self.salary += value\n",
    "\n",
    "    def __repr__(self):\n",
    "        return f\"Employee({self.name}, {self._social_security_nr}, {self.salary}, {self.role}, {self.employment_year}\"\n",
    "    \n",
    "e1=Employee(\"Cici\", 202112012222, 25000, \"säljare\", 2024)\n",
    "\n",
    "\n",
    "e1.increase_salary(5000)\n",
    "e1"
   ]
  },
  {
   "cell_type": "markdown",
   "id": "b8cc094d",
   "metadata": {},
   "source": [
    "#### Version 2\n",
    "\n",
    "- also add type hinting\n",
    "- documentation"
   ]
  },
  {
   "cell_type": "code",
   "execution_count": 6,
   "id": "9c982031",
   "metadata": {},
   "outputs": [],
   "source": [
    "class Employee:\n",
    "    \"\"\"\n",
    "    A class to hold employee information\n",
    "\n",
    "    Attributes:\n",
    "    - name (str): name of the person\n",
    "    - social_security_nr (int): the social security number of the person in 12 numbers\n",
    "    - salary(int): salary in SEK, need to be larger to 0\n",
    "    - role(str): role of employee\n",
    "    - employment_year(int): the year employee joined the company\n",
    "\n",
    "    Methods:\n",
    "    - increase_salary(value): increases the salary of the employee with value SEK\n",
    "\n",
    "    example usage:\n",
    "    >>> e1 = Employee(\"Diddi\", 202112012222, 25000, \"säljare\", 2024)\n",
    "    >>> e1.increase_salary(500)\n",
    "    >>> e1.salary\n",
    "    \"\"\"\n",
    "    def __init__(\n",
    "        self,\n",
    "        name: str,\n",
    "        social_security_nr: int,\n",
    "        salary: int,\n",
    "        role: str,\n",
    "        employment_year: int,\n",
    "    ) -> None:\n",
    "        self.name = name\n",
    "        self._social_security_nr = social_security_nr\n",
    "        self.salary = salary\n",
    "        self.role = role\n",
    "        self.employment_year = employment_year\n",
    "\n",
    "    @property\n",
    "    def salary(self) -> int:\n",
    "        return self._salary\n",
    "\n",
    "    @salary.setter\n",
    "    def salary(self, value) -> None:\n",
    "        if value <= 0:\n",
    "            raise ValueError(f\"salary can't be negative, you inputted {value}\")\n",
    "        self._salary = value\n",
    "\n",
    "    def increase_salary(self, value) -> None:\n",
    "        self.salary += value\n",
    "\n",
    "    def __repr__(self) -> str:\n",
    "        return f\"Employee({self.name}, {self._social_security_nr}, {self.salary}, {self.role}, {self.employment_year})\"\n",
    "\n",
    "\n",
    "e1 = Employee(\"Diddi\", 202112012222, 25000, \"säljare\", 2024)"
   ]
  },
  {
   "cell_type": "code",
   "execution_count": 3,
   "id": "4b1362f8",
   "metadata": {},
   "outputs": [
    {
     "data": {
      "text/plain": [
       "Employee(1, 1, 1, 1, 1"
      ]
     },
     "execution_count": 3,
     "metadata": {},
     "output_type": "execute_result"
    }
   ],
   "source": [
    "# possible because type hints are only hints\n",
    "Employee(1,1,1,1,1)"
   ]
  },
  {
   "cell_type": "code",
   "execution_count": null,
   "id": "f300da2c",
   "metadata": {},
   "outputs": [
    {
     "name": "stdout",
     "output_type": "stream",
     "text": [
      "Help on class Employee in module __main__:\n",
      "\n",
      "class Employee(builtins.object)\n",
      " |  Employee(name: str, social_security_nr: int, salary: int, role: str, employment_year: int)\n",
      " |\n",
      " |  A class to hold employee information\n",
      " |\n",
      " |  Attributes:\n",
      " |  - name (str): name of the person\n",
      " |  - social_security_nr (int): the social security number of the person in 12 numbers\n",
      " |  - salary(int): salary in SEK, need to be larger to 0\n",
      " |  - role(str): role of employee\n",
      " |  - employment_year(int): the year employee joined the company\n",
      " |\n",
      " |  Methods:\n",
      " |  - increase_salary(value): increases the salary of the employee with value SEK\n",
      " |\n",
      " |  example usage:\n",
      " |  >>> e1 = Employee(\"Diddi\", 202112012222, 25000, \"säljare\", 2024)\n",
      " |  >>> e1.increase_salary(500)\n",
      " |  >>> e1.salary\n",
      " |\n",
      " |  Methods defined here:\n",
      " |\n",
      " |  __init__(self, name: str, social_security_nr: int, salary: int, role: str, employment_year: int)\n",
      " |      Initialize self.  See help(type(self)) for accurate signature.\n",
      " |\n",
      " |  __repr__(self)\n",
      " |      Return repr(self).\n",
      " |\n",
      " |  increase_salary(self, value)\n",
      " |\n",
      " |  ----------------------------------------------------------------------\n",
      " |  Data descriptors defined here:\n",
      " |\n",
      " |  __dict__\n",
      " |      dictionary for instance variables\n",
      " |\n",
      " |  __weakref__\n",
      " |      list of weak references to the object\n",
      " |\n",
      " |  salary\n",
      "\n"
     ]
    }
   ],
   "source": [
    "Employee()\n",
    "help(Employee)"
   ]
  },
  {
   "cell_type": "code",
   "execution_count": null,
   "id": "90767eb2",
   "metadata": {},
   "outputs": [],
   "source": []
  }
 ],
 "metadata": {
  "kernelspec": {
   "display_name": "Python_Course_Felix_Kjellberg_DE25",
   "language": "python",
   "name": "python3"
  },
  "language_info": {
   "codemirror_mode": {
    "name": "ipython",
    "version": 3
   },
   "file_extension": ".py",
   "mimetype": "text/x-python",
   "name": "python",
   "nbconvert_exporter": "python",
   "pygments_lexer": "ipython3",
   "version": "3.12.10"
  }
 },
 "nbformat": 4,
 "nbformat_minor": 5
}
