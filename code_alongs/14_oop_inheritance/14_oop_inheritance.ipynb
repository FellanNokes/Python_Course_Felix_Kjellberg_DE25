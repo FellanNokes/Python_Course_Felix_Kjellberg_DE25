{
 "cells": [
  {
   "cell_type": "markdown",
   "id": "74e6135d",
   "metadata": {},
   "source": [
    "# Inheritance"
   ]
  },
  {
   "cell_type": "code",
   "execution_count": null,
   "id": "5d53c8a6",
   "metadata": {},
   "outputs": [],
   "source": [
    "\n",
    "class Person:\n",
    "    def __init__(self, name: str, age: int):\n",
    "        self._name = name\n",
    "        self.age = age\n",
    "\n",
    "    @property\n",
    "    def name(self) -> str:\n",
    "        return self._name\n",
    "    \n",
    "    @property\n",
    "    def age(self) -> int:\n",
    "        return self._age\n",
    "    \n",
    "    @age.setter\n",
    "    def age(self, value: int) -> None:\n",
    "        if not isinstance(value, int):\n",
    "            raise TypeError(f\"type must be int, not {type(value)}\")\n",
    "        if value < 0  or value > 125:\n",
    "            raise ValueError(f\"Age must be between 0 and 124 you not {value}\")\n",
    "        self._age = value\n",
    "\n",
    "    def say_hi(self) -> None:\n",
    "        print(f\"{self.name} says hi!\")"
   ]
  },
  {
   "cell_type": "code",
   "execution_count": 35,
   "id": "f168c328",
   "metadata": {},
   "outputs": [
    {
     "name": "stdout",
     "output_type": "stream",
     "text": [
      "Börje says hi!\n"
     ]
    }
   ],
   "source": [
    "p1 = Person(\"Börje\", 50)\n",
    "p1.say_hi()"
   ]
  },
  {
   "cell_type": "code",
   "execution_count": 32,
   "id": "ee0fde38",
   "metadata": {},
   "outputs": [
    {
     "name": "stdout",
     "output_type": "stream",
     "text": [
      "Age must be between 0 and 124 you not -5\n",
      "type must be int, not <class 'str'>\n"
     ]
    }
   ],
   "source": [
    "try:\n",
    "    p2 = Person(\"Ceda\", -5)\n",
    "except ValueError as err:\n",
    "    print(err)\n",
    "\n",
    "try:\n",
    "    p3 = Person(\"Dadda\", age=\"femtio\")\n",
    "except TypeError as err:\n",
    "    print(err)"
   ]
  },
  {
   "cell_type": "markdown",
   "id": "4270dde7",
   "metadata": {},
   "source": [
    "## Implement Student"
   ]
  },
  {
   "cell_type": "code",
   "execution_count": 36,
   "id": "c649f286",
   "metadata": {},
   "outputs": [],
   "source": [
    "class Student(Person):\n",
    "    def __init__(self, name: str, age: int, language: str):\n",
    "        # this goes to the parent and use its __init__\n",
    "        super().__init__(name, age)\n",
    "        self.language = language\n",
    "\n",
    "    def say_hi(self):\n",
    "        return super().say_hi()\n",
    "    \n",
    "s1 = Student(\"Bjorn\", 29, \"Norska\")"
   ]
  }
 ],
 "metadata": {
  "kernelspec": {
   "display_name": "Python_Course_Felix_Kjellberg_DE25",
   "language": "python",
   "name": "python3"
  },
  "language_info": {
   "codemirror_mode": {
    "name": "ipython",
    "version": 3
   },
   "file_extension": ".py",
   "mimetype": "text/x-python",
   "name": "python",
   "nbconvert_exporter": "python",
   "pygments_lexer": "ipython3",
   "version": "3.12.10"
  }
 },
 "nbformat": 4,
 "nbformat_minor": 5
}
