{
 "cells": [
  {
   "cell_type": "markdown",
   "id": "bf3b3f2a",
   "metadata": {},
   "source": [
    "# Exploring the module oldcoins"
   ]
  },
  {
   "cell_type": "code",
   "execution_count": 2,
   "id": "115be716",
   "metadata": {},
   "outputs": [
    {
     "data": {
      "text/plain": [
       "OldCoinStash(owner='Ragnar Lohtbroke')"
      ]
     },
     "execution_count": 2,
     "metadata": {},
     "output_type": "execute_result"
    }
   ],
   "source": [
    "from oldcoins import OldCoinsStash\n",
    "\n",
    "stash_ragnar = OldCoinsStash(\"Ragnar Lohtbroke\")\n",
    "stash_ragnar"
   ]
  },
  {
   "cell_type": "code",
   "execution_count": null,
   "id": "003b6463",
   "metadata": {},
   "outputs": [
    {
     "data": {
      "text/plain": [
       "'Coins in stash: 795 riksdaler, 1767 skilling'"
      ]
     },
     "execution_count": 6,
     "metadata": {},
     "output_type": "execute_result"
    }
   ],
   "source": [
    "stash_ragnar.deposit(265, 589)"
   ]
  },
  {
   "cell_type": "code",
   "execution_count": 7,
   "id": "7e6fb8ae",
   "metadata": {},
   "outputs": [
    {
     "data": {
      "text/plain": [
       "'Coins in stash: 795 riksdaler, 1767 skilling'"
      ]
     },
     "execution_count": 7,
     "metadata": {},
     "output_type": "execute_result"
    }
   ],
   "source": [
    "stash_ragnar.check_balance()"
   ]
  },
  {
   "cell_type": "code",
   "execution_count": 8,
   "id": "570d894a",
   "metadata": {},
   "outputs": [],
   "source": [
    "stash_ragnar.withdraw(skilling=60, riksdaler= 50)"
   ]
  },
  {
   "cell_type": "code",
   "execution_count": 10,
   "id": "30b2ad52",
   "metadata": {},
   "outputs": [
    {
     "data": {
      "text/plain": [
       "'Coins in stash: 745 riksdaler, 1707 skilling'"
      ]
     },
     "execution_count": 10,
     "metadata": {},
     "output_type": "execute_result"
    }
   ],
   "source": [
    "stash_ragnar.check_balance()"
   ]
  },
  {
   "cell_type": "code",
   "execution_count": 11,
   "id": "ae107666",
   "metadata": {},
   "outputs": [],
   "source": [
    "stash_bjorn = OldCoinsStash(\"Bjorn\")"
   ]
  },
  {
   "cell_type": "code",
   "execution_count": 12,
   "id": "a66b9b22",
   "metadata": {},
   "outputs": [
    {
     "data": {
      "text/plain": [
       "'Coins in stash: 0 riksdaler, 0 skilling'"
      ]
     },
     "execution_count": 12,
     "metadata": {},
     "output_type": "execute_result"
    }
   ],
   "source": [
    "stash_bjorn.check_balance()"
   ]
  },
  {
   "cell_type": "code",
   "execution_count": null,
   "id": "ceeff2ba",
   "metadata": {},
   "outputs": [],
   "source": []
  }
 ],
 "metadata": {
  "kernelspec": {
   "display_name": "Python_Course_Felix_Kjellberg_DE25",
   "language": "python",
   "name": "python3"
  },
  "language_info": {
   "codemirror_mode": {
    "name": "ipython",
    "version": 3
   },
   "file_extension": ".py",
   "mimetype": "text/x-python",
   "name": "python",
   "nbconvert_exporter": "python",
   "pygments_lexer": "ipython3",
   "version": "3.12.10"
  }
 },
 "nbformat": 4,
 "nbformat_minor": 5
}
