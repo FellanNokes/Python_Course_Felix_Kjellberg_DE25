{
 "cells": [
  {
   "cell_type": "markdown",
   "id": "284d0ea8",
   "metadata": {},
   "source": [
    "# Lecture 5b - while loop\n",
    "- loop through the same block of codes serval times\n",
    "- number of looping is not know when starting a while loop"
   ]
  },
  {
   "cell_type": "code",
   "execution_count": null,
   "id": "e0cb4d56",
   "metadata": {},
   "outputs": [
    {
     "name": "stdout",
     "output_type": "stream",
     "text": [
      "0\n",
      "2\n",
      "4\n"
     ]
    }
   ],
   "source": [
    "# a simple example\n",
    "\n",
    "i = 0\n",
    "\n",
    "while i < 5: #repeat multiple time until the condition is not met\n",
    "    print(i)\n",
    "    i += 2 # += is similar to =, also assignment operator, it does i + = i + 2"
   ]
  },
  {
   "cell_type": "markdown",
   "id": "94f3110f",
   "metadata": {},
   "source": [
    "#### Example of oil leakage\n",
    "- in year 0, we have 80000 birds\n",
    "- due to oil leakage, 50% of birds will die every year (note that the nr of dead birds is not an absolute number)\n",
    "- when will the number of brids become 8000?"
   ]
  },
  {
   "cell_type": "code",
   "execution_count": null,
   "id": "6ec010b1",
   "metadata": {},
   "outputs": [
    {
     "name": "stdout",
     "output_type": "stream",
     "text": [
      "in the begining 0 year, there are 80000 left\n",
      "at the end of year 0 there are 40000 left\n",
      "--------------------------\n",
      "in the begining 1 year, there are 40000 left\n",
      "at the end of year 1 there are 20000 left\n",
      "--------------------------\n",
      "in the begining 2 year, there are 20000 left\n",
      "at the end of year 2 there are 10000 left\n",
      "--------------------------\n",
      "in the begining 3 year, there are 10000 left\n",
      "at the end of year 3 there are 5000 left\n",
      "--------------------------\n",
      "it takes {year} for the bird population to fall bellow 8000\n"
     ]
    }
   ],
   "source": [
    "# initial values for year and birds variables\n",
    "birds = 80000\n",
    "year = 0\n",
    "\n",
    "while birds > 8000: #provides a condition, not the number of looping times with the while statement\n",
    "    print(f\"in the begining {year} year, there are {birds:.0f} left\") # note that we format birds variable to remove decibles\n",
    "    birds /= 2 # use the assignment operator /=, to simplify the code: birds = bird/2\n",
    "    print(f\"at the end of year {year} there are {birds:.0f} left\")\n",
    "    print(\"--------------------------\")\n",
    "    year += 1\n",
    "    \n",
    "\n",
    "print(\"it takes {year} for the bird population to fall bellow 8000\")"
   ]
  },
  {
   "cell_type": "markdown",
   "id": "efe783b0",
   "metadata": {},
   "source": [
    "#### Infinite while loop and break statement\n",
    "- the special thing about an infinite while loop is that the condition is always True\n",
    "- loop through the same block of codes serval times\n",
    "- number of looping is not know when starting a while loop\n",
    "- instead of having the condition at the beginning of the whule loop, the condition is still here, but it is evaluated within the block of codes that we want to repeat\n",
    "- the motivation/use case: whether the condition is met will be decided during the iteration"
   ]
  },
  {
   "cell_type": "code",
   "execution_count": 16,
   "id": "75e29277",
   "metadata": {},
   "outputs": [
    {
     "name": "stdout",
     "output_type": "stream",
     "text": [
      "0\n",
      "1\n",
      "2\n",
      "3\n",
      "4\n"
     ]
    }
   ],
   "source": [
    "# turning the simple above an infinite while loop\n",
    "\n",
    "i = 0\n",
    "\n",
    "while True:\n",
    "    print(i)\n",
    "    i += 1\n",
    "    if i >= 5: # this is the same as saying when i is bigger than\n",
    "        break"
   ]
  },
  {
   "cell_type": "code",
   "execution_count": null,
   "id": "47f4e58b",
   "metadata": {},
   "outputs": [],
   "source": []
  }
 ],
 "metadata": {
  "kernelspec": {
   "display_name": "Python_Course_Felix_Kjellberg_DE25",
   "language": "python",
   "name": "python3"
  },
  "language_info": {
   "codemirror_mode": {
    "name": "ipython",
    "version": 3
   },
   "file_extension": ".py",
   "mimetype": "text/x-python",
   "name": "python",
   "nbconvert_exporter": "python",
   "pygments_lexer": "ipython3",
   "version": "3.12.10"
  }
 },
 "nbformat": 4,
 "nbformat_minor": 5
}
