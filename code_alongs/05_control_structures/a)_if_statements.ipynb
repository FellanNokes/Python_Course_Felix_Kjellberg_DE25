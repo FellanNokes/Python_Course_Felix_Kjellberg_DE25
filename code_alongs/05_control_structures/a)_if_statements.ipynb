{
 "cells": [
  {
   "cell_type": "markdown",
   "id": "5b42c270",
   "metadata": {},
   "source": [
    "# Lecture 5a - if statement\n",
    "- one way to control the flow of running the scripts \n",
    "- use if statement for controlling the flow based on conditions"
   ]
  },
  {
   "cell_type": "markdown",
   "id": "fbfb3dc5",
   "metadata": {},
   "source": [
    "### Example of two possible scenarios\n",
    "- based on the user's input of age, print out a message showing that it the user should watch a scary movie"
   ]
  },
  {
   "cell_type": "code",
   "execution_count": 11,
   "id": "9664a900",
   "metadata": {},
   "outputs": [],
   "source": [
    "age = int(input(\"What is your age\"))"
   ]
  },
  {
   "cell_type": "code",
   "execution_count": null,
   "id": "65fc3c0f",
   "metadata": {},
   "outputs": [
    {
     "data": {
      "text/plain": [
       "int"
      ]
     },
     "execution_count": 2,
     "metadata": {},
     "output_type": "execute_result"
    }
   ],
   "source": [
    "# check the date type of age variable \n",
    "type(age)"
   ]
  },
  {
   "cell_type": "code",
   "execution_count": 1,
   "id": "c7b36a0d",
   "metadata": {},
   "outputs": [],
   "source": [
    "age_limit = 15"
   ]
  },
  {
   "cell_type": "code",
   "execution_count": 2,
   "id": "6d8c2e6b",
   "metadata": {},
   "outputs": [
    {
     "data": {
      "text/plain": [
       "int"
      ]
     },
     "execution_count": 2,
     "metadata": {},
     "output_type": "execute_result"
    }
   ],
   "source": [
    "#check the type of age_limit variable\n",
    "type(age_limit)"
   ]
  },
  {
   "cell_type": "code",
   "execution_count": 12,
   "id": "d311785b",
   "metadata": {},
   "outputs": [
    {
     "name": "stdout",
     "output_type": "stream",
     "text": [
      "Enjoy the scary movie\n"
     ]
    }
   ],
   "source": [
    "# we compare the two variables age and age_limit, to set up out condition for the if statement \n",
    "\n",
    "# between if and : specify your condition\n",
    "if age < age_limit: \n",
    "    # if the condition is met, run this block of code\n",
    "    print(\"Sorry, you are too young to watch this scary movie\")\n",
    "    print(\"Go watch a cartoon instead\")\n",
    "\n",
    "else:\n",
    "    # if the condition is not met, run this block of code instead\n",
    "    print(\"Enjoy the scary movie\")"
   ]
  },
  {
   "cell_type": "markdown",
   "id": "3c5645e4",
   "metadata": {},
   "source": [
    "### Example of more than two possible scenarios\n",
    "- use if - elif - else statement\n",
    "- the following example shows how to suggest the dos of medicine depending on the patient's weight"
   ]
  },
  {
   "cell_type": "code",
   "execution_count": null,
   "id": "6534e594",
   "metadata": {},
   "outputs": [
    {
     "name": "stdout",
     "output_type": "stream",
     "text": [
      "The patient should take 500mg per day\n"
     ]
    }
   ],
   "source": [
    "weight = float(input(\"Whats is your weight in kg:\"))\n",
    "\n",
    "type(weight)\n",
    "\n",
    "\n",
    "if weight < 20:\n",
    "    # python will check first check if weight is less than 20 or not\n",
    "    # if yes, run this part of the code and stop\n",
    "    print(\"The patient should take 500mg per day\")\n",
    "\n",
    "elif weight < 40:\n",
    "    # python will check if weight is less than 40\n",
    "    # if yes run this part of code and stop\n",
    "    print(\"The patient should take 750mg per day\")\n",
    "\n",
    "else:\n",
    "    print(\"The patient should take 1000mg per day\")\n",
    "    # if the two scenarios above are not met, python will run this part of the code and stop\n"
   ]
  },
  {
   "cell_type": "markdown",
   "id": "d926b18d",
   "metadata": {},
   "source": []
  },
  {
   "cell_type": "markdown",
   "id": "742bb6b7",
   "metadata": {},
   "source": [
    "#### Modulo operator (%)\n",
    "\n",
    "- return the reminder of a division\n",
    "- for example 5 % 3 = 2, 9 % 3 = 0"
   ]
  },
  {
   "cell_type": "code",
   "execution_count": 1,
   "id": "c776e2af",
   "metadata": {},
   "outputs": [],
   "source": [
    "number = 5"
   ]
  },
  {
   "cell_type": "code",
   "execution_count": null,
   "id": "02df2b52",
   "metadata": {},
   "outputs": [
    {
     "name": "stdout",
     "output_type": "stream",
     "text": [
      "it is an odd number and the value assigned to this 1\n"
     ]
    }
   ],
   "source": [
    "if number % 2 == 0: \n",
    "    print(f\"it is an even number and the value assigned to this is {number}\")\n",
    "else:\n",
    "    print(f\"it is an odd number and the value assigned to this is {number}\")"
   ]
  },
  {
   "cell_type": "markdown",
   "id": "23d71e3e",
   "metadata": {},
   "source": [
    "#### Nested if statement\n",
    "- when we have another if statement under a scenario\n",
    "- you need to think if nested if statement produce clean code"
   ]
  },
  {
   "cell_type": "code",
   "execution_count": 1,
   "id": "5286e230",
   "metadata": {},
   "outputs": [],
   "source": [
    "number = int(input(\"Enter a number: \"))"
   ]
  },
  {
   "cell_type": "code",
   "execution_count": null,
   "id": "8206ed9b",
   "metadata": {},
   "outputs": [
    {
     "name": "stdout",
     "output_type": "stream",
     "text": [
      "this is not divisible by 5\n"
     ]
    }
   ],
   "source": [
    "# if a number is divisible by 5, further check if it is divisible by 2\n",
    "if number % 5 == 0:\n",
    "    print(\"this is divisible by 5. Check also if it is divisible by 2\")\n",
    "    if number % 2 == 0:\n",
    "        print(\"this an even number\")\n",
    "    else:\n",
    "        print(\"this is an odd number\")\n",
    "\n",
    "else:\n",
    "    print(\"this is not divisible by 5. No need to check more\")"
   ]
  },
  {
   "cell_type": "markdown",
   "id": "2089bad2",
   "metadata": {},
   "source": [
    "#### One line if statement\n",
    "- you write one line if statement, usually when refractoring your original if statement with multiple lines of codes\n",
    "- you need to think about if an one line if statement can make your code better, is it cleaner and more readable?"
   ]
  },
  {
   "cell_type": "code",
   "execution_count": 3,
   "id": "f35bb88f",
   "metadata": {},
   "outputs": [],
   "source": [
    "name = \"Olivia\"\n",
    "gender = \"Female\"\n",
    "age = 7"
   ]
  },
  {
   "cell_type": "code",
   "execution_count": null,
   "id": "d7b1db4d",
   "metadata": {},
   "outputs": [],
   "source": [
    "# multiple lines of code\n",
    "if \"O\" in name:\n",
    "    print(\"Theres is letter O in the name\")"
   ]
  },
  {
   "cell_type": "code",
   "execution_count": 4,
   "id": "1ac8e9a1",
   "metadata": {},
   "outputs": [
    {
     "name": "stdout",
     "output_type": "stream",
     "text": [
      "There is letter O in the name\n"
     ]
    }
   ],
   "source": [
    "# one line of code\n",
    "if \"O\" in name: print(\"There is letter O in the name\")"
   ]
  }
 ],
 "metadata": {
  "kernelspec": {
   "display_name": "Python_Course_Felix_Kjellberg_DE25",
   "language": "python",
   "name": "python3"
  },
  "language_info": {
   "codemirror_mode": {
    "name": "ipython",
    "version": 3
   },
   "file_extension": ".py",
   "mimetype": "text/x-python",
   "name": "python",
   "nbconvert_exporter": "python",
   "pygments_lexer": "ipython3",
   "version": "3.12.10"
  }
 },
 "nbformat": 4,
 "nbformat_minor": 5
}
