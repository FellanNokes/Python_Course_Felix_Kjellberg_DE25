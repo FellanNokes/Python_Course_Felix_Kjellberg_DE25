{
 "cells": [
  {
   "cell_type": "markdown",
   "id": "ce9db5f0",
   "metadata": {},
   "source": [
    "# lecture 5c - for loop\n",
    "- loop through the same block of codes serval times\n",
    "- the number of looping times is known"
   ]
  },
  {
   "cell_type": "code",
   "execution_count": null,
   "id": "505fd0c4",
   "metadata": {},
   "outputs": [
    {
     "name": "stdout",
     "output_type": "stream",
     "text": [
      "0\n",
      "1\n",
      "2\n",
      "3\n",
      "4\n"
     ]
    }
   ],
   "source": [
    "# simple example\n",
    "for i in range(5): # range(n) returns numbers from 0 to n-1\n",
    "    print(i)"
   ]
  },
  {
   "cell_type": "markdown",
   "id": "69d6d2e3",
   "metadata": {},
   "source": [
    "##### range () function\n",
    "- with only one argument, like range(5), end argument, default start is 0 and default step is 1\n",
    "- with three arguments, like range(1, 5, 5) start, end, step argument\n",
    "  - start is at what number we start\n",
    "  - end is at what number we stop\n",
    "  - step is how much we incriment\n"
   ]
  },
  {
   "cell_type": "code",
   "execution_count": 1,
   "id": "47e2d1e1",
   "metadata": {},
   "outputs": [
    {
     "name": "stdout",
     "output_type": "stream",
     "text": [
      "1\n",
      "3\n"
     ]
    }
   ],
   "source": [
    "# an example with three arguments\n",
    "for i in range(1, 5, 2):\n",
    "    print(i)"
   ]
  },
  {
   "cell_type": "code",
   "execution_count": null,
   "id": "2a664dde",
   "metadata": {},
   "outputs": [
    {
     "name": "stdout",
     "output_type": "stream",
     "text": [
      "1 , 3 , "
     ]
    }
   ],
   "source": [
    "# we want to change dafault setting of print() to not start a new line\n",
    "for i in range(1, 5, 2):\n",
    "    print(i, end=\" \")"
   ]
  },
  {
   "cell_type": "markdown",
   "id": "89cd0184",
   "metadata": {},
   "source": [
    "## Some notes about import"
   ]
  },
  {
   "cell_type": "markdown",
   "id": "ea84c78f",
   "metadata": {},
   "source": [
    "Scenario 1\n",
    "- you dont need to import any extra packages\n",
    "- example: create for loop, if statement, while loop etc"
   ]
  },
  {
   "cell_type": "markdown",
   "id": "426da749",
   "metadata": {},
   "source": [
    "Scenario 2\n",
    "- need to import an extra packages (come with python installation)\n",
    "- example: we want to use function from other existing packages\n",
    "- random package"
   ]
  },
  {
   "cell_type": "markdown",
   "id": "28422131",
   "metadata": {},
   "source": [
    "Scenario 3\n",
    "- need to import an extra package (does NOT come with python installation)\n",
    "- example, pandas\n",
    "- one extra step: uv pip install into you uv venv first before import"
   ]
  },
  {
   "cell_type": "markdown",
   "id": "2b740c69",
   "metadata": {},
   "source": [
    "##### random module"
   ]
  },
  {
   "cell_type": "code",
   "execution_count": null,
   "id": "38db5c5c",
   "metadata": {},
   "outputs": [
    {
     "ename": "ModuleNotFoundError",
     "evalue": "No module named 'pandas'",
     "output_type": "error",
     "traceback": [
      "\u001b[31m---------------------------------------------------------------------------\u001b[39m",
      "\u001b[31mModuleNotFoundError\u001b[39m                       Traceback (most recent call last)",
      "\u001b[36mCell\u001b[39m\u001b[36m \u001b[39m\u001b[32mIn[2]\u001b[39m\u001b[32m, line 2\u001b[39m\n\u001b[32m      1\u001b[39m \u001b[38;5;28;01mimport\u001b[39;00m\u001b[38;5;250m \u001b[39m\u001b[34;01mrandom\u001b[39;00m\u001b[38;5;250m \u001b[39m\u001b[38;5;28;01mas\u001b[39;00m\u001b[38;5;250m \u001b[39m\u001b[34;01mrnd\u001b[39;00m\n\u001b[32m----> \u001b[39m\u001b[32m2\u001b[39m \u001b[38;5;28;01mimport\u001b[39;00m\u001b[38;5;250m \u001b[39m\u001b[34;01mpandas\u001b[39;00m\u001b[38;5;250m \u001b[39m\u001b[38;5;28;01mas\u001b[39;00m\u001b[38;5;250m \u001b[39m\u001b[34;01mpd\u001b[39;00m\n",
      "\u001b[31mModuleNotFoundError\u001b[39m: No module named 'pandas'"
     ]
    }
   ],
   "source": [
    "import random as rnd"
   ]
  },
  {
   "cell_type": "markdown",
   "id": "9700f920",
   "metadata": {},
   "source": [
    "##### loop through a list"
   ]
  },
  {
   "cell_type": "markdown",
   "id": "d40c411f",
   "metadata": {},
   "source": [
    "##### example of pythonic code"
   ]
  },
  {
   "cell_type": "code",
   "execution_count": null,
   "id": "27941277",
   "metadata": {},
   "outputs": [],
   "source": []
  }
 ],
 "metadata": {
  "kernelspec": {
   "display_name": ".venv (3.12.10)",
   "language": "python",
   "name": "python3"
  },
  "language_info": {
   "codemirror_mode": {
    "name": "ipython",
    "version": 3
   },
   "file_extension": ".py",
   "mimetype": "text/x-python",
   "name": "python",
   "nbconvert_exporter": "python",
   "pygments_lexer": "ipython3",
   "version": "3.12.10"
  }
 },
 "nbformat": 4,
 "nbformat_minor": 5
}
