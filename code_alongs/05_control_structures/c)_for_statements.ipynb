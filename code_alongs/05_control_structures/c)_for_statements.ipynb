{
 "cells": [
  {
   "cell_type": "markdown",
   "id": "ce9db5f0",
   "metadata": {},
   "source": [
    "# lecture 5c - for loop\n",
    "- loop through the same block of codes serval times\n",
    "- the number of looping times is known"
   ]
  },
  {
   "cell_type": "code",
   "execution_count": null,
   "id": "505fd0c4",
   "metadata": {},
   "outputs": [
    {
     "name": "stdout",
     "output_type": "stream",
     "text": [
      "0\n",
      "1\n",
      "2\n",
      "3\n",
      "4\n"
     ]
    }
   ],
   "source": [
    "# simple example\n",
    "for i in range(5): # range(n) returns numbers from 0 to n-1\n",
    "    print(i)"
   ]
  },
  {
   "cell_type": "markdown",
   "id": "69d6d2e3",
   "metadata": {},
   "source": [
    "##### range () function\n",
    "- with only one argument, like range(5), end argument, default start is 0 and default step is 1\n",
    "- with three arguments, like range(1, 5, 5) start, end, step argument\n",
    "  - start is at what number we start\n",
    "  - end is at what number we stop\n",
    "  - step is how much we incriment\n"
   ]
  },
  {
   "cell_type": "code",
   "execution_count": 1,
   "id": "47e2d1e1",
   "metadata": {},
   "outputs": [
    {
     "name": "stdout",
     "output_type": "stream",
     "text": [
      "1\n",
      "3\n"
     ]
    }
   ],
   "source": [
    "# an example with three arguments\n",
    "for i in range(1, 5, 2):\n",
    "    print(i)"
   ]
  },
  {
   "cell_type": "code",
   "execution_count": null,
   "id": "2a664dde",
   "metadata": {},
   "outputs": [
    {
     "name": "stdout",
     "output_type": "stream",
     "text": [
      "1 , 3 , "
     ]
    }
   ],
   "source": [
    "# we want to change dafault setting of print() to not start a new line\n",
    "for i in range(1, 5, 2):\n",
    "    print(i, end=\" \")"
   ]
  },
  {
   "cell_type": "markdown",
   "id": "89cd0184",
   "metadata": {},
   "source": [
    "## Some notes about import"
   ]
  },
  {
   "cell_type": "markdown",
   "id": "ea84c78f",
   "metadata": {},
   "source": [
    "Scenario 1\n",
    "- you dont need to import any extra packages\n",
    "- example: create for loop, if statement, while loop etc"
   ]
  },
  {
   "cell_type": "markdown",
   "id": "426da749",
   "metadata": {},
   "source": [
    "Scenario 2\n",
    "- need to import an extra packages (come with python installation)\n",
    "- example: we want to use function from other existing packages\n",
    "- random package"
   ]
  },
  {
   "cell_type": "markdown",
   "id": "28422131",
   "metadata": {},
   "source": [
    "Scenario 3\n",
    "- need to import an extra package (does NOT come with python installation)\n",
    "- example, pandas\n",
    "- one extra step: uv pip install into you uv venv first before import"
   ]
  },
  {
   "cell_type": "markdown",
   "id": "2b740c69",
   "metadata": {},
   "source": [
    "##### random module"
   ]
  },
  {
   "cell_type": "code",
   "execution_count": 3,
   "id": "38db5c5c",
   "metadata": {},
   "outputs": [],
   "source": [
    "import random as rnd"
   ]
  },
  {
   "cell_type": "code",
   "execution_count": null,
   "id": "2e4efc35",
   "metadata": {},
   "outputs": [
    {
     "data": {
      "text/plain": [
       "6"
      ]
     },
     "execution_count": 19,
     "metadata": {},
     "output_type": "execute_result"
    }
   ],
   "source": [
    "# generate dice result from one throw\n",
    "# also work on the dice exercise to practise the use of random module\n",
    "dice_roll = rnd.randint(1, 6) # use the alias. when you want to use a function from this module\n",
    "dice_roll"
   ]
  },
  {
   "cell_type": "markdown",
   "id": "9700f920",
   "metadata": {},
   "source": [
    "##### loop through a list"
   ]
  },
  {
   "cell_type": "code",
   "execution_count": 21,
   "id": "f0f9fae0",
   "metadata": {},
   "outputs": [
    {
     "name": "stdout",
     "output_type": "stream",
     "text": [
      "I love to eat apple\n",
      "I love to eat orange\n",
      "I love to eat grape\n"
     ]
    }
   ],
   "source": [
    "# list is a collection of items/values/data\n",
    "\n",
    "fruits = [\"apple\", \"orange\", \"grape\"]\n",
    "\n",
    "for fruit in fruits: # fruits refer to a specific list, fruit is an intermediate variable\n",
    "    print (f\"I love to eat {fruit}\")"
   ]
  },
  {
   "cell_type": "markdown",
   "id": "d40c411f",
   "metadata": {},
   "source": [
    "##### example of pythonic code\n",
    "- a classic ecample when writing a for loop with index\n",
    "- problem solve: loop though the fruits list and also print out the index for each fruit"
   ]
  },
  {
   "cell_type": "code",
   "execution_count": 23,
   "id": "27941277",
   "metadata": {},
   "outputs": [
    {
     "name": "stdout",
     "output_type": "stream",
     "text": [
      "1. apple\n",
      "2. orange\n",
      "3. grape\n"
     ]
    }
   ],
   "source": [
    "for i, fruit in enumerate(fruits, 1):\n",
    "    print(f\"{i}. {fruit}\")"
   ]
  }
 ],
 "metadata": {
  "kernelspec": {
   "display_name": ".venv (3.12.10)",
   "language": "python",
   "name": "python3"
  },
  "language_info": {
   "codemirror_mode": {
    "name": "ipython",
    "version": 3
   },
   "file_extension": ".py",
   "mimetype": "text/x-python",
   "name": "python",
   "nbconvert_exporter": "python",
   "pygments_lexer": "ipython3",
   "version": "3.12.10"
  }
 },
 "nbformat": 4,
 "nbformat_minor": 5
}
