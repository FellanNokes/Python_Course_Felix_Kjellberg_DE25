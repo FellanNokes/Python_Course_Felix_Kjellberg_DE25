{
 "cells": [
  {
   "cell_type": "markdown",
   "id": "ce9db5f0",
   "metadata": {},
   "source": [
    "# lecture 5c - for loop\n",
    "- loop through the same block of codes serval times\n",
    "- the number of looping times is known"
   ]
  },
  {
   "cell_type": "code",
   "execution_count": null,
   "id": "505fd0c4",
   "metadata": {},
   "outputs": [
    {
     "name": "stdout",
     "output_type": "stream",
     "text": [
      "0\n",
      "1\n",
      "2\n",
      "3\n",
      "4\n"
     ]
    }
   ],
   "source": [
    "# simple example\n",
    "for i in range(5): # range(n) returns numbers from 0 to n-1\n",
    "    print(i)"
   ]
  },
  {
   "cell_type": "markdown",
   "id": "69d6d2e3",
   "metadata": {},
   "source": [
    "##### range () function\n",
    "- with only one argument, like range(5), end argument, default start is 0 and default step is 1\n",
    "- with three arguments, like range(1, 5, 5) start, end, step argument\n",
    "  - start is at what number we start\n",
    "  - end is at what number we stop\n",
    "  - step is how much we incriment\n"
   ]
  },
  {
   "cell_type": "code",
   "execution_count": 1,
   "id": "47e2d1e1",
   "metadata": {},
   "outputs": [
    {
     "name": "stdout",
     "output_type": "stream",
     "text": [
      "1\n",
      "3\n"
     ]
    }
   ],
   "source": [
    "# an example with three arguments\n",
    "for i in range(1, 5, 2):\n",
    "    print(i)"
   ]
  },
  {
   "cell_type": "code",
   "execution_count": null,
   "id": "2a664dde",
   "metadata": {},
   "outputs": [
    {
     "name": "stdout",
     "output_type": "stream",
     "text": [
      "1 , 3 , "
     ]
    }
   ],
   "source": [
    "# we want to change dafault setting of print() to not start a new line\n",
    "for i in range(1, 5, 2):\n",
    "    print(i, end=\" \")"
   ]
  },
  {
   "cell_type": "markdown",
   "id": "2b740c69",
   "metadata": {},
   "source": [
    "##### random module"
   ]
  },
  {
   "cell_type": "markdown",
   "id": "9700f920",
   "metadata": {},
   "source": [
    "##### loop through a list"
   ]
  },
  {
   "cell_type": "markdown",
   "id": "d40c411f",
   "metadata": {},
   "source": [
    "##### example of pythonic code"
   ]
  },
  {
   "cell_type": "code",
   "execution_count": null,
   "id": "27941277",
   "metadata": {},
   "outputs": [],
   "source": []
  }
 ],
 "metadata": {
  "kernelspec": {
   "display_name": "Python_Course_Felix_Kjellberg_DE25",
   "language": "python",
   "name": "python3"
  },
  "language_info": {
   "codemirror_mode": {
    "name": "ipython",
    "version": 3
   },
   "file_extension": ".py",
   "mimetype": "text/x-python",
   "name": "python",
   "nbconvert_exporter": "python",
   "pygments_lexer": "ipython3",
   "version": "3.12.10"
  }
 },
 "nbformat": 4,
 "nbformat_minor": 5
}
