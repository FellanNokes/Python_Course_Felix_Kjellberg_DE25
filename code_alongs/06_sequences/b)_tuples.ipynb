{
 "cells": [
  {
   "cell_type": "markdown",
   "id": "d3649d67",
   "metadata": {},
   "source": [
    "## Lecture 6b - Tuples\n",
    "- less flexible than list\n",
    "- but better performance then list"
   ]
  },
  {
   "cell_type": "markdown",
   "id": "dd8f7c9d",
   "metadata": {},
   "source": [
    "#### Create tuple"
   ]
  },
  {
   "cell_type": "code",
   "execution_count": 2,
   "id": "5ca64064",
   "metadata": {},
   "outputs": [],
   "source": [
    "fruits = (\"apple\", \"orange\", \"strawberry\")\n"
   ]
  },
  {
   "cell_type": "markdown",
   "id": "086a5e6e",
   "metadata": {},
   "source": [
    "#### Access item (indexing)"
   ]
  },
  {
   "cell_type": "code",
   "execution_count": 3,
   "id": "8b8880c2",
   "metadata": {},
   "outputs": [
    {
     "data": {
      "text/plain": [
       "'apple'"
      ]
     },
     "execution_count": 3,
     "metadata": {},
     "output_type": "execute_result"
    }
   ],
   "source": [
    "fruits[0]"
   ]
  },
  {
   "cell_type": "markdown",
   "id": "6ad2f63e",
   "metadata": {},
   "source": [
    "#### Accessing multiple items (slicing)"
   ]
  },
  {
   "cell_type": "code",
   "execution_count": 5,
   "id": "b5e67741",
   "metadata": {},
   "outputs": [
    {
     "data": {
      "text/plain": [
       "('apple', 'orange')"
      ]
     },
     "execution_count": 5,
     "metadata": {},
     "output_type": "execute_result"
    }
   ],
   "source": [
    "fruits[0:2]"
   ]
  },
  {
   "cell_type": "markdown",
   "id": "e9942c00",
   "metadata": {},
   "source": [
    "#### Cannot change the value of an item of a tuple"
   ]
  },
  {
   "cell_type": "code",
   "execution_count": null,
   "id": "18a2413a",
   "metadata": {},
   "outputs": [],
   "source": []
  }
 ],
 "metadata": {
  "kernelspec": {
   "display_name": ".venv (3.12.10)",
   "language": "python",
   "name": "python3"
  },
  "language_info": {
   "codemirror_mode": {
    "name": "ipython",
    "version": 3
   },
   "file_extension": ".py",
   "mimetype": "text/x-python",
   "name": "python",
   "nbconvert_exporter": "python",
   "pygments_lexer": "ipython3",
   "version": "3.12.10"
  }
 },
 "nbformat": 4,
 "nbformat_minor": 5
}
