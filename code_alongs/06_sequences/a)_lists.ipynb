{
 "cells": [
  {
   "cell_type": "markdown",
   "id": "43a0df52",
   "metadata": {},
   "source": [
    "# Lecture 6a - Lists\n",
    "- one of the collection data type/iterables\n",
    "- used for storing serveral items in a variable\n",
    "- for collection data type, we will be learing \n",
    "    - characteristics\n",
    "    - available operation"
   ]
  },
  {
   "cell_type": "markdown",
   "id": "79261416",
   "metadata": {},
   "source": [
    "##### Create a list "
   ]
  },
  {
   "cell_type": "code",
   "execution_count": 3,
   "id": "ebacf23b",
   "metadata": {},
   "outputs": [],
   "source": [
    "tv_shows = [\"Antikrundan\", \"Mästerkockarna\", \"Aktuellt\", \"Talang\"]"
   ]
  },
  {
   "cell_type": "markdown",
   "id": "7447309e",
   "metadata": {},
   "source": [
    "##### Access an item\n",
    "- index begins with 0\n",
    "- use the [] to access an item with certain index\n",
    "- by default the first item begins from the left \n",
    "- you can go from right to left by indexing with -1 for the first one from the right"
   ]
  },
  {
   "cell_type": "code",
   "execution_count": 3,
   "id": "86355e56",
   "metadata": {},
   "outputs": [
    {
     "data": {
      "text/plain": [
       "'Mästerkockarna'"
      ]
     },
     "execution_count": 3,
     "metadata": {},
     "output_type": "execute_result"
    }
   ],
   "source": [
    "# to access the second item\n",
    "tv_shows[1]"
   ]
  },
  {
   "cell_type": "code",
   "execution_count": null,
   "id": "ca797bb0",
   "metadata": {},
   "outputs": [
    {
     "data": {
      "text/plain": [
       "'Talang'"
      ]
     },
     "execution_count": 5,
     "metadata": {},
     "output_type": "execute_result"
    }
   ],
   "source": [
    "# to access the last item\n",
    "last_index = len(tv_shows) - 1\n",
    "\n",
    "tv_shows[last_index]"
   ]
  },
  {
   "cell_type": "code",
   "execution_count": 9,
   "id": "64f62171",
   "metadata": {},
   "outputs": [
    {
     "data": {
      "text/plain": [
       "'Talang'"
      ]
     },
     "execution_count": 9,
     "metadata": {},
     "output_type": "execute_result"
    }
   ],
   "source": [
    "# to access the last item - by counting from the right\n",
    "tv_shows[-1]"
   ]
  },
  {
   "cell_type": "markdown",
   "id": "0d7a1895",
   "metadata": {},
   "source": [
    "##### Iterate through a list"
   ]
  },
  {
   "cell_type": "code",
   "execution_count": null,
   "id": "cc26f62b",
   "metadata": {},
   "outputs": [
    {
     "name": "stdout",
     "output_type": "stream",
     "text": [
      "Antikrundan\n",
      "Mästerkockarna\n",
      "Aktuellt\n",
      "Talang\n"
     ]
    }
   ],
   "source": [
    "for tv_show in tv_shows: # tv_show is an intermediate variable created when running the for loop\n",
    "    print(tv_show)\n",
    "\n"
   ]
  },
  {
   "cell_type": "markdown",
   "id": "489ae576",
   "metadata": {},
   "source": [
    "##### Change the value of a list item"
   ]
  },
  {
   "cell_type": "code",
   "execution_count": 12,
   "id": "76159ea7",
   "metadata": {},
   "outputs": [
    {
     "data": {
      "text/plain": [
       "['Vetenskapens värld', 'Mästerkockarna', 'Aktuellt', 'Talang']"
      ]
     },
     "execution_count": 12,
     "metadata": {},
     "output_type": "execute_result"
    }
   ],
   "source": [
    "# assign a new value to the first item in the list\n",
    "tv_shows[0] = \"Vetenskapens värld\"\n",
    "\n",
    "tv_shows"
   ]
  },
  {
   "cell_type": "markdown",
   "id": "8c526580",
   "metadata": {},
   "source": [
    "##### Append new value to a list\n",
    "- adds a new item to the end of the list"
   ]
  },
  {
   "cell_type": "code",
   "execution_count": null,
   "id": "e1c39721",
   "metadata": {},
   "outputs": [
    {
     "data": {
      "text/plain": [
       "['Vetenskapens värld', 'Mästerkockarna', 'Aktuellt', 'Talang', 'Snabba Cash']"
      ]
     },
     "execution_count": 13,
     "metadata": {},
     "output_type": "execute_result"
    }
   ],
   "source": [
    "# tv_shows is a list, therefore, it can use a method called append()\n",
    "tv_shows.append(\"Snabba Cash\")\n",
    "tv_shows"
   ]
  },
  {
   "cell_type": "markdown",
   "id": "fbacf100",
   "metadata": {},
   "source": []
  }
 ],
 "metadata": {
  "kernelspec": {
   "display_name": ".venv (3.12.10)",
   "language": "python",
   "name": "python3"
  },
  "language_info": {
   "codemirror_mode": {
    "name": "ipython",
    "version": 3
   },
   "file_extension": ".py",
   "mimetype": "text/x-python",
   "name": "python",
   "nbconvert_exporter": "python",
   "pygments_lexer": "ipython3",
   "version": "3.12.10"
  }
 },
 "nbformat": 4,
 "nbformat_minor": 5
}
