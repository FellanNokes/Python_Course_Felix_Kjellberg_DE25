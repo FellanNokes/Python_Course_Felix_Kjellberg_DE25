{
 "cells": [
  {
   "cell_type": "markdown",
   "id": "7d08b5e3",
   "metadata": {},
   "source": [
    "# Lecture 9 - File Handling\n",
    "- reading text files (.txt)\n",
    "- we need to \n",
    "    - read the file, clean contents \n",
    "    - clean contents\n",
    "    - write the cleaned contents to a new text file \n",
    "- we focus now on text/string contents"
   ]
  },
  {
   "cell_type": "markdown",
   "id": "bbd2e1d3",
   "metadata": {},
   "source": [
    "## Read file"
   ]
  },
  {
   "cell_type": "markdown",
   "id": "82176f19",
   "metadata": {},
   "source": [
    "#### Open the file directly"
   ]
  },
  {
   "cell_type": "code",
   "execution_count": null,
   "id": "a0dcefdd",
   "metadata": {},
   "outputs": [
    {
     "name": "stdout",
     "output_type": "stream",
     "text": [
      "<_io.TextIOWrapper name='test.txt' mode='r' encoding='cp1252'>\n",
      "juuuhiiihjoh\n",
      "jhhuiikk\n",
      "okjhhhh\n"
     ]
    },
    {
     "data": {
      "text/plain": [
       "False"
      ]
     },
     "execution_count": 4,
     "metadata": {},
     "output_type": "execute_result"
    }
   ],
   "source": [
    "# open the file\n",
    "# the first argument is a path! open() starts form the folder that this script is in\n",
    "# the second arugment is a mode of opening (r is read only)\n",
    "f = open(\"test.txt\", \"r\") \n",
    "\n",
    "print(f)\n",
    "\n",
    "# save the content of the file in a variable\n",
    "text = f.read()\n",
    "print(text)\n",
    "\n",
    "# close the file since we have copied the content of the file into text variable, we no longer need it open\n",
    "f.close()\n",
    "# checks if file is closed returns True when file is closed\n",
    "f.closed"
   ]
  },
  {
   "cell_type": "markdown",
   "id": "b9c2ff0a",
   "metadata": {},
   "source": [
    "#### Open the file with `with` statement"
   ]
  },
  {
   "cell_type": "code",
   "execution_count": null,
   "id": "2e9618cf",
   "metadata": {},
   "outputs": [
    {
     "name": "stdout",
     "output_type": "stream",
     "text": [
      "juuuhiiihjoh\n",
      "jhhuiikk\n",
      "okjhhhh\n"
     ]
    },
    {
     "data": {
      "text/plain": [
       "True"
      ]
     },
     "execution_count": 6,
     "metadata": {},
     "output_type": "execute_result"
    }
   ],
   "source": [
    "with open(\"test.txt\", \"r\") as f:\n",
    "    text = f.read()\n",
    "    # with statement will close the file automatically\n",
    "\n",
    "print(text)\n",
    "f.closed"
   ]
  },
  {
   "cell_type": "markdown",
   "id": "4e2d2ce3",
   "metadata": {},
   "source": []
  }
 ],
 "metadata": {
  "kernelspec": {
   "display_name": "Python_Course_Felix_Kjellberg_DE25",
   "language": "python",
   "name": "python3"
  },
  "language_info": {
   "codemirror_mode": {
    "name": "ipython",
    "version": 3
   },
   "file_extension": ".py",
   "mimetype": "text/x-python",
   "name": "python",
   "nbconvert_exporter": "python",
   "pygments_lexer": "ipython3",
   "version": "3.12.10"
  }
 },
 "nbformat": 4,
 "nbformat_minor": 5
}
