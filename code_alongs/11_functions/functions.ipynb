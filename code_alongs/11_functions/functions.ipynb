{
 "cells": [
  {
   "cell_type": "markdown",
   "id": "b3b08828",
   "metadata": {},
   "source": [
    "# Lecture 11 - Functions\n",
    "- for reusable code"
   ]
  },
  {
   "cell_type": "markdown",
   "id": "9228868a",
   "metadata": {},
   "source": [
    "### Create a function and understand terminology"
   ]
  },
  {
   "cell_type": "code",
   "execution_count": null,
   "id": "e1bc18f3",
   "metadata": {},
   "outputs": [],
   "source": [
    "# create a simple example of function\n",
    "def squarer(x): # use keyword def; squarer is the function name; (x) is the parameter\n",
    "    result = x**2 # statements \n",
    "    return result # return block define the output\n"
   ]
  },
  {
   "cell_type": "code",
   "execution_count": null,
   "id": "8a2dc3b5",
   "metadata": {},
   "outputs": [
    {
     "data": {
      "text/plain": [
       "4"
      ]
     },
     "execution_count": 2,
     "metadata": {},
     "output_type": "execute_result"
    }
   ],
   "source": [
    "# call for a function\n",
    "squarer(2) # cite the function; () is the callable; argument"
   ]
  },
  {
   "cell_type": "markdown",
   "id": "4eae80c1",
   "metadata": {},
   "source": [
    "### Positional arguments"
   ]
  },
  {
   "cell_type": "code",
   "execution_count": 1,
   "id": "79c006e5",
   "metadata": {},
   "outputs": [],
   "source": [
    "def my_fruit(fruit_like, fruit_hate):\n",
    "    print(f\"I like to eat {fruit_like}\")\n",
    "    print(f\"But I hate to eat {fruit_hate}\")\n",
    "    return None # python will add this line if you don't have return block"
   ]
  },
  {
   "cell_type": "code",
   "execution_count": null,
   "id": "906d5fef",
   "metadata": {},
   "outputs": [
    {
     "name": "stdout",
     "output_type": "stream",
     "text": [
      "I like to eat apple\n",
      "I hate to eat orange\n"
     ]
    }
   ],
   "source": [
    "# suppose i like to eat orange and hate to eat apple\n",
    "# check out what is the problem in the order of the arguments below\n",
    "my_fruit(\"apple\", \"orange\")"
   ]
  },
  {
   "cell_type": "markdown",
   "id": "9165757c",
   "metadata": {},
   "source": [
    "### Keyword arguments"
   ]
  },
  {
   "cell_type": "code",
   "execution_count": null,
   "id": "18f96fe3",
   "metadata": {},
   "outputs": [
    {
     "name": "stdout",
     "output_type": "stream",
     "text": [
      "I like to eat orange\n",
      "But I hate to eat apple\n"
     ]
    }
   ],
   "source": [
    "# if you don't want to depend on the positions of argument, provie also the parameter name also\n",
    "my_fruit(fruit_hate=\"apple\", fruit_like=\"orange\")"
   ]
  },
  {
   "cell_type": "code",
   "execution_count": null,
   "id": "24b54032",
   "metadata": {},
   "outputs": [
    {
     "ename": "TypeError",
     "evalue": "my_fruit() takes 2 positional arguments but 3 were given",
     "output_type": "error",
     "traceback": [
      "\u001b[31m---------------------------------------------------------------------------\u001b[39m",
      "\u001b[31mTypeError\u001b[39m                                 Traceback (most recent call last)",
      "\u001b[36mCell\u001b[39m\u001b[36m \u001b[39m\u001b[32mIn[3]\u001b[39m\u001b[32m, line 2\u001b[39m\n\u001b[32m      1\u001b[39m \u001b[38;5;66;03m# what if I provide three fruits\u001b[39;00m\n\u001b[32m----> \u001b[39m\u001b[32m2\u001b[39m \u001b[43mmy_fruit\u001b[49m\u001b[43m(\u001b[49m\u001b[33;43m\"\u001b[39;49m\u001b[33;43mapple\u001b[39;49m\u001b[33;43m\"\u001b[39;49m\u001b[43m,\u001b[49m\u001b[43m \u001b[49m\u001b[33;43m\"\u001b[39;49m\u001b[33;43morange\u001b[39;49m\u001b[33;43m\"\u001b[39;49m\u001b[43m,\u001b[49m\u001b[43m \u001b[49m\u001b[33;43m\"\u001b[39;49m\u001b[33;43mstrawberry\u001b[39;49m\u001b[33;43m\"\u001b[39;49m\u001b[43m)\u001b[49m\n",
      "\u001b[31mTypeError\u001b[39m: my_fruit() takes 2 positional arguments but 3 were given"
     ]
    }
   ],
   "source": [
    "# what if I provide three fruits\n",
    "# due to the error we need to think about other ways to take care of unknown number of arguments\n",
    "my_fruit(\"apple\", \"orange\", \"strawberry\")"
   ]
  },
  {
   "cell_type": "markdown",
   "id": "fa2c59a8",
   "metadata": {},
   "source": [
    "### Unknown number of positional arguments"
   ]
  },
  {
   "cell_type": "code",
   "execution_count": 6,
   "id": "8185e90b",
   "metadata": {},
   "outputs": [],
   "source": [
    "# suppose that I want to print out all fruits that are inputed as arguments to a function\n",
    "# we will use a symbol * in the parameter\n",
    "\n",
    "def print_fruits(*fruits): # star has two meanings: positional arguments, the numbers of arguments will be unkown\n",
    "    for fruit in fruits:\n",
    "        print(fruit)\n",
    "    return type(fruits)"
   ]
  },
  {
   "cell_type": "code",
   "execution_count": null,
   "id": "83810efb",
   "metadata": {},
   "outputs": [
    {
     "name": "stdout",
     "output_type": "stream",
     "text": [
      "apple\n",
      "orange\n",
      "kiwi\n",
      "12\n"
     ]
    },
    {
     "data": {
      "text/plain": [
       "tuple"
      ]
     },
     "execution_count": 8,
     "metadata": {},
     "output_type": "execute_result"
    }
   ],
   "source": [
    "print_fruits(\"apple\",\"orange\",\"kiwi\",\"banana\")"
   ]
  },
  {
   "cell_type": "markdown",
   "id": "afc16f5d",
   "metadata": {},
   "source": [
    "### Uknown number of keyword arguments"
   ]
  },
  {
   "cell_type": "code",
   "execution_count": 9,
   "id": "8655d3d9",
   "metadata": {},
   "outputs": [],
   "source": [
    "def print_nr_fruits(**fruits):\n",
    "    for key, value in fruits.items():\n",
    "        print(key, value)\n",
    "    return type(fruits)"
   ]
  },
  {
   "cell_type": "code",
   "execution_count": 10,
   "id": "7ee1d13e",
   "metadata": {},
   "outputs": [
    {
     "name": "stdout",
     "output_type": "stream",
     "text": [
      "fruit1 orange\n",
      "fruit2 apple\n"
     ]
    },
    {
     "data": {
      "text/plain": [
       "dict"
      ]
     },
     "execution_count": 10,
     "metadata": {},
     "output_type": "execute_result"
    }
   ],
   "source": [
    "print_nr_fruits(fruit1=\"orange\",fruit2=\"apple\") # key is provided when calling for the function"
   ]
  },
  {
   "cell_type": "markdown",
   "id": "b874886d",
   "metadata": {},
   "source": []
  }
 ],
 "metadata": {
  "kernelspec": {
   "display_name": "Python_Course_Felix_Kjellberg_DE25",
   "language": "python",
   "name": "python3"
  },
  "language_info": {
   "codemirror_mode": {
    "name": "ipython",
    "version": 3
   },
   "file_extension": ".py",
   "mimetype": "text/x-python",
   "name": "python",
   "nbconvert_exporter": "python",
   "pygments_lexer": "ipython3",
   "version": "3.12.10"
  }
 },
 "nbformat": 4,
 "nbformat_minor": 5
}
