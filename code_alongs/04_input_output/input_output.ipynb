{
 "cells": [
  {
   "cell_type": "markdown",
   "id": "1e47e379",
   "metadata": {},
   "source": [
    "# Lecture 4 - input, output and variables "
   ]
  },
  {
   "cell_type": "markdown",
   "id": "70987172",
   "metadata": {},
   "source": [
    "## Print statement"
   ]
  },
  {
   "cell_type": "markdown",
   "id": "2662ae12",
   "metadata": {},
   "source": [
    "##### to print out string"
   ]
  },
  {
   "cell_type": "code",
   "execution_count": 8,
   "id": "f9607b18",
   "metadata": {},
   "outputs": [
    {
     "name": "stdout",
     "output_type": "stream",
     "text": [
      "Hello World\n"
     ]
    }
   ],
   "source": [
    "# you can use hastag to comment out lines of codes, the program will not complie anything that is a comment\n",
    "print(\"Hello World\")"
   ]
  },
  {
   "cell_type": "markdown",
   "id": "5774c233",
   "metadata": {},
   "source": [
    "To print out string and varibles"
   ]
  },
  {
   "cell_type": "code",
   "execution_count": 9,
   "id": "a5b629cd",
   "metadata": {},
   "outputs": [
    {
     "name": "stdout",
     "output_type": "stream",
     "text": [
      "Hello Felix\n"
     ]
    }
   ],
   "source": [
    "#create a name variable\n",
    "name = \"Felix\"\n",
    "\n",
    "# print out hello to this person specified in the variable name\n",
    "# when printing string and variables together, we need to use f-string\n",
    "# f-string is used to combine string and variables together\n",
    "# make note of the symbol: f, {}\n",
    "print(f\"Hello {name}\")"
   ]
  },
  {
   "cell_type": "markdown",
   "id": "cc3557d5",
   "metadata": {},
   "source": [
    "## Variables"
   ]
  },
  {
   "cell_type": "markdown",
   "id": "098b7f37",
   "metadata": {},
   "source": [
    "* You can store diffrent types of data in the variable --> assigning value to a variable\n",
    "* we can use the data by referring to the variable instead\n",
    "* in lecture 4, we are only storing one value in them, even though the value can be of diffrent types\n",
    "* in lecture 6, we will see that we can store a collection of values (list , tuple, sets, dictionary)"
   ]
  },
  {
   "cell_type": "markdown",
   "id": "ec9b924f",
   "metadata": {},
   "source": [
    "#### Create varibles with different data types "
   ]
  },
  {
   "cell_type": "code",
   "execution_count": 12,
   "id": "7e4aba93",
   "metadata": {},
   "outputs": [
    {
     "name": "stdout",
     "output_type": "stream",
     "text": [
      "Felix is 31 years old. He weights 115.7 kgs is he cool? It's True he is cool\n"
     ]
    }
   ],
   "source": [
    "#string\n",
    "first_name = \"Felix\"\n",
    "\n",
    "#int\n",
    "age = 31\n",
    "\n",
    "#float\n",
    "weight = 115.7\n",
    "\n",
    "#bool\n",
    "is_cool = True\n",
    "\n",
    "#Printing a message using the variables\n",
    "print(f\"{first_name} is {age} years old. He weights {weight} kgs is he cool? It's {is_cool} he is cool\")"
   ]
  },
  {
   "cell_type": "code",
   "execution_count": 17,
   "id": "023262b2",
   "metadata": {},
   "outputs": [
    {
     "name": "stdout",
     "output_type": "stream",
     "text": [
      "The students name is Felix. His height is 190cm, or more specifically 190.35566 cm.\n"
     ]
    }
   ],
   "source": [
    "#string\n",
    "name = \"Felix\"\n",
    "\n",
    "#int\n",
    "height = 190\n",
    "\n",
    "#float\n",
    "exact_height = 190.355660\n",
    "\n",
    "print(f\"The students name is {name}. His height is {height}cm, or more specifically {exact_height} cm.\")"
   ]
  },
  {
   "cell_type": "markdown",
   "id": "55074834",
   "metadata": {},
   "source": [
    "### format in f-string\n",
    "- it does not create another variable \n",
    "- it just affect how the current variable is displayed in f-string"
   ]
  },
  {
   "cell_type": "code",
   "execution_count": 22,
   "id": "9cb89e62",
   "metadata": {},
   "outputs": [
    {
     "name": "stdout",
     "output_type": "stream",
     "text": [
      "The students name is Felix. His height is 190cm, or more specifically 190.4 cm.\n",
      "The value assigned to exact_height variable is still 190.35566\n"
     ]
    }
   ],
   "source": [
    "#use : to separate the variable and the choice of format\n",
    "# .1f means after the interger, keep on a one dfecimal palce ( f refers to fixed point number = float number)\n",
    "# it also rounds the number.\n",
    "print(f\"The students name is {name}. His height is {height}cm, or more specifically {exact_height:.1f} cm.\")\n",
    "print(f\"The value assigned to exact_height variable is still {exact_height}\")"
   ]
  },
  {
   "cell_type": "markdown",
   "id": "7f286702",
   "metadata": {},
   "source": [
    "## Input from user\n",
    "- how to code so that the value of the variable is decided after I run the code?"
   ]
  },
  {
   "cell_type": "code",
   "execution_count": null,
   "id": "284571ba",
   "metadata": {},
   "outputs": [
    {
     "name": "stdout",
     "output_type": "stream",
     "text": [
      "Hello felix\n"
     ]
    }
   ],
   "source": [
    "# create a nme variable asking for user input\n",
    "# optionally, you can add an argument in the input() function, so that it popsup when we run the cell\n",
    "name = input(\"What is your name\") \n",
    "\n",
    "#print out a f-string\n",
    "print(f\"Hello {name}\")"
   ]
  },
  {
   "cell_type": "code",
   "execution_count": 25,
   "id": "6f6d16b5",
   "metadata": {},
   "outputs": [
    {
     "data": {
      "text/plain": [
       "str"
      ]
     },
     "execution_count": 25,
     "metadata": {},
     "output_type": "execute_result"
    }
   ],
   "source": [
    "# check the data type of a variable \n",
    "type(name)"
   ]
  },
  {
   "cell_type": "markdown",
   "id": "7f43b2fa",
   "metadata": {},
   "source": [
    "##### Example 2 - age variable\n",
    "- compare this with example 1, you can see that input() function always returns string variable"
   ]
  },
  {
   "cell_type": "code",
   "execution_count": 32,
   "id": "c627dc2e",
   "metadata": {},
   "outputs": [],
   "source": [
    "# I need to specify the type before input if I want anything else than a string. input() by default is a str and will always return a string unless specified\n",
    "age = input(\"Whats your age\")"
   ]
  },
  {
   "cell_type": "code",
   "execution_count": 28,
   "id": "cef85f45",
   "metadata": {},
   "outputs": [
    {
     "data": {
      "text/plain": [
       "int"
      ]
     },
     "execution_count": 28,
     "metadata": {},
     "output_type": "execute_result"
    }
   ],
   "source": [
    "type(age)"
   ]
  },
  {
   "cell_type": "markdown",
   "id": "13437d45",
   "metadata": {},
   "source": [
    "## Type coercions\n",
    "- converting data types from one to another\n",
    "- applies on variable in general, not just when using input() function"
   ]
  },
  {
   "cell_type": "code",
   "execution_count": 33,
   "id": "5f09cf50",
   "metadata": {},
   "outputs": [
    {
     "name": "stdout",
     "output_type": "stream",
     "text": [
      "<class 'str'>\n",
      "31\n"
     ]
    },
    {
     "data": {
      "text/plain": [
       "'31'"
      ]
     },
     "execution_count": 33,
     "metadata": {},
     "output_type": "execute_result"
    }
   ],
   "source": [
    "#double check the data type and value for existing age variable \n",
    "\n",
    "#as by default ipynb file cell only shows output from last line of code, therefore you can use print() to force it to print out other lines \n",
    "print(type(age))\n",
    "\n",
    "#compare the following two lines, they show print() function is not showting the exact value of this variable\n",
    "print(age)\n",
    "age"
   ]
  },
  {
   "cell_type": "code",
   "execution_count": 34,
   "id": "d0eaa1f0",
   "metadata": {},
   "outputs": [
    {
     "data": {
      "text/plain": [
       "int"
      ]
     },
     "execution_count": 34,
     "metadata": {},
     "output_type": "execute_result"
    }
   ],
   "source": [
    "#convet to int and create a new variable for this\n",
    "age_int = int(age)\n",
    "\n",
    "#check the resulting data type for age_int, the variable after type coercion\n",
    "type(age_int)"
   ]
  },
  {
   "cell_type": "code",
   "execution_count": 35,
   "id": "9cf05565",
   "metadata": {},
   "outputs": [
    {
     "data": {
      "text/plain": [
       "int"
      ]
     },
     "execution_count": 35,
     "metadata": {},
     "output_type": "execute_result"
    }
   ],
   "source": [
    "#convert to int and overwrite the existing variable\n",
    "age = age_int\n",
    "\n",
    "type(age)"
   ]
  },
  {
   "cell_type": "code",
   "execution_count": null,
   "id": "f9f04aef",
   "metadata": {},
   "outputs": [],
   "source": []
  }
 ],
 "metadata": {
  "kernelspec": {
   "display_name": ".venv (3.12.10)",
   "language": "python",
   "name": "python3"
  },
  "language_info": {
   "codemirror_mode": {
    "name": "ipython",
    "version": 3
   },
   "file_extension": ".py",
   "mimetype": "text/x-python",
   "name": "python",
   "nbconvert_exporter": "python",
   "pygments_lexer": "ipython3",
   "version": "3.12.10"
  }
 },
 "nbformat": 4,
 "nbformat_minor": 5
}
