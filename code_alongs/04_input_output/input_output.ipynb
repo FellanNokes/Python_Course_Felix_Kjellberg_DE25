{
 "cells": [
  {
   "cell_type": "markdown",
   "id": "1e47e379",
   "metadata": {},
   "source": [
    "# Lecture 4 - input, output and variables "
   ]
  },
  {
   "cell_type": "markdown",
   "id": "70987172",
   "metadata": {},
   "source": [
    "## Print statement"
   ]
  },
  {
   "cell_type": "markdown",
   "id": "2662ae12",
   "metadata": {},
   "source": [
    "##### to print out string"
   ]
  },
  {
   "cell_type": "code",
   "execution_count": 8,
   "id": "f9607b18",
   "metadata": {},
   "outputs": [
    {
     "name": "stdout",
     "output_type": "stream",
     "text": [
      "Hello World\n"
     ]
    }
   ],
   "source": [
    "# you can use hastag to comment out lines of codes, the program will not complie anything that is a comment\n",
    "print(\"Hello World\")"
   ]
  },
  {
   "cell_type": "markdown",
   "id": "5774c233",
   "metadata": {},
   "source": [
    "To print out string and varibles"
   ]
  },
  {
   "cell_type": "code",
   "execution_count": 9,
   "id": "a5b629cd",
   "metadata": {},
   "outputs": [
    {
     "name": "stdout",
     "output_type": "stream",
     "text": [
      "Hello Felix\n"
     ]
    }
   ],
   "source": [
    "#create a name variable\n",
    "name = \"Felix\"\n",
    "\n",
    "# print out hello to this person specified in the variable name\n",
    "# when printing string and variables together, we need to use f-string\n",
    "# f-string is used to combine string and variables together\n",
    "# make note of the symbol: f, {}\n",
    "print(f\"Hello {name}\")"
   ]
  },
  {
   "cell_type": "markdown",
   "id": "cc3557d5",
   "metadata": {},
   "source": [
    "## Variables"
   ]
  },
  {
   "cell_type": "markdown",
   "id": "098b7f37",
   "metadata": {},
   "source": [
    "* You can store diffrent types of data in the variable --> assigning value to a variable\n",
    "* we can use the data by referring to the variable instead\n",
    "* in lecture 4, we are only storing one value in them, even though the value can be of diffrent types\n",
    "* in lecture 6, we will see that we can store a collection of values"
   ]
  },
  {
   "cell_type": "markdown",
   "id": "ec9b924f",
   "metadata": {},
   "source": [
    "#### Create varibles with different data types "
   ]
  },
  {
   "cell_type": "code",
   "execution_count": 12,
   "id": "7e4aba93",
   "metadata": {},
   "outputs": [
    {
     "name": "stdout",
     "output_type": "stream",
     "text": [
      "Felix is 31 years old. He weights 115.7 kgs is he cool? It's True he is cool\n"
     ]
    }
   ],
   "source": [
    "#string\n",
    "first_name = \"Felix\"\n",
    "\n",
    "#int\n",
    "age = 31\n",
    "\n",
    "#float\n",
    "weight = 115.7\n",
    "\n",
    "#bool\n",
    "is_cool = True\n",
    "\n",
    "#Printing a message using the variables\n",
    "print(f\"{first_name} is {age} years old. He weights {weight} kgs is he cool? It's {is_cool} he is cool\")"
   ]
  },
  {
   "cell_type": "markdown",
   "id": "7f286702",
   "metadata": {},
   "source": [
    "## Input from user"
   ]
  },
  {
   "cell_type": "markdown",
   "id": "35f2c7d7",
   "metadata": {},
   "source": []
  }
 ],
 "metadata": {
  "kernelspec": {
   "display_name": ".venv (3.12.10)",
   "language": "python",
   "name": "python3"
  },
  "language_info": {
   "codemirror_mode": {
    "name": "ipython",
    "version": 3
   },
   "file_extension": ".py",
   "mimetype": "text/x-python",
   "name": "python",
   "nbconvert_exporter": "python",
   "pygments_lexer": "ipython3",
   "version": "3.12.10"
  }
 },
 "nbformat": 4,
 "nbformat_minor": 5
}
