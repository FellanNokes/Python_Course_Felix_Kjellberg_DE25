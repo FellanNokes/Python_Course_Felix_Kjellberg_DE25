{
 "cells": [
  {
   "cell_type": "markdown",
   "id": "08f0b59e",
   "metadata": {},
   "source": [
    "# Exercise 6 - OOP\n",
    "\n",
    "In this exercise, you get to familiarize yourself with strings, file handling, error handling and strings. This exercise covers 13-16"
   ]
  },
  {
   "cell_type": "markdown",
   "id": "5c14d1ba",
   "metadata": {},
   "source": [
    "## 0. Unit conversion (\\*)\n",
    "\n",
    "Create a class for converting US units to the metric system. It should have the following **bound methods**:\n",
    "\n",
    "```python\n",
    "__init__ (self, value)\n",
    "\n",
    "inch_to_cm(self)\n",
    "\n",
    "foot_to_meters(self)\n",
    "\n",
    "pound_to_kg(self)\n",
    "\n",
    "__repr__(self)\n",
    "\n",
    "```\n",
    "\n",
    "Make sure that value is the correct type and format, raise suitable exceptions in case it isn't. Make value into **property** with getter and setter. Test your class manually by instantiating an object from it and test different methods. (\\*)\n",
    "\n",
    "---"
   ]
  },
  {
   "cell_type": "code",
   "execution_count": null,
   "id": "84139a12",
   "metadata": {},
   "outputs": [],
   "source": []
  },
  {
   "cell_type": "markdown",
   "id": "21202997",
   "metadata": {},
   "source": []
  }
 ],
 "metadata": {
  "kernelspec": {
   "display_name": "Python_Course_Felix_Kjellberg_DE25",
   "language": "python",
   "name": "python3"
  },
  "language_info": {
   "name": "python",
   "version": "3.12.10"
  }
 },
 "nbformat": 4,
 "nbformat_minor": 5
}
