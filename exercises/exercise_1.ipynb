{
 "cells": [
  {
   "cell_type": "markdown",
   "id": "dbbb0f90",
   "metadata": {},
   "source": [
    "# Exercise 1 - count with python"
   ]
  },
  {
   "cell_type": "markdown",
   "id": "2539730a",
   "metadata": {},
   "source": [
    "## 0. Pythagorean theorem (*)\n",
    "\n",
    "a) A right angled triangle has the catheti: a = 3 and b = 4 length units. Compute the hypothenuse of the triangle. (\\*)\n",
    "\n",
    "b) A right angled triangle has hypothenuse c = 7.0 and a cathetus a = 5.0 length units. Compute the other cathetus and round to one decimal. (\\*)"
   ]
  },
  {
   "cell_type": "code",
   "execution_count": 1,
   "id": "1d19e3b9",
   "metadata": {},
   "outputs": [
    {
     "name": "stdout",
     "output_type": "stream",
     "text": [
      "the hypothenuse is 5.0 long\n",
      "5.0\n"
     ]
    }
   ],
   "source": [
    "import math\n",
    "\n",
    "hypothenuse = (3**2 + 4**2)**0.5\n",
    "print (f\"the hypothenuse is {hypothenuse} long\")\n",
    "\n",
    "hypo = math.hypot(3,4)\n",
    "print (hypo)"
   ]
  },
  {
   "cell_type": "code",
   "execution_count": 14,
   "id": "01ef5e6f",
   "metadata": {},
   "outputs": [
    {
     "name": "stdout",
     "output_type": "stream",
     "text": [
      " the other side is 5 long\n"
     ]
    }
   ],
   "source": [
    "b = (7**2 - 5**2)**0.5\n",
    "print (f\" the other side is {b:.0f} long\")"
   ]
  },
  {
   "cell_type": "markdown",
   "id": "e2e4b9f2",
   "metadata": {},
   "source": [
    "## 1. Classification accuracy (\\*)\n",
    "\n",
    "A machine learning algorithm has been trained to predict whether or not it would rain the next day. Out of 365 predictions, it got 300 correct, compute the accuracy of this model."
   ]
  },
  {
   "cell_type": "code",
   "execution_count": 24,
   "id": "57566ccc",
   "metadata": {},
   "outputs": [
    {
     "name": "stdout",
     "output_type": "stream",
     "text": [
      "the percent of that is 1.0999999999999999%\n"
     ]
    }
   ],
   "source": [
    "part = int(input(\"Enter the part\"))\n",
    "whole = int(input(\"enter the whole\"))\n",
    "percent = (part / whole)*100\n",
    "print(f\"the percent of that is {percent}%\")"
   ]
  },
  {
   "cell_type": "markdown",
   "id": "affad415",
   "metadata": {},
   "source": [
    "## 2. Classification accuracy (\\*)\n",
    "\n",
    "A machine learning model has been trained to detect fire. Here is the result of its predictions:\n",
    "\n",
    "<table>\n",
    "<tbody>\n",
    "  <tr>\n",
    "    <td>True Positive (TP)\n",
    "      <ul>\n",
    "        <li>Reality: fire</li>\n",
    "        <li>Predicted: fire</li>\n",
    "        <li>Number of TP: 2</li>\n",
    "      </ul>\n",
    "    </td>\n",
    "    <td>False Positive (FP)\n",
    "      <ul>\n",
    "        <li>Reality: no fire</li>\n",
    "        <li>Predicted: fire</li>\n",
    "        <li>Number of FP: 2</li>\n",
    "      </ul>\n",
    "    </td>\n",
    "  </tr>\n",
    "\n",
    "  <tr>\n",
    "    <td>False Negative (FN)\n",
    "      <ul>\n",
    "        <li>Reality: fire</li>\n",
    "        <li>Predicted: no fire</li>\n",
    "        <li>Number of FN: 11</li>\n",
    "      </ul>\n",
    "    </td>\n",
    "    <td>True Negative (TN)\n",
    "      <ul>\n",
    "        <li>Reality: no fire</li>\n",
    "        <li>Predicted: no fire</li>\n",
    "        <li>Number of TN: 985</li>\n",
    "      </ul>\n",
    "    </td>\n",
    "  </tr>\n",
    "</tbody>\n",
    "</table>\n",
    "\n",
    "Calculated the accuracy using the following formula:\n",
    "\n",
    "$\\text{accuracy} = \\frac{TP+TN}{TP+TN+FP+FN}$\n",
    "\n",
    "Is this a good model? Why? Why not?"
   ]
  },
  {
   "cell_type": "code",
   "execution_count": 20,
   "id": "5a6a3111",
   "metadata": {},
   "outputs": [
    {
     "name": "stdout",
     "output_type": "stream",
     "text": [
      "The accuracy is 98.7%\n"
     ]
    }
   ],
   "source": [
    "tp = 2\n",
    "fp = 2\n",
    "fn = 11\n",
    "tn = 985\n",
    "\n",
    "accuracy = (tp+tn)/(tp+tn+fp+fn)\n",
    "accuracy_percent = accuracy * 100\n",
    "\n",
    "print(f\"The accuracy is {accuracy_percent}%\")"
   ]
  },
  {
   "cell_type": "markdown",
   "id": "d95544dd",
   "metadata": {},
   "source": [
    "## 3. File metadata - format print (*)\n",
    "\n",
    "There is a file with the following metadata:\n",
    "\n",
    "- name: orders_data.csv\n",
    "- file size: 3.14mb\n",
    "- modified 2024\n",
    "\n",
    "Create variables for each of them and print out the following to the screen\n",
    "\n",
    "```\n",
    "=== File metadata ===\n",
    "Filename: sales_data.csv\n",
    "Size (MB): 24.7\n",
    "Last Modified Year: 2023\n",
    "```"
   ]
  },
  {
   "cell_type": "code",
   "execution_count": 26,
   "id": "e1f77ebc",
   "metadata": {},
   "outputs": [
    {
     "name": "stdout",
     "output_type": "stream",
     "text": [
      "=== File Metadata ===\n",
      "Filename: orders_data.csv\n",
      "Size (MB): 3.14\n",
      "Last modified Year: 2024\n"
     ]
    }
   ],
   "source": [
    "name = \"orders_data.csv\"\n",
    "size = 3.14\n",
    "modified = 2024\n",
    "\n",
    "print (\"=== File Metadata ===\")\n",
    "print(f\"Filename: {name}\")\n",
    "print(f\"Size (MB): {size}\")\n",
    "print(f\"Last modified Year: {modified}\")"
   ]
  },
  {
   "cell_type": "markdown",
   "id": "819fe391",
   "metadata": {},
   "source": [
    "## 4. Unit converter - inch to cm (*)\n",
    "\n",
    "Screen sizes are defined using inches for example my computer has 15'' and it corresponds to the diagonal of the screen. Let the user type in a value in inches and output the result in centimeters."
   ]
  },
  {
   "cell_type": "code",
   "execution_count": null,
   "id": "1d0b06a8",
   "metadata": {},
   "outputs": [
    {
     "name": "stdout",
     "output_type": "stream",
     "text": [
      "6.0 is 15.24 cm\n"
     ]
    }
   ],
   "source": [
    "inches = float(input(\"input inches you want to convert to cm\"))\n",
    "cm = 2.54 * inches\n",
    "print(f\"{inches} inches is {cm} cm\")"
   ]
  },
  {
   "cell_type": "code",
   "execution_count": 38,
   "id": "057ab1f6",
   "metadata": {},
   "outputs": [
    {
     "name": "stdout",
     "output_type": "stream",
     "text": [
      "19.0 cms is 7.5 inches\n"
     ]
    }
   ],
   "source": [
    "cm = float(input(\"input cm you want to convert to inches\"))\n",
    "inches = cm/2.54\n",
    "print (f\"{cm} cms is {inches:.1f} inches\")"
   ]
  },
  {
   "cell_type": "markdown",
   "id": "d4d5d6a8",
   "metadata": {},
   "source": [
    "## 5. Count characters in a text (*)\n",
    "\n",
    "Create a program to let a user input a text, count the number of characters and print it out to the screen. Space can also be counted as a character here.\n",
    "\n",
    "Hint: `len()` function"
   ]
  },
  {
   "cell_type": "code",
   "execution_count": 42,
   "id": "d21784ed",
   "metadata": {},
   "outputs": [
    {
     "name": "stdout",
     "output_type": "stream",
     "text": [
      "your text: 'hello my name is ' is 17 characters long\n"
     ]
    }
   ],
   "source": [
    "text_input = (input(\"Input your text\"))\n",
    "\n",
    "print (f\"your text: '{text_input}' is {len(text_input)} characters long\")"
   ]
  },
  {
   "cell_type": "markdown",
   "id": "844f3cb5",
   "metadata": {},
   "source": [
    "## 6. Data types (*)\n",
    "\n",
    "Create variables of type bool, int, float, str and list. Then use `type` function and check each variables type.\n",
    "\n",
    "```\n",
    "radius = 5 has type <class 'int'>\n",
    "PI = 3.1415 has type <class 'float'>\n",
    "cool_subject = 'math' has type <class 'str'>\n",
    "is_cool = True has type <class 'bool'>\n",
    "numbers = [1, 2, 41, 2] has type <class 'list'>"
   ]
  },
  {
   "cell_type": "code",
   "execution_count": 49,
   "id": "a73abded",
   "metadata": {},
   "outputs": [
    {
     "name": "stdout",
     "output_type": "stream",
     "text": [
      "days is a <class 'int'>\n",
      "pi is a <class 'float'>\n",
      "pi is now a <class 'str'>\n",
      "name is a <class 'str'>\n",
      "is_happy is a <class 'bool'>\n",
      "numbers is a <class 'list'>\n"
     ]
    }
   ],
   "source": [
    "days = 7\n",
    "pi = 3.14\n",
    "name = \"Felix\"\n",
    "is_happy = True\n",
    "numbers = [1 , 2 ,3 ,5 ,6 , 7]\n",
    "\n",
    "print(f\"days is a {type(days)}\")\n",
    "print(f\"pi is a {type(pi)}\")\n",
    "pi= str(pi)\n",
    "print(f\"pi is now a {type(pi)}\")\n",
    "print(f\"name is a {type(name)}\")\n",
    "print(f\"is_happy is a {type(is_happy)}\")\n",
    "print(f\"numbers is a {type(numbers)}\")"
   ]
  },
  {
   "cell_type": "markdown",
   "id": "447c3448",
   "metadata": {},
   "source": [
    "## 7. Theory\n",
    "\n",
    "a) What is the difference between input() and print() in Python?\n",
    "\n",
    "input() is where user can input something to the program\n",
    "print() is where the program outputs something to the use\n",
    "\n",
    "b) What data type does the input() function return by default? How can you use it to get numeric input?\n",
    "\n",
    "by default input() returns a string, by specifying which type of data you want before like this int(input(\"insert number\"))\n",
    "\n",
    "c) Explain how formatted string literals (f-strings) improve readability in output statements. Give an example.\n",
    "\n",
    "You can add data to the print message for example (print(f\"you have entered this {number} number\"))\n",
    "\n",
    "d) Can a variable change its data type during runtime in Python? Show an example.\n",
    "\n",
    "yes, if we have pi = 3.14 its a float but if i type pi = str(pi) its now a string\n",
    "\n",
    "e) What does it mean that Python is \"dynamically typed\"? How is that different from statically typed languages?\n",
    "\n",
    "it means that variables are determined and check during runtime rather then durning compilation. You dont have to declare which type it is either. I can just type pi = 3.14 and it knows it's a float.\n",
    "\n",
    "## Glossary\n",
    "\n",
    "Fill in this table either by copying this into your own markdown file or copy it into a spreadsheet if you feel that is easier to work with.\n",
    "\n",
    "| terminology       | explanation |\n",
    "| ----------------- | ----------- |\n",
    "| data type         |Classification of data thats specifies the kind of value a variable can hold|\n",
    "| variable          |A container that holds a value|\n",
    "| assignment        |Assigning a value to a variable|\n",
    "| dynamically typed |Determining data type at runtime rather then during compilation|\n",
    "| input             |Data a user inputs to the program|\n",
    "| output            |Data that the programs output|\n",
    "| type casting      |Used to change data types of variables|\n",
    "| boolean           |Data type that is either true or false|\n",
    "| string            |A data type that contains a bunch of characters|\n",
    "| f-string          |Allows you to format objects into strings|\n",
    "| indentation       |Allows the programmer to run the code in diffrent blocks, also increases readabillity|\n",
    "| convention        |Rules and guidelines for naming variables, functions and classes to increase readabillity|\n",
    "|                   |             |"
   ]
  },
  {
   "cell_type": "markdown",
   "id": "3b59e266",
   "metadata": {},
   "source": []
  }
 ],
 "metadata": {
  "kernelspec": {
   "display_name": ".venv (3.12.10)",
   "language": "python",
   "name": "python3"
  },
  "language_info": {
   "codemirror_mode": {
    "name": "ipython",
    "version": 3
   },
   "file_extension": ".py",
   "mimetype": "text/x-python",
   "name": "python",
   "nbconvert_exporter": "python",
   "pygments_lexer": "ipython3",
   "version": "3.12.10"
  }
 },
 "nbformat": 4,
 "nbformat_minor": 5
}
