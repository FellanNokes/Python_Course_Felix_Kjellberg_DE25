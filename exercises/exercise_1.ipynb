{
 "cells": [
  {
   "cell_type": "markdown",
   "id": "dbbb0f90",
   "metadata": {},
   "source": [
    "# Exercise 1 - count with python"
   ]
  },
  {
   "cell_type": "markdown",
   "id": "2539730a",
   "metadata": {},
   "source": [
    "## 0. Pythagorean theorem"
   ]
  },
  {
   "cell_type": "code",
   "execution_count": null,
   "id": "1d19e3b9",
   "metadata": {},
   "outputs": [
    {
     "name": "stdout",
     "output_type": "stream",
     "text": [
      "the hypothenuse is 7.0710678118654755 long\n",
      "5.0\n"
     ]
    }
   ],
   "source": [
    "import math\n",
    "\n",
    "hypothenuse = (3**2 + 4**2)**0.5\n",
    "print (f\"the hypothenuse is {hypothenuse} long\")\n",
    "\n",
    "hypo = math.hypot(3,4)\n",
    "print (hypo)"
   ]
  },
  {
   "cell_type": "code",
   "execution_count": 14,
   "id": "01ef5e6f",
   "metadata": {},
   "outputs": [
    {
     "name": "stdout",
     "output_type": "stream",
     "text": [
      " the other side is 5 long\n"
     ]
    }
   ],
   "source": [
    "b = (7**2 - 5**2)**0.5\n",
    "print (f\" the other side is {b:.0f} long\")"
   ]
  },
  {
   "cell_type": "markdown",
   "id": "e2e4b9f2",
   "metadata": {},
   "source": [
    "## 1. Classification accuracy"
   ]
  },
  {
   "cell_type": "code",
   "execution_count": 24,
   "id": "57566ccc",
   "metadata": {},
   "outputs": [
    {
     "name": "stdout",
     "output_type": "stream",
     "text": [
      "the percent of that is 1.0999999999999999%\n"
     ]
    }
   ],
   "source": [
    "part = int(input(\"Enter the part\"))\n",
    "whole = int(input(\"enter the whole\"))\n",
    "percent = (part / whole)*100\n",
    "print(f\"the percent of that is {percent}%\")"
   ]
  },
  {
   "cell_type": "markdown",
   "id": "affad415",
   "metadata": {},
   "source": [
    "## 2. Classification accuracy"
   ]
  },
  {
   "cell_type": "code",
   "execution_count": 20,
   "id": "5a6a3111",
   "metadata": {},
   "outputs": [
    {
     "name": "stdout",
     "output_type": "stream",
     "text": [
      "The accuracy is 98.7%\n"
     ]
    }
   ],
   "source": [
    "tp = 2\n",
    "fp = 2\n",
    "fn = 11\n",
    "tn = 985\n",
    "\n",
    "accuracy = (tp+tn)/(tp+tn+fp+fn)\n",
    "accuracy_percent = accuracy * 100\n",
    "\n",
    "print(f\"The accuracy is {accuracy_percent}%\")"
   ]
  },
  {
   "cell_type": "markdown",
   "id": "d95544dd",
   "metadata": {},
   "source": [
    "## 3. File metadata - format print"
   ]
  },
  {
   "cell_type": "code",
   "execution_count": 26,
   "id": "e1f77ebc",
   "metadata": {},
   "outputs": [
    {
     "name": "stdout",
     "output_type": "stream",
     "text": [
      "=== File Metadata ===\n",
      "Filename: orders_data.csv\n",
      "Size (MB): 3.14\n",
      "Last modified Year: 2024\n"
     ]
    }
   ],
   "source": [
    "name = \"orders_data.csv\"\n",
    "size = 3.14\n",
    "modified = 2024\n",
    "\n",
    "print (\"=== File Metadata ===\")\n",
    "print(f\"Filename: {name}\")\n",
    "print(f\"Size (MB): {size}\")\n",
    "print(f\"Last modified Year: {modified}\")"
   ]
  },
  {
   "cell_type": "markdown",
   "id": "819fe391",
   "metadata": {},
   "source": [
    "## 4. Units converter - inches to cm"
   ]
  },
  {
   "cell_type": "code",
   "execution_count": null,
   "id": "1d0b06a8",
   "metadata": {},
   "outputs": [
    {
     "name": "stdout",
     "output_type": "stream",
     "text": [
      "6.0 is 15.24 cm\n"
     ]
    }
   ],
   "source": [
    "inches = float(input(\"input inches you want to convert to cm\"))\n",
    "cm = 2.54 * inches\n",
    "print(f\"{inches} inches is {cm} cm\")"
   ]
  },
  {
   "cell_type": "code",
   "execution_count": 38,
   "id": "057ab1f6",
   "metadata": {},
   "outputs": [
    {
     "name": "stdout",
     "output_type": "stream",
     "text": [
      "19.0 cms is 7.5 inches\n"
     ]
    }
   ],
   "source": [
    "cm = float(input(\"input cm you want to convert to inches\"))\n",
    "inches = cm/2.54\n",
    "print (f\"{cm} cms is {inches:.1f} inches\")"
   ]
  },
  {
   "cell_type": "markdown",
   "id": "d4d5d6a8",
   "metadata": {},
   "source": [
    "## 5. Count characters in a text"
   ]
  },
  {
   "cell_type": "code",
   "execution_count": 42,
   "id": "d21784ed",
   "metadata": {},
   "outputs": [
    {
     "name": "stdout",
     "output_type": "stream",
     "text": [
      "your text: 'hello my name is ' is 17 characters long\n"
     ]
    }
   ],
   "source": [
    "text_input = (input(\"Input your text\"))\n",
    "\n",
    "print (f\"your text: '{text_input}' is {len(text_input)} characters long\")"
   ]
  },
  {
   "cell_type": "markdown",
   "id": "844f3cb5",
   "metadata": {},
   "source": [
    "## 6. Data types"
   ]
  },
  {
   "cell_type": "code",
   "execution_count": 49,
   "id": "a73abded",
   "metadata": {},
   "outputs": [
    {
     "name": "stdout",
     "output_type": "stream",
     "text": [
      "days is a <class 'int'>\n",
      "pi is a <class 'float'>\n",
      "pi is now a <class 'str'>\n",
      "name is a <class 'str'>\n",
      "is_happy is a <class 'bool'>\n",
      "numbers is a <class 'list'>\n"
     ]
    }
   ],
   "source": [
    "days = 7\n",
    "pi = 3.14\n",
    "name = \"Felix\"\n",
    "is_happy = True\n",
    "numbers = [1 , 2 ,3 ,5 ,6 , 7]\n",
    "\n",
    "print(f\"days is a {type(days)}\")\n",
    "print(f\"pi is a {type(pi)}\")\n",
    "pi= str(pi)\n",
    "print(f\"pi is now a {type(pi)}\")\n",
    "print(f\"name is a {type(name)}\")\n",
    "print(f\"is_happy is a {type(is_happy)}\")\n",
    "print(f\"numbers is a {type(numbers)}\")"
   ]
  },
  {
   "cell_type": "markdown",
   "id": "447c3448",
   "metadata": {},
   "source": [
    "## 7. Theory and Glossary\n",
    "#### Check exercise_1.md"
   ]
  }
 ],
 "metadata": {
  "kernelspec": {
   "display_name": ".venv (3.12.10)",
   "language": "python",
   "name": "python3"
  },
  "language_info": {
   "codemirror_mode": {
    "name": "ipython",
    "version": 3
   },
   "file_extension": ".py",
   "mimetype": "text/x-python",
   "name": "python",
   "nbconvert_exporter": "python",
   "pygments_lexer": "ipython3",
   "version": "3.12.10"
  }
 },
 "nbformat": 4,
 "nbformat_minor": 5
}
