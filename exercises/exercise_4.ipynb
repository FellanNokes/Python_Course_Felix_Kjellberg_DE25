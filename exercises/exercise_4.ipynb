{
 "cells": [
  {
   "cell_type": "markdown",
   "id": "ef92588f",
   "metadata": {},
   "source": [
    "# Exercise 4 - working with text and files\n",
    "\n",
    "In this exercise, you get to familiarize yourself with strings, file handling, error handling and strings. This exercise covers 07-09"
   ]
  },
  {
   "cell_type": "markdown",
   "id": "e067893a",
   "metadata": {},
   "source": [
    "## 0. Counting words (\\*)\n",
    "\n",
    "Count the number of words in this sentence: \"A picture says more than a thousand words, a matematical formula says more than a thousand pictures.\" (\\*)"
   ]
  },
  {
   "cell_type": "markdown",
   "id": "8a4c6692",
   "metadata": {},
   "source": [
    "## 1. Counting letters (\\*)\n",
    "\n",
    "Let the user input a word:\n",
    "\n",
    "a) print out the number of letters in the word. (\\*)\n",
    "\n",
    "b) print out the number of **uppercase** and **lowercase** letters of the word (\\*)"
   ]
  },
  {
   "cell_type": "markdown",
   "id": "bfa45f3c",
   "metadata": {},
   "source": [
    "## 2. Palindrome (\\*)\n",
    "\n",
    "A palindrome is a sequence of characters that is the same, when read forward as backwards (ignoring spaces). For example:\n",
    "\n",
    "- \"Anna\" is a palindrome\n",
    "- \"Ni talar bra latin\"\n",
    "- bjkjb\n",
    "\n",
    "Here is a flowchart of the algorithm.\n",
    "\n",
    "<img src=\"https://github.com/kokchun/assets/blob/main/python/palindrome_flowchart.png?raw=true\" width = 300 style=\"display:inline-block; text-align:left;\">\n",
    "\n",
    "Let the user input a sequence of characters and check if it is a palindrome. (\\*)"
   ]
  },
  {
   "cell_type": "markdown",
   "id": "3f66dc74",
   "metadata": {},
   "source": [
    "## 3. Vowels (\\*\\*)\n",
    "\n",
    "Count the number of vowels in this sentence: \"Pure mathematics is, in its way, the poetry of logical ideas\""
   ]
  },
  {
   "cell_type": "markdown",
   "id": "7f7f6f26",
   "metadata": {},
   "source": [
    "## 4. Encryption (\\*\\*)\n",
    "\n",
    "Let the user input a word and:\n",
    "\n",
    "&nbsp; a) &nbsp; encrypt the message by replacing each letter with the next letter. If the letter is in the end of the alphabet, use the first letter instead.\n",
    "\n",
    "e.g. in Swedish: \"höst\" $\\rightarrow$ \"iatu\""
   ]
  },
  {
   "cell_type": "markdown",
   "id": "05940c8d",
   "metadata": {},
   "source": [
    "## 5. Find and fix errors (\\*)\n",
    "\n",
    "Find the errors in this code to compute the distance between the point $(x,y)$ and the origin in a cartesian coordinate system.\n",
    "\n",
    "```python\n",
    "impor numpy as np\n",
    "\n",
    "def distance(x,y)\n",
    "    reurn np.sqrt(x+y)\n",
    "\n",
    "print(distance([0.5, 0.5]))\n",
    "\n",
    "```"
   ]
  },
  {
   "cell_type": "markdown",
   "id": "b2768b1c",
   "metadata": {},
   "source": [
    "## 6. Find and fix errors (\\*)\n",
    "\n",
    "Find the errors in this code. Just change the function, don't touch the test program.\n",
    "\n",
    "```python\n",
    "\n",
    "def is_fourdigit(number):\n",
    "    if number//1000 < 10\n",
    "        return true\n",
    "    else\n",
    "        return false\n",
    "\n",
    "# test program\n",
    "test_numbers = [231, 3124, -4124, -1000,-999, 1001, 10000, -10000, 999]\n",
    "\n",
    "for number in test_numbers:\n",
    "    if is_fourdigit(number):\n",
    "        print(f\"{number} is four-digit\")\n",
    "    else:\n",
    "        print(f\"{number} is not four-digit\")\n",
    "\n",
    "```\n",
    "\n",
    "---\n"
   ]
  },
  {
   "cell_type": "markdown",
   "id": "f3bb4bb8",
   "metadata": {},
   "source": [
    "## 7. Tram (\\*)\n",
    "\n",
    "Kokchun is a **clumpsy** computer user that doesn't take trams too often. Write a program to prompt the user for:\n",
    "\n",
    "- number of times he/she wants to take tram in one month\n",
    "- cost for one ticket\n",
    "- cost for monthly card\n",
    "\n",
    "The program should calculate if it's worth for him to buy monthly card or not. Make the program user friendly with clear error messages and ask again in case of input errors.\n",
    "\n",
    "---"
   ]
  },
  {
   "cell_type": "markdown",
   "id": "441378f2",
   "metadata": {},
   "source": [
    "## 8. Dice rolls (\\*)\n",
    "\n",
    "Create a textfile called **dice_rolls.txt** using Python. Also for each subtask, write adequate headers.\n",
    "\n",
    "&nbsp; a) &nbsp; Simulate 20 dice rolls and write them to your textfile. (\\*)\n",
    "\n",
    "&nbsp; b) &nbsp; Sort the dice rolls from a) and write them to a separate row in the same textfile. (\\*)\n",
    "\n",
    "&nbsp; c) &nbsp; Count the number of fours in the dice rolls and write them to a separate row in the same textfile. (\\*)"
   ]
  },
  {
   "cell_type": "markdown",
   "id": "23857b00",
   "metadata": {},
   "source": [
    "## 9. Test results (\\*)\n",
    "\n",
    "Read in the file test_result.txt (located in the data folder of this repo) in Python.\n",
    "\n",
    "[test_result]: https://github.com/kokchun/Programmering-med-Python-21/blob/main/Files/test_result.txt\n",
    "\n",
    "&nbsp; a) &nbsp; Print out the text in the terminal (\\*)\n",
    "\n",
    "&nbsp; b) &nbsp; Create new rows in the same file and write the people and their corresponding scores in alphabetical order. (\\*)\n",
    "\n",
    "&nbsp; c) &nbsp; Create additional rows in the same file and sort the people after their grades. The grade limits are: (\\*\\*)\n",
    "\n",
    " <table style=\"display:inline-block; text-align:left;\">\n",
    "    <tr style=\"background-color: #174A7E; color: white;\">\n",
    "      <th>Grade</th>\n",
    "      <th>Range</th>\n",
    "    </tr>\n",
    "    <tr>\n",
    "      <td>F</td>\n",
    "      <td>&lt; 20</td>\n",
    "    </tr>\n",
    "    <tr>\n",
    "      <td>E</td>\n",
    "      <td>20-29</td>\n",
    "    </tr>\n",
    "    <tr>\n",
    "      <td>D</td>\n",
    "      <td>30-39</td>\n",
    "    </tr>\n",
    "    <tr>\n",
    "      <td>C</td>\n",
    "      <td>40-49</td>\n",
    "    </tr>\n",
    "    <tr>\n",
    "      <td>B</td>\n",
    "      <td>50-59</td>\n",
    "    </tr>\n",
    "    <tr>\n",
    "      <td>A</td>\n",
    "      <td>60-70</td>\n",
    "    </tr>\n",
    "  </table>\n"
   ]
  },
  {
   "cell_type": "markdown",
   "id": "4b1d4106",
   "metadata": {},
   "source": [
    "## 10. National test (\\*)\n",
    "\n",
    "Read in the file NPvt19Ma2A.txt and NPvt19Ma2C.txt (located in the data folder of this repo) in Python. Use **matplotlib** to plot pie charts for each grade categories in each file."
   ]
  },
  {
   "cell_type": "markdown",
   "id": "15df8767",
   "metadata": {},
   "source": [
    "## 11. Dice roll experiment (\\*\\*)\n",
    "\n",
    "Simulate 10, 100, 1000, 10000, 100000 dice rolls and count the freqencies and probabilities for each number in each simulation. Create a new text file using Python with the name \"simulation.txt\" and write the results to that text file."
   ]
  },
  {
   "cell_type": "markdown",
   "id": "277aec89",
   "metadata": {},
   "source": [
    "## 12. Theory\n",
    "\n",
    "a) Explain the difference between str.upper(), str.lower(), and str.title().\n",
    "\n",
    "b) What is the result of \"abc\"[1:3]? How does slicing work with strings?\n",
    "\n",
    "c) Why are strings considered sequences in Python?\n",
    "\n",
    "d) What is the use of escape characters in strings? Give an example.\n",
    "\n",
    "e) Explain how to reverse a string using slicing.\n",
    "\n",
    "f) What is the purpose of a try...except block in Python?\n",
    "\n",
    "g) What is the purpose of raise?\n",
    "\n",
    "h) What is the difference between runtime errors and logical errors?\n",
    "\n",
    "i) What does the with open(...) as f: syntax do, and why is it recommended?\n",
    "\n",
    "j) Explain the difference between read(), readline(), and readlines().\n",
    "\n",
    "k) Explain the different file modes: 'r', 'w', 'a', 'x', and 'r+'."
   ]
  },
  {
   "cell_type": "markdown",
   "id": "335262c4",
   "metadata": {},
   "source": [
    "## Glossary\n",
    "\n",
    "Fill in this table either by copying this into your own markdown file or copy it into a spreadsheet if you feel that is easier to work with.\n",
    "\n",
    "| terminology        | explanation |\n",
    "| ------------------ | ----------- |\n",
    "| replace            |             |\n",
    "| regular expression |             |\n",
    "| concatenation      |             |\n",
    "| split              |             |\n",
    "| indexing           |             |\n",
    "| escape charactrers |             |\n",
    "| unicode            |             |\n",
    "| exception          |             |\n",
    "| try block          |             |\n",
    "| except block       |             |\n",
    "| finally block      |             |\n",
    "| traceback          |             |\n",
    "| open()             |             |\n",
    "| with               |             |\n",
    "| context manager    |             |\n",
    "| close()            |             |"
   ]
  }
 ],
 "metadata": {
  "language_info": {
   "name": "python"
  }
 },
 "nbformat": 4,
 "nbformat_minor": 5
}
