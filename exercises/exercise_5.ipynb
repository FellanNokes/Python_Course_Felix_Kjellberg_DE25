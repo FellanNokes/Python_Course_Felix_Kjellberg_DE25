{
 "cells": [
  {
   "cell_type": "markdown",
   "id": "6c6d7f6b",
   "metadata": {},
   "source": [
    "# Exercise 5 - dictionary and functions\n",
    "\n",
    "In this exercise, you get to familiarize yourself with strings, file handling, error handling and strings. This exercise covers 10-11"
   ]
  },
  {
   "cell_type": "markdown",
   "id": "2b1b7828",
   "metadata": {},
   "source": [
    "## 0. Area (\\*)\n",
    "\n",
    "Create a function that takes the base and height of a triangle as input parameters and returns the area of the triangle."
   ]
  },
  {
   "cell_type": "code",
   "execution_count": 1,
   "id": "09f12536",
   "metadata": {},
   "outputs": [
    {
     "data": {
      "text/plain": [
       "50.0"
      ]
     },
     "execution_count": 1,
     "metadata": {},
     "output_type": "execute_result"
    }
   ],
   "source": [
    "def area_triangle(base, height):\n",
    "    return (base * height)/2\n",
    "\n",
    "area_triangle(20, 5)"
   ]
  },
  {
   "cell_type": "markdown",
   "id": "fd96c302",
   "metadata": {},
   "source": [
    "## 1. Euclidean distance (\\*)\n",
    "\n",
    "The formula for Euclidean distance in 2D between $P: (p_1, p_2)$ and $Q: (q_1, q_2)$ is:\n",
    "\n",
    "$d(P,Q) = \\sqrt{(p_1-q_1)^2 + (p_2-q_2)^2}$\n",
    "\n",
    "a) Create a function that takes two points as input parameters and return the Euclidean between them. (\\*)\n",
    "\n",
    "b) Let the user input two points. Call the function using the users input points. (\\*)\n",
    "\n",
    "c) Use your function to calculate distances between the origin (0, 0) and each of these points: (10, 3), (-1, -9), (10, -10), (4, -2), (9, -10). (\\*)\n",
    "\n",
    "---"
   ]
  },
  {
   "cell_type": "markdown",
   "id": "8d5ffece",
   "metadata": {},
   "source": [
    "## 2. Mathematical functions (\\*)\n",
    "\n",
    "Make the following functions with **def** or **lambda** and plot their graphs in the same figure window, with $x\\in [-10,10]$ :\n",
    "\n",
    "a) $f(x) = x^2 -3$ (\\*)\n",
    "\n",
    "b) $g(x) = 4x-7$ (\\*)\n",
    "\n",
    "What could the relation between $f(x)$ and $g(x)$ be?\n",
    "\n",
    "---"
   ]
  },
  {
   "cell_type": "markdown",
   "id": "2b6feb06",
   "metadata": {},
   "source": [
    "## 3. Name cleaner (\\*)\n",
    "\n",
    "Create a function that takes a name as an input and:\n",
    "\n",
    "- removes all leading and trailing blank spaces\n",
    "- make capitalize the first character of each name, and make the rest lowercase\n",
    "\n",
    "Use your function on this list of strings:\n",
    "\n",
    "```\n",
    "[\"  MaRcUs \", \" iDA aNderSon\", \"OLOF Olofsson            \"  ]\n",
    "```\n",
    "\n",
    "---"
   ]
  },
  {
   "cell_type": "code",
   "execution_count": 11,
   "id": "495452d7",
   "metadata": {},
   "outputs": [
    {
     "name": "stdout",
     "output_type": "stream",
     "text": [
      "['Marcus', 'Ida Anderson', 'Olof Olofsson']\n"
     ]
    }
   ],
   "source": [
    "text = [\"    MaRcUs \", \"  iDa aNderSon\", \"OLOF Olofsson            \"]\n",
    "def clean_name_list(names):\n",
    "    cleaned_names =[]\n",
    "    for name in names:\n",
    "        name = name.strip().lower().title()\n",
    "        cleaned_names.append(name)\n",
    "    return cleaned_names\n",
    "cleaned_list = clean_name_list(text)\n",
    "print(cleaned_list)"
   ]
  },
  {
   "cell_type": "markdown",
   "id": "ce20e4a5",
   "metadata": {},
   "source": [
    "## 4. Change (\\*\\*)\n",
    "\n",
    "Create a function that takes a value as input parameter and print out the banknotes and coins in Swedish currency representing this value. For example 5289 would give the following printout:\n",
    "\n",
    "- 5st 1000-lapp\n",
    "- 1st 200-lapp\n",
    "- 1st 50-lapp\n",
    "- 1st 20-lapp\n",
    "- 1st 10-krona\n",
    "- 1st 5-krona\n",
    "- 2st 2-krona\n",
    "\n",
    "Now let the user input a value, and use the function to calculate the change."
   ]
  },
  {
   "cell_type": "code",
   "execution_count": 18,
   "id": "ece01d3f",
   "metadata": {},
   "outputs": [
    {
     "name": "stdout",
     "output_type": "stream",
     "text": [
      "{'tusen': 38, 'femhundra': 0, 'tvahundra': 2, 'hundra': 0, 'femtio': 1, 'tjugo': 0, 'tio': 0, 'fem': 1, 'tva': 1, 'en': 0}\n"
     ]
    }
   ],
   "source": [
    "def banknotes(belopp):\n",
    "    pengar = {\n",
    "    \"tusen\": 0,\n",
    "    \"femhundra\": 0,\n",
    "    \"tvahundra\": 0,\n",
    "    \"hundra\": 0,\n",
    "    \"femtio\": 0,\n",
    "    \"tjugo\": 0,\n",
    "    \"tio\": 0,\n",
    "    \"fem\": 0,\n",
    "    \"tva\": 0,\n",
    "    \"en\": 0\n",
    "    }\n",
    "    \n",
    "    valörer = {\n",
    "        \"tusen\": 1000,\n",
    "        \"femhundra\": 500,\n",
    "        \"tvahundra\": 200,\n",
    "        \"hundra\": 100,\n",
    "        \"femtio\": 50,\n",
    "        \"tjugo\": 20,\n",
    "        \"tio\": 10,\n",
    "        \"fem\": 5,\n",
    "        \"tva\": 2,\n",
    "        \"en\": 1\n",
    "    }\n",
    "\n",
    "    for nyckel, värde in valörer.items():\n",
    "        if belopp >= värde:\n",
    "            pengar[nyckel] = belopp // värde\n",
    "            belopp %= värde\n",
    "\n",
    "    return pengar\n",
    "\n",
    "\n",
    "mängd_pengar = banknotes(38457)\n",
    "print(mängd_pengar)"
   ]
  },
  {
   "cell_type": "markdown",
   "id": "ddffbdaf",
   "metadata": {},
   "source": [
    "## 5. Curriculum (\\*)\n",
    "\n",
    "Create a dictionary containing all the courses that you will study in this program, with the course names as **keys** and the amount of points as **value**. Then calculate the number of points that you will study in total. (\\*)"
   ]
  },
  {
   "cell_type": "markdown",
   "id": "81741c89",
   "metadata": {},
   "source": [
    "## 6. Dice simulation (\\*)\n",
    "\n",
    "Simulate 1000000 dice rolls and save the number of ones, twos, ..., sixes in a dictionary. Then print them out in the terminal. (\\*)"
   ]
  },
  {
   "cell_type": "markdown",
   "id": "35d1eb76",
   "metadata": {},
   "source": [
    "## 7. Pokemon list (\\*)\n",
    "\n",
    "Read in the file pokemon_list.txt in Python. Create a variable with name pokedex with the key:value **\"pokemon\":\"type, index\"**. For example when searching for the keys \"Gengar\" and \"Pikachu\": (\\*)\n",
    "\n",
    "```python\n",
    "\n",
    "print(pokedex[\"Gengar\"])\n",
    "print(pokedex[\"Pikachu\"])\n",
    "\n",
    "Spöke/Gift, 94\n",
    "Elektrisk, 25\n",
    "```"
   ]
  },
  {
   "cell_type": "markdown",
   "id": "37cc74a7",
   "metadata": {},
   "source": [
    "## 8. Morse code (\\*\\*)\n",
    "\n",
    "Read in the file morse.txt, save it in a dictionary and create a function that lets the user input a message to get it translated to morse code. For example (\\*\\*)\n",
    "\n",
    "```python\n",
    "\n",
    "print(morse(\"SOS\"))\n",
    "print(morse(\"POKEMON\"))\n",
    "```\n",
    "\n",
    "```\n",
    "...---...\n",
    ".------.-.------.\n",
    "```"
   ]
  },
  {
   "cell_type": "markdown",
   "id": "c323458d",
   "metadata": {},
   "source": [
    "## 9. Theory\n",
    "\n",
    "a) What is a function in Python, and why is it used?\n",
    "\n",
    "b) Explain the difference between parameters and arguments.\n",
    "\n",
    "c) What is the difference between \\*args and \\*\\*kwargs in a function definition?\n",
    "\n",
    "d) What is the difference between a regular function and a lambda function in Python?\n",
    "\n",
    "e) Explain the purpose of the get() method. How is it different from accessing a key directly?\n",
    "\n",
    "f) What is the difference between .keys(), .values(), and .items() methods?\n",
    "\n",
    "g) Can dictionary keys be mutable types like lists or other dictionaries? Why or why not?"
   ]
  },
  {
   "cell_type": "markdown",
   "id": "f1d09db0",
   "metadata": {},
   "source": [
    "## Glossary\n",
    "\n",
    "Fill in this table either by copying this into your own markdown file or copy it into a spreadsheet if you feel that is easier to work with.\n",
    "\n",
    "| terminology          | explanation |\n",
    "| -------------------- | ----------- |\n",
    "| def                  |def is a keyword we put before function name inorder to define a function|\n",
    "| function call        |when we call the function from somwhere else in the code|\n",
    "| argument             |after the name of a function we put in what arguments it requires in the () can be empty|\n",
    "| return statement     |if we chose to use the 'return' statement at the end of a function then it returns what is after that, it is None by default|\n",
    "| parameter            |when we call a function then we put in parameters instead of arugments|\n",
    "| default parameter    |we can set in the arguments to use default parameters|\n",
    "| keyword arguments    |             |\n",
    "| variable arguments   |             |\n",
    "| positional arguments |             |\n",
    "| lambda functions     |             |\n",
    "| dict()               |             |\n",
    "| get()                |             |\n",
    "| items()              |             |\n",
    "| in operator          |             |\n",
    "| del                  |             |\n",
    "| update()             |             |"
   ]
  },
  {
   "cell_type": "markdown",
   "id": "88dfea54",
   "metadata": {},
   "source": []
  }
 ],
 "metadata": {
  "kernelspec": {
   "display_name": ".venv (3.12.10)",
   "language": "python",
   "name": "python3"
  },
  "language_info": {
   "codemirror_mode": {
    "name": "ipython",
    "version": 3
   },
   "file_extension": ".py",
   "mimetype": "text/x-python",
   "name": "python",
   "nbconvert_exporter": "python",
   "pygments_lexer": "ipython3",
   "version": "3.12.10"
  }
 },
 "nbformat": 4,
 "nbformat_minor": 5
}
