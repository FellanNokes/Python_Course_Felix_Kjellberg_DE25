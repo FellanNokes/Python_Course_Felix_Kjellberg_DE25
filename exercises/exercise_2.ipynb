{
 "cells": [
  {
   "cell_type": "markdown",
   "id": "72205eed",
   "metadata": {},
   "source": [
    "# Exercise 2 - control structures\n",
    "\n",
    "In this exercise, you get to familiarize yourself with the control structures in python, namely\n",
    "\n",
    "- if-statements\n",
    "- for statements\n",
    "- while statements\n",
    "\n",
    "This exercise covers lectures 05 in the course."
   ]
  },
  {
   "cell_type": "markdown",
   "id": "fea4ac8d",
   "metadata": {},
   "source": [
    "## 0. Check sign (\\*)\n",
    "\n",
    "Ask the user to input a number and check if this number is **positive**, **negative** or **zero** and print it out."
   ]
  },
  {
   "cell_type": "code",
   "execution_count": 5,
   "id": "f0d54616",
   "metadata": {},
   "outputs": [
    {
     "name": "stdout",
     "output_type": "stream",
     "text": [
      "-1 is a negative number\n"
     ]
    }
   ],
   "source": [
    "user_input = int(input(\"Input a whole number and I will tell if it is positive, negative or zero\"))\n",
    "\n",
    "if user_input == 0:\n",
    "    print(f\"{user_input} is zero\")\n",
    "elif user_input > 0:\n",
    "    print(f\"{user_input} is a positive number\")\n",
    "else:\n",
    "    print(f\"{user_input} is a negative number\")"
   ]
  },
  {
   "cell_type": "markdown",
   "id": "27dc1d31",
   "metadata": {},
   "source": [
    "## 1. Smallest (\\*)\n",
    "\n",
    "Ask the user to input two numbers and check which one is the smallest and print it out."
   ]
  },
  {
   "cell_type": "code",
   "execution_count": 9,
   "id": "52cfded0",
   "metadata": {},
   "outputs": [
    {
     "name": "stdout",
     "output_type": "stream",
     "text": [
      "Input two numbers and i will tell which is smallest\n",
      "Your second input: 0 is bigger then your first input: -10000000000\n"
     ]
    }
   ],
   "source": [
    "print(\"Input two numbers and i will tell which is smallest\")\n",
    "first_input = int(input(\"Input first number:\"))\n",
    "second_input = int(input(\"Input second number:\"))\n",
    "\n",
    "if first_input == second_input:\n",
    "    print(\"Nice try, its the same number\")\n",
    "elif first_input > second_input:\n",
    "    print(f\"Your first input: {first_input} is bigger then your second input: {second_input}\")\n",
    "else:\n",
    "    print(f\"Your second input: {second_input} is bigger then your first input: {first_input}\")\n"
   ]
  },
  {
   "cell_type": "markdown",
   "id": "f91fab07",
   "metadata": {},
   "source": [
    "## 2. Medicine\n",
    "\n",
    "The information in the following table is stated in a medicine package. Also it is stated that for children weight is more important than age.\n",
    "\n",
    "<table >\n",
    "<thead>\n",
    "    <tr>\n",
    "        <th></th>\n",
    "        <th>Age</th>\n",
    "        <th>Number of pills</th>\n",
    "    </tr>\n",
    "</thead>\n",
    "\n",
    "<tbody>\n",
    "  <tr>\n",
    "    <td>Adults & adolescent <br>over 40 kg</td>\n",
    "    <td>over 12 years</td>\n",
    "    <td>1-2</td>\n",
    "  </tr>\n",
    "\n",
    "  <tr>\n",
    "    <td>Children 26-40 kg</td>\n",
    "    <td>7-12 years</td>\n",
    "    <td>1/2-1</td>\n",
    "  </tr>\n",
    "\n",
    "  <tr>\n",
    "    <td>Children 15-25 kg</td>\n",
    "    <td>3-7 years</td>\n",
    "    <td>1/2</td>\n",
    "  </tr>\n",
    "</tbody>\n",
    "</table>\n"
   ]
  },
  {
   "cell_type": "code",
   "execution_count": 13,
   "id": "9411fd7c",
   "metadata": {},
   "outputs": [
    {
     "name": "stdout",
     "output_type": "stream",
     "text": [
      "You need to take 1/2 Pill\n"
     ]
    }
   ],
   "source": [
    "weight = int(input(\"Whats your weight in kgs\"))\n",
    "age = int(input(\"Whats your age?\"))\n",
    "\n",
    "if weight > 40 or age > 12:\n",
    "    print(\"You need to take 1-2 pills\")\n",
    "elif weight > 26 or age > 7:\n",
    "    print(\"You need to take 1/2-1 Pill\")\n",
    "else:\n",
    "    print(\"You need to take 1/2 Pill\")\n"
   ]
  },
  {
   "cell_type": "markdown",
   "id": "061288c4",
   "metadata": {},
   "source": [
    "## 3. Divisible (\\*)\n",
    "\n",
    "Let the user input a number. Check if the number is\n",
    "\n",
    "<ol type=\"a\">\n",
    "  <li>even or odd</li>\n",
    "  <li>is divisible by 5</li>\n",
    "  <li>is divisble by 5 and odd</li>\n",
    "</ol>"
   ]
  },
  {
   "cell_type": "code",
   "execution_count": 20,
   "id": "27203238",
   "metadata": {},
   "outputs": [
    {
     "name": "stdout",
     "output_type": "stream",
     "text": [
      "odd\n",
      "3 is not divisible by 5\n"
     ]
    }
   ],
   "source": [
    "user_input = int(input(\"Input a number and I will tell you if its even or odd and if its divisible by 5\"))\n",
    "\n",
    "if user_input %2 == 0:\n",
    "    print (\"even\")\n",
    "else:\n",
    "    print(\"odd\")\n",
    "\n",
    "if user_input %5 == 0:\n",
    "    print(f\"{user_input} is divisble by five\")\n",
    "    if user_input %2 == 0:\n",
    "        print(\"it is also an even number\")\n",
    "    else:\n",
    "        print(\"it is also an odd number\")\n",
    "else:\n",
    "    print(f\"{user_input} is not divisible by 5\")\n",
    "\n"
   ]
  },
  {
   "cell_type": "markdown",
   "id": "bea289e8",
   "metadata": {},
   "source": [
    "## 4. Luggage size (\\*)\n",
    "\n",
    "The maximum allowed luggage size for boarding an airplane is:\n",
    "\n",
    "- weight: 8kg\n",
    "- dimensions: 55x40x23cm (length x width x height)\n",
    "\n",
    "Let the user input weight, length, width and height of the luggage. The program should check if the luggage is allowed or not."
   ]
  },
  {
   "cell_type": "code",
   "execution_count": 25,
   "id": "41bf795b",
   "metadata": {},
   "outputs": [
    {
     "name": "stdout",
     "output_type": "stream",
     "text": [
      "Sorry your luggage is to big, you need to check it in\n"
     ]
    }
   ],
   "source": [
    "weight = int(input(\"Whats the weight of your luggage in kgs?\"))\n",
    "weight_limit = 8\n",
    "\n",
    "length_limit = 55\n",
    "width_limit = 40\n",
    "height_limit = 23\n",
    "\n",
    "if weight > 8:\n",
    "    print(f\"sorry {weight} is to high the weight limit is 8\")\n",
    "else:\n",
    "    length = int(input(\"Whats the length of your luggage?\"))\n",
    "    width = int(input(\"Whats the width of your luggage?\"))\n",
    "    height = int(input(\"Whats the height of your luggage?\"))\n",
    "    if length > length_limit or width > width_limit or height > height_limit:\n",
    "        print(f\"Sorry your luggage is to big, you need to check it in\")\n",
    "    else:\n",
    "        print(\"Welcome aboard with your luggage\")\n"
   ]
  },
  {
   "cell_type": "markdown",
   "id": "7ad4e015",
   "metadata": {},
   "source": [
    "## 5. Count numbers (\\*)\n",
    "\n",
    "Use a **for** statement to count from:\n",
    "\n",
    "a) &nbsp; -10 to 10 with one increment (\\*)\n",
    "\n",
    "b) &nbsp; -10 to 10 with two increment (\\*)"
   ]
  },
  {
   "cell_type": "code",
   "execution_count": 31,
   "id": "f57c5597",
   "metadata": {},
   "outputs": [
    {
     "name": "stdout",
     "output_type": "stream",
     "text": [
      "-10 -9 -8 -7 -6 -5 -4 -3 -2 -1 0 1 2 3 4 5 6 7 8 9 10 \n",
      "-10 -8 -6 -4 -2 0 2 4 6 8 10 "
     ]
    }
   ],
   "source": [
    "for i in range(-10,11):\n",
    "    print(i, end = \" \")\n",
    "\n",
    "print()\n",
    "for i in range(-10,11,2):\n",
    "    print(i, end = \" \")"
   ]
  },
  {
   "cell_type": "markdown",
   "id": "1f87ca3e",
   "metadata": {},
   "source": [
    "## 5. Arithmetic sum (\\*)\n",
    "\n",
    "Use a **while** statement to compute the following sums:\n",
    "\n",
    "a) &nbsp; $\\text{sum} = 1 + 2 + \\ldots + 99+ 100$\n",
    "\n",
    "b) &nbsp; $\\text{sum} = 1 + 3 + 5 + \\ldots + 97 + 99$\n",
    "\n",
    "Repeat these using a **for** statement"
   ]
  },
  {
   "cell_type": "code",
   "execution_count": null,
   "id": "6611ce19",
   "metadata": {},
   "outputs": [
    {
     "name": "stdout",
     "output_type": "stream",
     "text": [
      "5050\n",
      "0 0\n",
      "5050\n"
     ]
    }
   ],
   "source": [
    "i = 0\n",
    "while i <= 100:\n",
    "    sum += i\n",
    "    i += 1\n",
    "i = 0\n",
    "print(sum)\n",
    "sum = 0\n",
    "print(i, sum)\n",
    "\n",
    "\n",
    "for i in range(1, 101, 1):\n",
    "    sum += i\n",
    "print(sum)\n",
    "sum = 0"
   ]
  },
  {
   "cell_type": "code",
   "execution_count": 70,
   "id": "91948f1f",
   "metadata": {},
   "outputs": [
    {
     "name": "stdout",
     "output_type": "stream",
     "text": [
      "2450\n",
      "0 0\n",
      "2500\n"
     ]
    }
   ],
   "source": [
    "i = 0\n",
    "while i < 100:\n",
    "    sum += i\n",
    "    i += 2\n",
    "print(sum)\n",
    "i = 0\n",
    "sum = 0\n",
    "print(i, sum)\n",
    "\n",
    "for i in range(1, 101, 2):\n",
    "    sum += i\n",
    "print(sum)\n",
    "sum = 0"
   ]
  },
  {
   "cell_type": "markdown",
   "id": "ba7b23b7",
   "metadata": {},
   "source": [
    "## 6. Multiplication game (\\*)\n",
    "\n",
    "a) Create a multiplication game following this flow chart:\n",
    "\n",
    "<img src=\"https://github.com/kokchun/assets/blob/main/python/Multiplication_game.png?raw=true\">"
   ]
  },
  {
   "cell_type": "code",
   "execution_count": 104,
   "id": "dcbf9c1b",
   "metadata": {},
   "outputs": [
    {
     "name": "stdout",
     "output_type": "stream",
     "text": [
      "Correct!\n",
      "Thanks for playing you got 1 correct answer\n"
     ]
    }
   ],
   "source": [
    "import random as rnd\n",
    "game_active = True\n",
    "score = 0\n",
    "\n",
    "while game_active:\n",
    "    x = rnd.randint(1,10)\n",
    "    y = rnd.randint(1,10)\n",
    "    user_answer = int(input(f\"What is {x} x {y}\"))\n",
    "    correct_answer = x*y\n",
    "    if user_answer == correct_answer:\n",
    "        score += 1\n",
    "        print(\"Correct!\")\n",
    "    else:\n",
    "        print(f\"Wrong the answer is {correct_answer} \")\n",
    "    play_again = input(\"want to play again? Type y for yes\")\n",
    "    if not play_again == \"y\":\n",
    "        print(f\"Thanks for playing you got {score} correct answer\")\n",
    "        game_active = False\n"
   ]
  },
  {
   "cell_type": "markdown",
   "id": "033166cd",
   "metadata": {},
   "source": [
    "## 7. Multiplication table (\\*)\n",
    "\n",
    "Use **for** statement(s) to:\n",
    "\n",
    "&nbsp; a) &nbsp; print out the 6th multiplication table from 0 to 10 (\\*)\n",
    "\n",
    "&nbsp; b) &nbsp; let the user input the **table**, **start** and **end** of the table. (\\*)\n",
    "\n",
    "&nbsp; c) &nbsp; print out a full multiplication table from 0 to 10. (\\*\\*)\n",
    "\n",
    "**Hint:** Use nested for-loops, which means a for-loop in a for-loop. To format the table nicely, use **f-string**:\n",
    "\n",
    "```python\n",
    "print(f\"{number :4}\", end = \"\")\n",
    "```\n",
    "\n",
    "output:\n",
    "\n",
    "```\n",
    "   0   0   0   0   0   0   0   0   0   0   0\n",
    "   0   1   2   3   4   5   6   7   8   9  10\n",
    "   0   2   4   6   8  10  12  14  16  18  20\n",
    "   0   3   6   9  12  15  18  21  24  27  30\n",
    "   0   4   8  12  16  20  24  28  32  36  40\n",
    "   0   5  10  15  20  25  30  35  40  45  50\n",
    "   0   6  12  18  24  30  36  42  48  54  60\n",
    "   0   7  14  21  28  35  42  49  56  63  70\n",
    "   0   8  16  24  32  40  48  56  64  72  80\n",
    "   0   9  18  27  36  45  54  63  72  81  90\n",
    "   0  10  20  30  40  50  60  70  80  90 100\n",
    "```\n"
   ]
  },
  {
   "cell_type": "code",
   "execution_count": 81,
   "id": "da0c64b6",
   "metadata": {},
   "outputs": [
    {
     "name": "stdout",
     "output_type": "stream",
     "text": [
      "   0   0   0   0   0   0   0   0   0   0   0\n",
      "   0   1   2   3   4   5   6   7   8   9  10\n",
      "   0   2   4   6   8  10  12  14  16  18  20\n",
      "   0   3   6   9  12  15  18  21  24  27  30\n",
      "   0   4   8  12  16  20  24  28  32  36  40\n",
      "   0   5  10  15  20  25  30  35  40  45  50\n",
      "   0   6  12  18  24  30  36  42  48  54  60\n",
      "   0   7  14  21  28  35  42  49  56  63  70\n",
      "   0   8  16  24  32  40  48  56  64  72  80\n",
      "   0   9  18  27  36  45  54  63  72  81  90\n",
      "   0  10  20  30  40  50  60  70  80  90 100\n"
     ]
    }
   ],
   "source": [
    "for x in range(0, 11, 1):\n",
    "    for y in range(0, 11, 1):\n",
    "        number = x * y\n",
    "        print(f\"{number :4}\", end= \"\")\n",
    "    print()"
   ]
  },
  {
   "cell_type": "markdown",
   "id": "cb886dab",
   "metadata": {},
   "source": [
    "## 8. Rice on chessboard (\\*)\n",
    "\n",
    "In first square of the chessboard there is one grain of rice, in the second square there is two grains, in the third square there is four grains and so on. How many grains are there in the whole chessboard when all squares are filled using this pattern?\n",
    "\n",
    "<img src=\"https://github.com/kokchun/assets/blob/main/python/chessboard.png?raw=true\">\n",
    "\n"
   ]
  },
  {
   "cell_type": "code",
   "execution_count": 98,
   "id": "6bd6d084",
   "metadata": {},
   "outputs": [
    {
     "name": "stdout",
     "output_type": "stream",
     "text": [
      "1  2  4  8  16  32  64  128  \n",
      "256  512  1024  2048  4096  8192  16384  32768  \n",
      "65536  131072  262144  524288  1048576  2097152  4194304  8388608  \n",
      "16777216  33554432  67108864  134217728  268435456  536870912  1073741824  2147483648  \n",
      "4294967296  8589934592  17179869184  34359738368  68719476736  137438953472  274877906944  549755813888  \n",
      "1099511627776  2199023255552  4398046511104  8796093022208  17592186044416  35184372088832  70368744177664  140737488355328  \n",
      "281474976710656  562949953421312  1125899906842624  2251799813685248  4503599627370496  9007199254740992  18014398509481984  36028797018963968  \n",
      "72057594037927936  144115188075855872  288230376151711744  576460752303423488  1152921504606846976  2305843009213693952  4611686018427387904  9223372036854775808  \n",
      "18446744073709551615\n"
     ]
    }
   ],
   "source": [
    "rice = 1\n",
    "total_sum = 0\n",
    "for x in range(0, 8):\n",
    "    for y in range(0, 8):\n",
    "        print(f\"{rice}  \", end =\"\")\n",
    "        total_sum += rice\n",
    "        rice *= 2\n",
    "    print()\n",
    "print(total_sum)"
   ]
  },
  {
   "cell_type": "markdown",
   "id": "8bdd2432",
   "metadata": {},
   "source": [
    "## 9. Check convergence (\\*\\*)\n",
    "\n",
    "Use a while statement to compute the following sums:\n",
    "\n",
    "a) &nbsp; $\\text{sum} = 1 + \\frac{1}{2} + \\frac{1}{4} + \\frac{1}{8} + \\dots + \\frac{1}{2^n}$\n",
    "\n",
    "b) &nbsp; $\\text{sum} = 1 - \\frac{1}{3} + \\frac{1}{5} - \\frac{1}{7} + \\dots + \\frac{(-1)^n}{2n+1}$\n",
    "\n",
    "Try different values on $n$ to see which value it converges to.\n",
    "\n",
    "Repeat these using a **for** statement"
   ]
  },
  {
   "cell_type": "code",
   "execution_count": null,
   "id": "b5d00fd0",
   "metadata": {},
   "outputs": [
    {
     "name": "stdout",
     "output_type": "stream",
     "text": [
      "higher then 5\n",
      "higher then 5\n",
      "lower\n"
     ]
    }
   ],
   "source": []
  },
  {
   "cell_type": "markdown",
   "id": "84a805d1",
   "metadata": {},
   "source": [
    "## 10. Theory\n",
    "\n",
    "**a) When is it better to use while statement and when is it better to use for statement**\n",
    "\n",
    "A while statement is better when you dont know how long you want to run something\n",
    "\n",
    "For loops are better for when you know how long you want to iterate something.\n",
    "\n",
    "**b) What is the difference between = and == in Python?**\n",
    "\n",
    "= is an assignement, for assigning value to a variable\n",
    "\n",
    "== is a comparesent used to compare if two things have the same value\n",
    "\n",
    "**c) Explain how an if-elif-else block works in Python. What happens if multiple conditions are true?**\n",
    "\n",
    "if checks if something is true and then runs the block of code that is undented under it.\n",
    "\n",
    "elif is next step thats still an if but checked after the if statement.\n",
    "\n",
    "else is if none of the above are true it runs the code after else without a comparesent \n",
    "\n",
    "**d) What does the continue statement do in a loop? How is it different from break?**\n",
    "\n",
    "continue skips the rest of the iteration but continues with the loop while break breaks out of the loop\n",
    "\n",
    "**e) Explain the meaning of truthy and falsy values and give a few example of both**\n",
    "\n",
    "in python some values are considered truthy while others are considered falsy\n",
    "\n",
    "some example of truthy values\n",
    "```python\n",
    "100\n",
    "-14.5\n",
    "True\n",
    "```\n",
    "some falsey values are \n",
    "```python\n",
    "0\n",
    "0.0\n",
    "False\n",
    "```\n",
    "\n",
    "**f) Can you nest control structures in Python (e.g., a loop inside an if)? Give a brief example.**\n",
    "\n",
    "```python\n",
    "while True:\n",
    "    number = int(input(\"enter a number \"))\n",
    "        if number > 100:\n",
    "            for i in range(1,number):\n",
    "                print(f\"{i} counting up untill i reach your number\")\n",
    "```\n",
    "\n",
    "**g) Every expression can be part of a statement, but not all statements are expressions. True or false?**\n",
    "\n",
    "False. Expressions is producing a value while statements are instructions for example if is a statement but not an expression\n",
    "\n",
    "\n",
    "## Glossary\n",
    "\n",
    "Fill in this table either by copying this into your own markdown file or copy it into a spreadsheet if you feel that is easier to work with.\n",
    "\n",
    "| terminology           | explanation |\n",
    "| --------------------- | ----------- |\n",
    "| control structures    |General term for While, if and for that requires a statement to run the code in the block beneth|\n",
    "| conditional statement |A statement with conditions thats either true or false|\n",
    "| if                    |If the statement is true then run this code underneth|\n",
    "| elif                  |Same as if but put after the first if statement|\n",
    "| else                  |This is to be put last, runs the code if none of the requirements above are met|\n",
    "| for                   |A loop used for when you know how long you want to run it|\n",
    "| while                 |A loop used for when you don't know how long you want to run it|\n",
    "| break                 |Breaks out of the first loop|\n",
    "| continue              |Skips the rest of the current loop iteration and continues with the next one.|\n",
    "| boolean expression    |An expression that evaluates to either True or False.|\n",
    "| loop                  |Runs the code until you break out or the loop is complete|\n",
    "| nested loop           |A loop inside another loop or if statement|\n",
    "| nested if statement   |Inside a loop or another if statement|\n",
    "| expression            |Something that produces a value|\n",
    "| statement             |An instruction that Python executes (may or may not contain expressions).|\n",
    "| control flow          |The order in which individual statements, instructions, or function calls are executed in a program.|"
   ]
  },
  {
   "cell_type": "markdown",
   "id": "596a1cd4",
   "metadata": {},
   "source": []
  }
 ],
 "metadata": {
  "kernelspec": {
   "display_name": ".venv (3.12.10)",
   "language": "python",
   "name": "python3"
  },
  "language_info": {
   "codemirror_mode": {
    "name": "ipython",
    "version": 3
   },
   "file_extension": ".py",
   "mimetype": "text/x-python",
   "name": "python",
   "nbconvert_exporter": "python",
   "pygments_lexer": "ipython3",
   "version": "3.12.10"
  }
 },
 "nbformat": 4,
 "nbformat_minor": 5
}
