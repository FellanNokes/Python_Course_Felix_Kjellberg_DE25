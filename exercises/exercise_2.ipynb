{
 "cells": [
  {
   "cell_type": "markdown",
   "id": "72205eed",
   "metadata": {},
   "source": [
    "# Exercise 2 - control structures\n",
    "\n",
    "In this exercise, you get to familiarize yourself with the control structures in python, namely\n",
    "\n",
    "- if-statements\n",
    "- for statements\n",
    "- while statements\n",
    "\n",
    "This exercise covers lectures 05 in the course."
   ]
  },
  {
   "cell_type": "markdown",
   "id": "b99bf8c2",
   "metadata": {},
   "source": [
    "## 0. Check sign\n",
    "\n",
    "Ask the user to input a number and check if this number is positive, negative or zero and print it out."
   ]
  },
  {
   "cell_type": "code",
   "execution_count": 5,
   "id": "f0d54616",
   "metadata": {},
   "outputs": [
    {
     "name": "stdout",
     "output_type": "stream",
     "text": [
      "-1 is a negative number\n"
     ]
    }
   ],
   "source": [
    "user_input = int(input(\"Input a whole number and I will tell if it is positive, negative or zero\"))\n",
    "\n",
    "if user_input == 0:\n",
    "    print(f\"{user_input} is zero\")\n",
    "elif user_input > 0:\n",
    "    print(f\"{user_input} is a positive number\")\n",
    "else:\n",
    "    print(f\"{user_input} is a negative number\")"
   ]
  },
  {
   "cell_type": "markdown",
   "id": "27dc1d31",
   "metadata": {},
   "source": [
    "## 1.Smallest\n",
    "\n",
    "Ask the user to input two numbers and check which one is the smallest and print it out."
   ]
  },
  {
   "cell_type": "code",
   "execution_count": 9,
   "id": "52cfded0",
   "metadata": {},
   "outputs": [
    {
     "name": "stdout",
     "output_type": "stream",
     "text": [
      "Input two numbers and i will tell which is smallest\n",
      "Your second input: 0 is bigger then your first input: -10000000000\n"
     ]
    }
   ],
   "source": [
    "print(\"Input two numbers and i will tell which is smallest\")\n",
    "first_input = int(input(\"Input first number:\"))\n",
    "second_input = int(input(\"Input second number:\"))\n",
    "\n",
    "if first_input == second_input:\n",
    "    print(\"Nice try, its the same number\")\n",
    "elif first_input > second_input:\n",
    "    print(f\"Your first input: {first_input} is bigger then your second input: {second_input}\")\n",
    "else:\n",
    "    print(f\"Your second input: {second_input} is bigger then your first input: {first_input}\")\n"
   ]
  },
  {
   "cell_type": "markdown",
   "id": "f91fab07",
   "metadata": {},
   "source": [
    "## 2. Medicine\n",
    "\n",
    "The information in the following table is stated in a medicine package. Also it is stated that for children weight is more important than age.\n",
    "\n",
    "<table >\n",
    "<thead>\n",
    "    <tr>\n",
    "        <th></th>\n",
    "        <th>Age</th>\n",
    "        <th>Number of pills</th>\n",
    "    </tr>\n",
    "</thead>\n",
    "\n",
    "<tbody>\n",
    "  <tr>\n",
    "    <td>Adults & adolescent <br>over 40 kg</td>\n",
    "    <td>over 12 years</td>\n",
    "    <td>1-2</td>\n",
    "  </tr>\n",
    "\n",
    "  <tr>\n",
    "    <td>Children 26-40 kg</td>\n",
    "    <td>7-12 years</td>\n",
    "    <td>1/2-1</td>\n",
    "  </tr>\n",
    "\n",
    "  <tr>\n",
    "    <td>Children 15-25 kg</td>\n",
    "    <td>3-7 years</td>\n",
    "    <td>1/2</td>\n",
    "  </tr>\n",
    "</tbody>\n",
    "</table>\n"
   ]
  },
  {
   "cell_type": "code",
   "execution_count": 13,
   "id": "9411fd7c",
   "metadata": {},
   "outputs": [
    {
     "name": "stdout",
     "output_type": "stream",
     "text": [
      "You need to take 1/2 Pill\n"
     ]
    }
   ],
   "source": [
    "weight = int(input(\"Whats your weight in kgs\"))\n",
    "age = int(input(\"Whats your age?\"))\n",
    "\n",
    "if weight > 40 or age > 12:\n",
    "    print(\"You need to take 1-2 pills\")\n",
    "elif weight > 26 or age > 7:\n",
    "    print(\"You need to take 1/2-1 Pill\")\n",
    "else:\n",
    "    print(\"You need to take 1/2 Pill\")\n"
   ]
  },
  {
   "cell_type": "markdown",
   "id": "061288c4",
   "metadata": {},
   "source": [
    "## 3. Divisible (\\*)\n",
    "\n",
    "Let the user input a number. Check if the number is\n",
    "\n",
    "<ol type=\"a\">\n",
    "  <li>even or odd</li>\n",
    "  <li>is divisible by 5</li>\n",
    "  <li>is divisble by 5 and odd</li>\n",
    "</ol>"
   ]
  },
  {
   "cell_type": "code",
   "execution_count": 20,
   "id": "27203238",
   "metadata": {},
   "outputs": [
    {
     "name": "stdout",
     "output_type": "stream",
     "text": [
      "odd\n",
      "3 is not divisible by 5\n"
     ]
    }
   ],
   "source": [
    "user_input = int(input(\"Input a number and I will tell you if its even or odd and if its divisible by 5\"))\n",
    "\n",
    "if user_input %2 == 0:\n",
    "    print (\"even\")\n",
    "else:\n",
    "    print(\"odd\")\n",
    "\n",
    "if user_input %5 == 0:\n",
    "    print(f\"{user_input} is divisble by five\")\n",
    "    if user_input %2 == 0:\n",
    "        print(\"it is also an even number\")\n",
    "    else:\n",
    "        print(\"it is also an odd number\")\n",
    "else:\n",
    "    print(f\"{user_input} is not divisible by 5\")\n",
    "\n"
   ]
  },
  {
   "cell_type": "markdown",
   "id": "bea289e8",
   "metadata": {},
   "source": [
    "## 4. Luggage size (\\*)\n",
    "\n",
    "The maximum allowed luggage size for boarding an airplane is:\n",
    "\n",
    "- weight: 8kg\n",
    "- dimensions: 55x40x23cm (length x width x height)\n",
    "\n",
    "Let the user input weight, length, width and height of the luggage. The program should check if the luggage is allowed or not."
   ]
  },
  {
   "cell_type": "markdown",
   "id": "7ad4e015",
   "metadata": {},
   "source": []
  }
 ],
 "metadata": {
  "kernelspec": {
   "display_name": ".venv (3.12.10)",
   "language": "python",
   "name": "python3"
  },
  "language_info": {
   "codemirror_mode": {
    "name": "ipython",
    "version": 3
   },
   "file_extension": ".py",
   "mimetype": "text/x-python",
   "name": "python",
   "nbconvert_exporter": "python",
   "pygments_lexer": "ipython3",
   "version": "3.12.10"
  }
 },
 "nbformat": 4,
 "nbformat_minor": 5
}
