{
 "cells": [
  {
   "cell_type": "markdown",
   "id": "e5e4c000",
   "metadata": {},
   "source": [
    "# Exercise 3 - sequences\n",
    "\n",
    "In this exercise, you get to familiarize yourself with sequences in Python."
   ]
  },
  {
   "cell_type": "markdown",
   "id": "bbd020fb",
   "metadata": {},
   "source": [
    "## 0. Dice rolls (\\*)\n",
    "\n",
    "Simulate 10 dice rolls and **append** the rolls to a list. Do this once again but now use **list comprehension** instead to create the list.\n",
    "\n",
    "a) sort the list in **ascending** order (\\*)\n",
    "\n",
    "b) sort the list in **descending** order (\\*)\n",
    "\n",
    "c) find the **maximum** and **minimum** value in the list (\\*)\n",
    "\n",
    "d) calculate the **mean** (average) of the list (\\*)\n",
    "\n",
    "e) find the **median** of the list (\\*)\n",
    "\n",
    "f) extract only the unique values from the list. The output should be a list (\\*)\n"
   ]
  },
  {
   "cell_type": "code",
   "execution_count": null,
   "id": "5efe9900",
   "metadata": {},
   "outputs": [
    {
     "name": "stdout",
     "output_type": "stream",
     "text": [
      "6\n",
      "5\n",
      "5\n",
      "4\n",
      "1\n",
      "3\n",
      "6\n",
      "1\n",
      "6\n",
      "1\n",
      "[4, 6, 5, 3, 1, 2, 4, 2, 6, 3]\n",
      "sorting dice rolls in ascending order\n",
      "1\n",
      "1\n",
      "1\n",
      "3\n",
      "4\n",
      "5\n",
      "5\n",
      "6\n",
      "6\n",
      "6\n",
      "sorting dice rolls in descending order\n",
      "6\n",
      "6\n",
      "6\n",
      "5\n",
      "5\n",
      "4\n",
      "3\n",
      "1\n",
      "1\n",
      "1\n",
      "the maximum is 6 and the minimum is 1\n",
      "the average is 3.8\n",
      "1\n",
      "1\n",
      "1\n",
      "3\n",
      "4\n",
      "5\n",
      "5\n",
      "6\n",
      "6\n",
      "6\n",
      "the median is 4\n"
     ]
    }
   ],
   "source": [
    "import random as rnd\n",
    "dice_rolls = []\n",
    "\n",
    "for i in range(10):\n",
    "    dice_rolls += [rnd.randint(1,6)]\n",
    "\n",
    "for dice_roll in dice_rolls:\n",
    "    print(dice_roll)\n",
    "\n",
    "new_dice_rolls =[rnd.randint(1,6) for x in range(10)]\n",
    "print(new_dice_rolls)\n",
    "\n",
    "#a)sorting the list in ascending order\n",
    "print(\"sorting dice rolls in ascending order\")\n",
    "dice_rolls.sort()\n",
    "for dice_roll in dice_rolls:\n",
    "    print(dice_roll)\n",
    "\n",
    "#b)sorting the list in descending order\n",
    "print(\"sorting dice rolls in descending order\")\n",
    "dice_rolls.sort(reverse=True)\n",
    "for dice_roll in dice_rolls:\n",
    "    print(dice_roll)\n",
    "\n",
    "#c)finding the minimum and maximum value of the list\n",
    "lowest_roll = 6\n",
    "highest_roll = 0\n",
    "for dice_roll in dice_rolls:\n",
    "    if lowest_roll >= dice_roll:\n",
    "        lowest_roll = dice_roll\n",
    "    if highest_roll <= dice_roll:\n",
    "        highest_roll = dice_roll\n",
    "\n",
    "#d)Finding the average\n",
    "print(f\"the maximum is {highest_roll} and the minimum is {lowest_roll}\")\n",
    "total_value = 0\n",
    "amount_rolls = 0\n",
    "for dice_roll in dice_rolls:\n",
    "    total_value += dice_roll\n",
    "    amount_rolls += 1\n",
    "\n",
    "average = total_value/amount_rolls\n",
    "print (f\"the average is {average}\")\n",
    "\n",
    "#e)finding the median\n",
    "#we need to sort the list\n",
    "#we need to take length /2 \n",
    "#then we need to take \n",
    "\n",
    "dice_rolls.sort()\n",
    "median_index = int(len(dice_rolls)/2) - 1\n",
    "for dice_roll in dice_rolls:\n",
    "    print(dice_roll)\n",
    "print(f\"the median is {dice_rolls[median_index]}\")\n",
    "\n"
   ]
  },
  {
   "cell_type": "markdown",
   "id": "d790719a",
   "metadata": {},
   "source": [
    "## 1. Food menu (\\*)\n",
    "\n",
    "Create a:\n",
    "\n",
    "a) **list** with the following elements: \"vegetarian lasagna\", \"spaghetti\", \"fish\", \"soup\", \"pancakes\". (\\*)\n",
    "\n",
    "b) **list** with the weekdays (\\*)\n",
    "\n",
    "c) create a food menu with each day corresponding to each food item and print it out like this (\\*)\n",
    "\n",
    "```bash\n",
    "Day        Food\n",
    "-----------------\n",
    "Monday     vegetarian lasagna\n",
    "Tuesday    spaghetti\n",
    "Wednesday  fish\n",
    "Thursday   soup\n",
    "Friday     pancakes\n",
    "```"
   ]
  },
  {
   "cell_type": "code",
   "execution_count": 19,
   "id": "de331957",
   "metadata": {},
   "outputs": [
    {
     "name": "stdout",
     "output_type": "stream",
     "text": [
      "day    food\n",
      "---------\n",
      "['Monday', 'Lasagna']\n",
      "['Tuesday', 'Spaghetti']\n",
      "['Wednesday', 'Fish']\n",
      "['Thursday', 'Soup']\n",
      "['Friday', 'pancakes']\n"
     ]
    }
   ],
   "source": [
    "weekday_foods = [[\"Monday\", \"Lasagna\"],[\"Tuesday\", \"Spaghetti\"],[\"Wednesday\", \"Fish\"],[\"Thursday\",\"Soup\"],[\"Friday\",\"pancakes\"]]\n",
    "print(\"day    food\")\n",
    "print(\"---------\")\n",
    "for weekday_food in weekday_foods:\n",
    "    print(weekday_food)"
   ]
  },
  {
   "cell_type": "markdown",
   "id": "76c22dcb",
   "metadata": {},
   "source": [
    "## 2. Squares (\\*)\n",
    "\n",
    "a) Use **list comprehension** to create a list of squares from -10 to 10 (\\*)\n",
    "\n",
    "b) Plot this list using **matplotlib**. (\\*)\n"
   ]
  },
  {
   "cell_type": "code",
   "execution_count": 17,
   "id": "51857bb5",
   "metadata": {},
   "outputs": [
    {
     "data": {
      "text/plain": [
       "[<matplotlib.lines.Line2D at 0x27097fe4530>]"
      ]
     },
     "execution_count": 17,
     "metadata": {},
     "output_type": "execute_result"
    },
    {
     "data": {
      "image/png": "[encoded data removed]",
      "text/plain": [
       "<Figure size 640x480 with 1 Axes>"
      ]
     },
     "metadata": {},
     "output_type": "display_data"
    }
   ],
   "source": [
    "import matplotlib.pyplot as plt\n",
    "\n",
    "squares = [i for i in range(-10, 11)]\n",
    "plt.plot(squares)"
   ]
  },
  {
   "cell_type": "markdown",
   "id": "34e0dcc0",
   "metadata": {},
   "source": [
    "## 3. Chessboard (\\*\\*)\n",
    "\n",
    "a) Create this list using **list comprehension**: (\\*)\n",
    "\n",
    "```python\n",
    "['A1', 'B1', 'C1', 'D1', 'E1', 'F1', 'G1', 'H1']\n",
    "```\n",
    "\n",
    "b) Create a 2D list to hold the coordinates in a chessboard like this (\\*\\*)\n",
    "\n",
    "```\n",
    "[[A1, B1, C1, D1, E1, F1, G1, H1],\n",
    " [A2, B2, C2, D2, E2, F2, G2, H2],\n",
    " [A3, B3, C3, D3, E3, F3, G3, H3],\n",
    " [A4, B4, C4, D4, E4, F4, G4, H4],\n",
    " [A5, B5, C5, D5, E5, F5, G5, H5],\n",
    " [A6, B6, C6, D6, E6, F6, G6, H6],\n",
    " [A7, B7, C7, D7, E7, F7, G7, H7],\n",
    " [A8, B8, C8, D8, E8, F8, G8 ,H8]]\n",
    "```\n",
    "\n",
    "c) Instead of lists use tuples to hold the coordinates in a chessboard like this (\\*\\*)\n",
    "\n",
    "```\n",
    "((\"A\",1),(\"B\",1),(\"C\",1),(\"D\",1),(\"E\",1),(\"F\",1),(\"G\",1),(\"H\",1)),\n",
    "((\"A\",2),(\"B\",2),(\"C\",2),(\"D\",2),(\"E\",2),(\"F\",2),(\"G\",2),(\"H\",2)),\n",
    "((\"A\",3),(\"B\",3),(\"C\",3),(\"D\",3),(\"E\",3),(\"F\",3),(\"G\",3),(\"H\",3)),\n",
    "((\"A\",4),(\"B\",4),(\"C\",4),(\"D\",4),(\"E\",4),(\"F\",4),(\"G\",4),(\"H\",4)),\n",
    "((\"A\",5),(\"B\",5),(\"C\",5),(\"D\",5),(\"E\",5),(\"F\",5),(\"G\",5),(\"H\",5)),\n",
    "((\"A\",6),(\"B\",6),(\"C\",6),(\"D\",6),(\"E\",6),(\"F\",6),(\"G\",6),(\"H\",6)),\n",
    "((\"A\",7),(\"B\",7),(\"C\",7),(\"D\",7),(\"E\",7),(\"F\",7),(\"G\",7),(\"H\",7)),\n",
    "((\"A\",8),(\"B\",8),(\"C\",8),(\"D\",8),(\"E\",8),(\"F\",8),(\"G\",8),(\"H\",8))\n",
    "```\n"
   ]
  },
  {
   "cell_type": "code",
   "execution_count": null,
   "id": "1109576f",
   "metadata": {},
   "outputs": [
    {
     "ename": "SyntaxError",
     "evalue": "invalid syntax. Perhaps you forgot a comma? (1094849543.py, line 1)",
     "output_type": "error",
     "traceback": [
      "  \u001b[36mCell\u001b[39m\u001b[36m \u001b[39m\u001b[32mIn[25]\u001b[39m\u001b[32m, line 1\u001b[39m\n\u001b[31m    \u001b[39m\u001b[31mchessboard_coordinates = [(i,j) chr(i) for i in range(ord('A'), ord ('I')) int j for j in range(9)]\u001b[39m\n                              ^\n\u001b[31mSyntaxError\u001b[39m\u001b[31m:\u001b[39m invalid syntax. Perhaps you forgot a comma?\n"
     ]
    }
   ],
   "source": [
    "\n",
    "#chessboard_coordinates = [(i,j) chr(i) for i in range(ord('A'), ord ('I')) int j for j in range(9)]\n",
    "\n",
    "#print(chessboard_coordinates)"
   ]
  },
  {
   "cell_type": "markdown",
   "id": "87bcd170",
   "metadata": {},
   "source": [
    "## 4. Dice rolls convergence (\\*\\*)\n",
    "\n",
    "Simulate:\n",
    "\n",
    "a) 100 dice rolls and count the number of outcome six. (\\*)\n",
    "\n",
    "b) 10, 100, 1000, 10000, 100000, 1000000 dice rolls. Count the number of outcome six in each simulation and store it in a list. Compute the probability of outcome six in each simulation. (\\*\\*)\n",
    "\n",
    "c) Use matplotlib to plot this list. (\\*)"
   ]
  },
  {
   "cell_type": "code",
   "execution_count": null,
   "id": "269ba2f6",
   "metadata": {},
   "outputs": [],
   "source": []
  },
  {
   "cell_type": "markdown",
   "id": "1a252ba7",
   "metadata": {},
   "source": [
    "## 5. Monte Carlo simulation (\\*\\*\\*)\n",
    "\n",
    "a) Simulate 5000 uniformly distributed points between -1 and 1, $X\\sim U(-1,1)$. Now calculate the Euclidean distances between each point and the origin (0,0), $d_i = \\sqrt{x_i^2 + y_i^2}$. For $d_i < 1$ plot the point with one color, and for $d_i > 1$ plot the point in another color, $i = \\{1,\\ldots, 5000\\}$. (\\*\\*)\n",
    "\n",
    "b) Calculate the fraction between number of inner points and number of outer points. What do you this will converge to when number of points reaches infinity? (\\*\\*)"
   ]
  },
  {
   "cell_type": "code",
   "execution_count": null,
   "id": "99bd52d1",
   "metadata": {},
   "outputs": [],
   "source": []
  },
  {
   "cell_type": "markdown",
   "id": "fb44a6bb",
   "metadata": {},
   "source": [
    "## 6. A cute rabbit among two ferocious snakes (\\*\\*\\*)\n",
    "\n",
    "There are three identical doors, behind two of them, there are ferocious snakes and behind one of them is a cute little rabbit. Your aim is to pick a door and get the cute rabbit. You start picking one door randomly and suddenly another door opens and snake slithers away _pssss_. Now you have a choice to either stay with your door or change to the remaining door.\n",
    "\n",
    "<img src=\"https://github.com/kokchun/assets/blob/main/python/snakes_rabbits.png?raw=true\" width = 200>\n",
    "\n",
    "a) What is your choice and why? (\\*\\*)\n",
    "\n",
    "b) Randomly assign which door has the rabbit, and randomly pick an initial door. Now simulate 10, 100, 1000, 10000, 100000, 1000000 times for staying and for switching doors. Calculate the proportion of finding the rabbits for each set of simulations. Plot the results (\\*\\*)\n"
   ]
  },
  {
   "cell_type": "code",
   "execution_count": null,
   "id": "731caaa1",
   "metadata": {},
   "outputs": [],
   "source": []
  },
  {
   "cell_type": "markdown",
   "id": "95a67ef1",
   "metadata": {},
   "source": [
    "## 7. Theory\n",
    "\n",
    "a) What is a sequence in Python? Give examples of sequence types.\n",
    "\n",
    "b) What is the difference between a list and a tuple?\n",
    "\n",
    "c) How does indexing work in Python sequences? What happens if you use a negative index?\n",
    "\n",
    "d) How does Python handle out-of-range indices in slicing vs indexing?\n",
    "\n",
    "e) Which of the following sequence types are mutable: list, tuple, str, range?\n",
    "\n",
    "f) What is sequence unpacking? Provide an example.\n",
    "\n",
    "g) What are some common use cases for enumerate() and zip() when working with sequences?\n",
    "\n",
    "h) What is the difference between sorted() and .sort() in lists?\n",
    "\n",
    "## Glossary\n",
    "\n",
    "Fill in this table either by copying this into your own markdown file or copy it into a spreadsheet if you feel that is easier to work with.\n",
    "\n",
    "| terminology     | explanation |\n",
    "| --------------- | ----------- |\n",
    "| sequence        |             |\n",
    "| list            |             |\n",
    "| tuple           |             |\n",
    "| set             |             |\n",
    "| range           |             |\n",
    "| indexing        |             |\n",
    "| slicing         |             |\n",
    "| comprehension   |             |\n",
    "| zip             |             |\n",
    "| enumermate      |             |\n",
    "| unpacking       |             |\n",
    "| membership test |             |"
   ]
  },
  {
   "cell_type": "markdown",
   "id": "4671fba1",
   "metadata": {},
   "source": []
  }
 ],
 "metadata": {
  "kernelspec": {
   "display_name": ".venv (3.12.10)",
   "language": "python",
   "name": "python3"
  },
  "language_info": {
   "codemirror_mode": {
    "name": "ipython",
    "version": 3
   },
   "file_extension": ".py",
   "mimetype": "text/x-python",
   "name": "python",
   "nbconvert_exporter": "python",
   "pygments_lexer": "ipython3",
   "version": "3.12.10"
  }
 },
 "nbformat": 4,
 "nbformat_minor": 5
}
